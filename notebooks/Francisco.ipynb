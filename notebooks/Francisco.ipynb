{
 "cells": [
  {
   "cell_type": "code",
   "execution_count": 7,
   "metadata": {},
   "outputs": [],
   "source": [
    "from pydrive.auth import GoogleAuth\n",
    "from pydrive.drive import GoogleDrive\n",
    "import pandas as pd\n",
    "import gdown\n",
    "import json\n",
    "import os\n",
    "import requests\n",
    "from bs4 import BeautifulSoup"
   ]
  },
  {
   "cell_type": "code",
   "execution_count": 12,
   "metadata": {},
   "outputs": [],
   "source": [
    "# ID de la carpeta en Google Drive\n",
    "folder_id = '1olnuKLjT8W2QnCUUwh8uDuTTKVZyxQ0Z'\n",
    "\n",
    "# URL de la carpeta compartida de Google Drive\n",
    "folder_url = f'https://drive.google.com/drive/folders/{folder_id}'\n",
    "\n",
    "# Obtén la lista de archivos en la carpeta\n",
    "response = requests.get(folder_url)\n",
    "soup = BeautifulSoup(response.text, 'html.parser')\n",
    "\n",
    "# Encuentra todos los enlaces que contienen los identificadores de los archivos\n",
    "file_links = [a['data-id'] for a in soup.find_all('a', {'data-id': True})]\n",
    "\n",
    "# Itera sobre cada archivo y lee su contenido JSON\n",
    "for file_id in file_links:\n",
    "    # Obtén el contenido del archivo JSON directamente desde Google Drive\n",
    "    file_url = f'https://drive.google.com/uc?id={file_id}'\n",
    "    response = requests.get(file_url)\n",
    "    \n",
    "    # Verifica si la solicitud fue exitosa antes de intentar analizar el contenido JSON\n",
    "    if response.status_code == 200:\n",
    "        json_content = json.loads(response.text)\n",
    "        # Imprime el contenido del archivo JSON\n",
    "        print(f'Contenido del archivo {file_id}:')\n",
    "        print(json_content)\n",
    "    else:\n",
    "        print(f'Error al obtener el archivo {file_id}. Estado de la solicitud: {response.status_code}')"
   ]
  },
  {
   "cell_type": "code",
   "execution_count": 14,
   "metadata": {},
   "outputs": [
    {
     "name": "stdout",
     "output_type": "stream",
     "text": [
      "Empty DataFrame\n",
      "Columns: []\n",
      "Index: []\n"
     ]
    }
   ],
   "source": [
    "# Crear un diccionario para almacenar los datos de los archivos JSON\n",
    "data_dict = {}\n",
    "\n",
    "# Iterar sobre cada archivo y leer su contenido JSON\n",
    "for file_id in file_links:\n",
    "    file_url = f'https://drive.google.com/uc?id={file_id}'\n",
    "    response = requests.get(file_url)\n",
    "    \n",
    "    if response.status_code == 200:\n",
    "        json_content = json.loads(response.text)\n",
    "        # Almacenar el contenido en el diccionario usando el ID del archivo como clave\n",
    "        data_dict[file_id] = json_content\n",
    "    else:\n",
    "        print(f'Error al obtener el archivo {file_id}. Estado de la solicitud: {response.status_code}')\n",
    "\n",
    "# Crear un DataFrame de Pandas desde el diccionario\n",
    "df = pd.DataFrame.from_dict(data_dict, orient='index')\n",
    "\n",
    "# Mostrar el DataFrame\n",
    "print(df)"
   ]
  }
 ],
 "metadata": {
  "kernelspec": {
   "display_name": "Python 3",
   "language": "python",
   "name": "python3"
  },
  "language_info": {
   "codemirror_mode": {
    "name": "ipython",
    "version": 3
   },
   "file_extension": ".py",
   "mimetype": "text/x-python",
   "name": "python",
   "nbconvert_exporter": "python",
   "pygments_lexer": "ipython3",
   "version": "3.11.7"
  }
 },
 "nbformat": 4,
 "nbformat_minor": 2
}
