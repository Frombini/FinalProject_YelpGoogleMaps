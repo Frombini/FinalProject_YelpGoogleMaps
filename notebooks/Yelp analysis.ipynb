{
 "cells": [
  {
   "cell_type": "code",
   "execution_count": 2,
   "metadata": {},
   "outputs": [],
   "source": [
    "import pandas as pd\n",
    "import numpy as np\n",
    "import os\n",
    "import math\n",
    "import shutil\n",
    "import sys"
   ]
  },
  {
   "cell_type": "markdown",
   "metadata": {},
   "source": [
    "Se cargan los datasets a dataframes, para checar a groso modo la estructura de los mismos, se pasan a un dataframe y se guardan en archivos parquets particionados para trabajar desde github con todo el equipo"
   ]
  },
  {
   "cell_type": "code",
   "execution_count": 11,
   "metadata": {},
   "outputs": [
    {
     "data": {
      "text/html": [
       "<div>\n",
       "<style scoped>\n",
       "    .dataframe tbody tr th:only-of-type {\n",
       "        vertical-align: middle;\n",
       "    }\n",
       "\n",
       "    .dataframe tbody tr th {\n",
       "        vertical-align: top;\n",
       "    }\n",
       "\n",
       "    .dataframe thead th {\n",
       "        text-align: right;\n",
       "    }\n",
       "</style>\n",
       "<table border=\"1\" class=\"dataframe\">\n",
       "  <thead>\n",
       "    <tr style=\"text-align: right;\">\n",
       "      <th></th>\n",
       "      <th>review_id</th>\n",
       "      <th>user_id</th>\n",
       "      <th>business_id</th>\n",
       "      <th>stars</th>\n",
       "      <th>useful</th>\n",
       "      <th>funny</th>\n",
       "      <th>cool</th>\n",
       "      <th>text</th>\n",
       "      <th>date</th>\n",
       "    </tr>\n",
       "  </thead>\n",
       "  <tbody>\n",
       "    <tr>\n",
       "      <th>0</th>\n",
       "      <td>KU_O5udG6zpxOg-VcAEodg</td>\n",
       "      <td>mh_-eMZ6K5RLWhZyISBhwA</td>\n",
       "      <td>XQfwVwDr-v0ZS3_CbbE5Xw</td>\n",
       "      <td>3.0</td>\n",
       "      <td>0</td>\n",
       "      <td>0</td>\n",
       "      <td>0</td>\n",
       "      <td>If you decide to eat here, just be aware it is...</td>\n",
       "      <td>2018-07-07 22:09:11</td>\n",
       "    </tr>\n",
       "    <tr>\n",
       "      <th>1</th>\n",
       "      <td>BiTunyQ73aT9WBnpR9DZGw</td>\n",
       "      <td>OyoGAe7OKpv6SyGZT5g77Q</td>\n",
       "      <td>7ATYjTIgM3jUlt4UM3IypQ</td>\n",
       "      <td>5.0</td>\n",
       "      <td>1</td>\n",
       "      <td>0</td>\n",
       "      <td>1</td>\n",
       "      <td>I've taken a lot of spin classes over the year...</td>\n",
       "      <td>2012-01-03 15:28:18</td>\n",
       "    </tr>\n",
       "    <tr>\n",
       "      <th>2</th>\n",
       "      <td>saUsX_uimxRlCVr67Z4Jig</td>\n",
       "      <td>8g_iMtfSiwikVnbP2etR0A</td>\n",
       "      <td>YjUWPpI6HXG530lwP-fb2A</td>\n",
       "      <td>3.0</td>\n",
       "      <td>0</td>\n",
       "      <td>0</td>\n",
       "      <td>0</td>\n",
       "      <td>Family diner. Had the buffet. Eclectic assortm...</td>\n",
       "      <td>2014-02-05 20:30:30</td>\n",
       "    </tr>\n",
       "    <tr>\n",
       "      <th>3</th>\n",
       "      <td>AqPFMleE6RsU23_auESxiA</td>\n",
       "      <td>_7bHUi9Uuf5__HHc_Q8guQ</td>\n",
       "      <td>kxX2SOes4o-D3ZQBkiMRfA</td>\n",
       "      <td>5.0</td>\n",
       "      <td>1</td>\n",
       "      <td>0</td>\n",
       "      <td>1</td>\n",
       "      <td>Wow!  Yummy, different,  delicious.   Our favo...</td>\n",
       "      <td>2015-01-04 00:01:03</td>\n",
       "    </tr>\n",
       "    <tr>\n",
       "      <th>4</th>\n",
       "      <td>Sx8TMOWLNuJBWer-0pcmoA</td>\n",
       "      <td>bcjbaE6dDog4jkNY91ncLQ</td>\n",
       "      <td>e4Vwtrqf-wpJfwesgvdgxQ</td>\n",
       "      <td>4.0</td>\n",
       "      <td>1</td>\n",
       "      <td>0</td>\n",
       "      <td>1</td>\n",
       "      <td>Cute interior and owner (?) gave us tour of up...</td>\n",
       "      <td>2017-01-14 20:54:15</td>\n",
       "    </tr>\n",
       "  </tbody>\n",
       "</table>\n",
       "</div>"
      ],
      "text/plain": [
       "                review_id                 user_id             business_id  \\\n",
       "0  KU_O5udG6zpxOg-VcAEodg  mh_-eMZ6K5RLWhZyISBhwA  XQfwVwDr-v0ZS3_CbbE5Xw   \n",
       "1  BiTunyQ73aT9WBnpR9DZGw  OyoGAe7OKpv6SyGZT5g77Q  7ATYjTIgM3jUlt4UM3IypQ   \n",
       "2  saUsX_uimxRlCVr67Z4Jig  8g_iMtfSiwikVnbP2etR0A  YjUWPpI6HXG530lwP-fb2A   \n",
       "3  AqPFMleE6RsU23_auESxiA  _7bHUi9Uuf5__HHc_Q8guQ  kxX2SOes4o-D3ZQBkiMRfA   \n",
       "4  Sx8TMOWLNuJBWer-0pcmoA  bcjbaE6dDog4jkNY91ncLQ  e4Vwtrqf-wpJfwesgvdgxQ   \n",
       "\n",
       "   stars  useful  funny  cool  \\\n",
       "0    3.0       0      0     0   \n",
       "1    5.0       1      0     1   \n",
       "2    3.0       0      0     0   \n",
       "3    5.0       1      0     1   \n",
       "4    4.0       1      0     1   \n",
       "\n",
       "                                                text                 date  \n",
       "0  If you decide to eat here, just be aware it is...  2018-07-07 22:09:11  \n",
       "1  I've taken a lot of spin classes over the year...  2012-01-03 15:28:18  \n",
       "2  Family diner. Had the buffet. Eclectic assortm...  2014-02-05 20:30:30  \n",
       "3  Wow!  Yummy, different,  delicious.   Our favo...  2015-01-04 00:01:03  \n",
       "4  Cute interior and owner (?) gave us tour of up...  2017-01-14 20:54:15  "
      ]
     },
     "execution_count": 11,
     "metadata": {},
     "output_type": "execute_result"
    }
   ],
   "source": [
    "dfreviews=pd.read_json(r'Yelp\\review-002.json',lines=True,engine='pyarrow',dtype_backend='pyarrow')\n",
    "dfreviews.head()"
   ]
  },
  {
   "cell_type": "code",
   "execution_count": 9,
   "metadata": {},
   "outputs": [],
   "source": [
    "dfreviews.to_parquet(r'parquets\\reviews_yelp.parquet')"
   ]
  },
  {
   "cell_type": "code",
   "execution_count": 13,
   "metadata": {},
   "outputs": [],
   "source": [
    "dfbusiness=pd.read_pickle(r'Yelp\\business.pkl')\n",
    "dfbusiness=dfbusiness.iloc[:,0:14]\n",
    "dfbusiness.to_parquet(r'parquets\\business.parquet')"
   ]
  },
  {
   "cell_type": "code",
   "execution_count": null,
   "metadata": {},
   "outputs": [],
   "source": [
    "dfbusiness['categories']=dfbusiness.categories.str.split(', ')"
   ]
  },
  {
   "cell_type": "code",
   "execution_count": null,
   "metadata": {},
   "outputs": [],
   "source": [
    "dfbusiness=dfbusiness.explode(column='categories')\n",
    "dfestado_categoria=dfbusiness.groupby(['state','categories'])[['state','categories']].size().reset_index(name='count')"
   ]
  },
  {
   "cell_type": "code",
   "execution_count": 56,
   "metadata": {},
   "outputs": [
    {
     "data": {
      "text/html": [
       "<div>\n",
       "<style scoped>\n",
       "    .dataframe tbody tr th:only-of-type {\n",
       "        vertical-align: middle;\n",
       "    }\n",
       "\n",
       "    .dataframe tbody tr th {\n",
       "        vertical-align: top;\n",
       "    }\n",
       "\n",
       "    .dataframe thead th {\n",
       "        text-align: right;\n",
       "    }\n",
       "</style>\n",
       "<table border=\"1\" class=\"dataframe\">\n",
       "  <thead>\n",
       "    <tr style=\"text-align: right;\">\n",
       "      <th></th>\n",
       "      <th>state</th>\n",
       "      <th>categories</th>\n",
       "      <th>count</th>\n",
       "    </tr>\n",
       "  </thead>\n",
       "  <tbody>\n",
       "    <tr>\n",
       "      <th>13</th>\n",
       "      <td>AB</td>\n",
       "      <td>Active Life, Arts &amp; Crafts, Nightlife, Shoppin...</td>\n",
       "      <td>1</td>\n",
       "    </tr>\n",
       "    <tr>\n",
       "      <th>16</th>\n",
       "      <td>AB</td>\n",
       "      <td>Active Life, Bars, Nightlife, Bowling, Venues ...</td>\n",
       "      <td>1</td>\n",
       "    </tr>\n",
       "    <tr>\n",
       "      <th>51</th>\n",
       "      <td>AB</td>\n",
       "      <td>Active Life, Nightlife, Sports Bars, Dog Parks...</td>\n",
       "      <td>1</td>\n",
       "    </tr>\n",
       "    <tr>\n",
       "      <th>85</th>\n",
       "      <td>AB</td>\n",
       "      <td>Adult Entertainment, Axe Throwing, Nightlife, ...</td>\n",
       "      <td>1</td>\n",
       "    </tr>\n",
       "    <tr>\n",
       "      <th>86</th>\n",
       "      <td>AB</td>\n",
       "      <td>Adult Entertainment, Nightlife</td>\n",
       "      <td>1</td>\n",
       "    </tr>\n",
       "    <tr>\n",
       "      <th>...</th>\n",
       "      <td>...</td>\n",
       "      <td>...</td>\n",
       "      <td>...</td>\n",
       "    </tr>\n",
       "    <tr>\n",
       "      <th>106488</th>\n",
       "      <td>TN</td>\n",
       "      <td>Wine Tours, Arts &amp; Entertainment, Nightlife, F...</td>\n",
       "      <td>1</td>\n",
       "    </tr>\n",
       "    <tr>\n",
       "      <th>106491</th>\n",
       "      <td>TN</td>\n",
       "      <td>Wineries, Arts &amp; Entertainment, Tapas/Small Pl...</td>\n",
       "      <td>1</td>\n",
       "    </tr>\n",
       "    <tr>\n",
       "      <th>106493</th>\n",
       "      <td>TN</td>\n",
       "      <td>Wineries, Food, Restaurants, Bars, Nightlife, ...</td>\n",
       "      <td>1</td>\n",
       "    </tr>\n",
       "    <tr>\n",
       "      <th>106495</th>\n",
       "      <td>TN</td>\n",
       "      <td>Wineries, Wine Tasting Room, Wine Bars, Food, ...</td>\n",
       "      <td>1</td>\n",
       "    </tr>\n",
       "    <tr>\n",
       "      <th>106499</th>\n",
       "      <td>TN</td>\n",
       "      <td>Women's Clothing, Community Service/Non-Profit...</td>\n",
       "      <td>1</td>\n",
       "    </tr>\n",
       "  </tbody>\n",
       "</table>\n",
       "<p>11451 rows × 3 columns</p>\n",
       "</div>"
      ],
      "text/plain": [
       "       state                                         categories  count\n",
       "13        AB  Active Life, Arts & Crafts, Nightlife, Shoppin...      1\n",
       "16        AB  Active Life, Bars, Nightlife, Bowling, Venues ...      1\n",
       "51        AB  Active Life, Nightlife, Sports Bars, Dog Parks...      1\n",
       "85        AB  Adult Entertainment, Axe Throwing, Nightlife, ...      1\n",
       "86        AB                     Adult Entertainment, Nightlife      1\n",
       "...      ...                                                ...    ...\n",
       "106488    TN  Wine Tours, Arts & Entertainment, Nightlife, F...      1\n",
       "106491    TN  Wineries, Arts & Entertainment, Tapas/Small Pl...      1\n",
       "106493    TN  Wineries, Food, Restaurants, Bars, Nightlife, ...      1\n",
       "106495    TN  Wineries, Wine Tasting Room, Wine Bars, Food, ...      1\n",
       "106499    TN  Women's Clothing, Community Service/Non-Profit...      1\n",
       "\n",
       "[11451 rows x 3 columns]"
      ]
     },
     "execution_count": 56,
     "metadata": {},
     "output_type": "execute_result"
    }
   ],
   "source": [
    "dfestado_categoria[dfestado_categoria['categories'].str.contains('Nightlife')]"
   ]
  },
  {
   "cell_type": "code",
   "execution_count": 7,
   "metadata": {},
   "outputs": [],
   "source": [
    "dftip=pd.read_json(r'Yelp\\tip.json',lines=True)\n",
    "dftip.to_parquet(r'parquets\\tip.parquet')"
   ]
  },
  {
   "cell_type": "code",
   "execution_count": 2,
   "metadata": {},
   "outputs": [],
   "source": [
    "dfusers=pl.read_parquet(r'Yelp\\user-001.parquet')\n",
    "dfusers=dfusers.to_pandas()\n",
    "dfusers.to_parquet(r'parquets\\users.parquet')"
   ]
  },
  {
   "cell_type": "code",
   "execution_count": 4,
   "metadata": {},
   "outputs": [],
   "source": [
    "dfusers=pd.read_parquet('parquets/users.parquet')"
   ]
  },
  {
   "cell_type": "code",
   "execution_count": 16,
   "metadata": {},
   "outputs": [],
   "source": [
    "dfcheckin=pd.read_json('Yelp\\checkin.json',lines=True)\n",
    "dfcheckin.to_parquet(r'parquets\\checkin.parquet')"
   ]
  },
  {
   "cell_type": "code",
   "execution_count": 3,
   "metadata": {},
   "outputs": [
    {
     "name": "stdout",
     "output_type": "stream",
     "text": [
      "<class 'pandas.core.frame.DataFrame'>\n",
      "Index: 150346 entries, 0 to 150345\n",
      "Data columns (total 28 columns):\n",
      " #   Column        Non-Null Count   Dtype \n",
      "---  ------        --------------   ----- \n",
      " 0   business_id   150346 non-null  object\n",
      " 1   name          150346 non-null  object\n",
      " 2   address       150346 non-null  object\n",
      " 3   city          150346 non-null  object\n",
      " 4   state         150343 non-null  object\n",
      " 5   postal_code   150346 non-null  object\n",
      " 6   latitude      150346 non-null  object\n",
      " 7   longitude     150346 non-null  object\n",
      " 8   stars         150346 non-null  object\n",
      " 9   review_count  150346 non-null  object\n",
      " 10  is_open       150346 non-null  object\n",
      " 11  attributes    136602 non-null  object\n",
      " 12  categories    150243 non-null  object\n",
      " 13  hours         127123 non-null  object\n",
      " 14  business_id   5 non-null       object\n",
      " 15  name          5 non-null       object\n",
      " 16  address       5 non-null       object\n",
      " 17  city          5 non-null       object\n",
      " 18  state         5 non-null       object\n",
      " 19  postal_code   5 non-null       object\n",
      " 20  latitude      5 non-null       object\n",
      " 21  longitude     5 non-null       object\n",
      " 22  stars         5 non-null       object\n",
      " 23  review_count  5 non-null       object\n",
      " 24  is_open       5 non-null       object\n",
      " 25  attributes    5 non-null       object\n",
      " 26  categories    5 non-null       object\n",
      " 27  hours         5 non-null       object\n",
      "dtypes: object(28)\n",
      "memory usage: 33.3+ MB\n"
     ]
    }
   ],
   "source": [
    "dfbusiness.info()"
   ]
  },
  {
   "cell_type": "code",
   "execution_count": 29,
   "metadata": {},
   "outputs": [
    {
     "name": "stdout",
     "output_type": "stream",
     "text": [
      "<class 'pandas.core.frame.DataFrame'>\n",
      "RangeIndex: 908915 entries, 0 to 908914\n",
      "Data columns (total 5 columns):\n",
      " #   Column            Non-Null Count   Dtype         \n",
      "---  ------            --------------   -----         \n",
      " 0   user_id           908915 non-null  object        \n",
      " 1   business_id       908915 non-null  object        \n",
      " 2   text              908915 non-null  object        \n",
      " 3   date              908915 non-null  datetime64[ns]\n",
      " 4   compliment_count  908915 non-null  int64         \n",
      "dtypes: datetime64[ns](1), int64(1), object(3)\n",
      "memory usage: 34.7+ MB\n"
     ]
    }
   ],
   "source": [
    "dftip.info()"
   ]
  },
  {
   "cell_type": "code",
   "execution_count": 31,
   "metadata": {},
   "outputs": [
    {
     "data": {
      "text/plain": [
       "user_id             0\n",
       "business_id         0\n",
       "text                0\n",
       "date                0\n",
       "compliment_count    0\n",
       "dtype: int64"
      ]
     },
     "execution_count": 31,
     "metadata": {},
     "output_type": "execute_result"
    }
   ],
   "source": [
    "dftip.isna().sum()"
   ]
  },
  {
   "cell_type": "code",
   "execution_count": 36,
   "metadata": {},
   "outputs": [
    {
     "name": "stdout",
     "output_type": "stream",
     "text": [
      "<class 'pandas.core.frame.DataFrame'>\n",
      "RangeIndex: 131930 entries, 0 to 131929\n",
      "Data columns (total 2 columns):\n",
      " #   Column       Non-Null Count   Dtype \n",
      "---  ------       --------------   ----- \n",
      " 0   business_id  131930 non-null  object\n",
      " 1   date         131930 non-null  object\n",
      "dtypes: object(2)\n",
      "memory usage: 2.0+ MB\n"
     ]
    }
   ],
   "source": [
    "dfcheckin.info()"
   ]
  },
  {
   "cell_type": "code",
   "execution_count": 14,
   "metadata": {},
   "outputs": [
    {
     "data": {
      "text/plain": [
       "94.45473184089833"
      ]
     },
     "execution_count": 14,
     "metadata": {},
     "output_type": "execute_result"
    }
   ],
   "source": [
    "(dfusers['elite']=='').sum()/len(dfusers)*100"
   ]
  },
  {
   "cell_type": "code",
   "execution_count": null,
   "metadata": {},
   "outputs": [],
   "source": [
    "dfusers.info()"
   ]
  },
  {
   "cell_type": "markdown",
   "metadata": {},
   "source": [
    "# Partición para github"
   ]
  },
  {
   "cell_type": "code",
   "execution_count": 82,
   "metadata": {},
   "outputs": [],
   "source": [
    "os.makedirs('FinalProject_YelpGoogleMaps\\\\datasets\\\\parquets')"
   ]
  },
  {
   "cell_type": "code",
   "execution_count": 83,
   "metadata": {},
   "outputs": [],
   "source": [
    "for a in os.listdir('parquets'):\n",
    "    if a =='users.parquet':\n",
    "        continue\n",
    "    tamaño_archivo=round((os.path.getsize('parquets\\\\'+a))/1024,2)\n",
    "    if tamaño_archivo>100000:\n",
    "        particiones=math.ceil(tamaño_archivo/100000)+2\n",
    "        df=pd.read_parquet('parquets\\\\'+a)\n",
    "        particion=np.array_split(df,particiones)\n",
    "        for n,d in enumerate(particion):\n",
    "            d.to_parquet('FinalProject_YelpGoogleMaps\\\\datasets\\\\parquets\\\\'+a.split('.')[0]+str(n+1).zfill(2)+'.parquet',index=False)\n",
    "    else:\n",
    "        if a.split('.')[-1]=='parquet':\n",
    "            shutil.copy('parquets\\\\'+a,'FinalProject_YelpGoogleMaps\\\\datasets\\\\parquets\\\\'+a)\n",
    "        "
   ]
  },
  {
   "cell_type": "code",
   "execution_count": 84,
   "metadata": {},
   "outputs": [],
   "source": [
    "os.mkdir(path='FinalProject_YelpGoogleMaps\\\\datasets\\\\parquets\\\\reviews-Google')"
   ]
  },
  {
   "cell_type": "code",
   "execution_count": 87,
   "metadata": {},
   "outputs": [],
   "source": [
    "for a in os.listdir('parquets\\\\reviews-Google'):\n",
    "    tamaño_archivo=round((os.path.getsize('parquets\\\\reviews-Google\\\\'+a))/1024,2)\n",
    "    if tamaño_archivo>100000:\n",
    "        particiones=math.ceil(tamaño_archivo/100000)+1\n",
    "        df=pd.read_parquet('parquets\\\\reviews-Google\\\\'+a)\n",
    "        particion=np.array_split(df,particiones)\n",
    "        for n,d in enumerate(particion):\n",
    "            d.to_parquet('FinalProject_YelpGoogleMaps\\\\datasets\\\\parquets\\\\reviews-Google\\\\'+a.split('.')[0]+str(n+1).zfill(2)+'.parquet',index=False)\n",
    "    else:\n",
    "        shutil.copy('parquets\\\\reviews-Google\\\\'+a,'FinalProject_YelpGoogleMaps\\\\datasets\\\\parquets\\\\reviews-Google\\\\'+a)"
   ]
  },
  {
   "cell_type": "code",
   "execution_count": 88,
   "metadata": {},
   "outputs": [],
   "source": [
    "dfusers = pd.read_parquet(r'parquets\\users.parquet')"
   ]
  },
  {
   "cell_type": "code",
   "execution_count": 89,
   "metadata": {},
   "outputs": [],
   "source": [
    "particion=np.array_split(dfusers,30)\n",
    "def particionar(df):\n",
    "        global contador\n",
    "        global pesodf\n",
    "        peso=(sys.getsizeof(df)/1024)/1024\n",
    "        tamaño2=math.ceil(peso/100)\n",
    "        particiones=np.array_split(df,tamaño2)\n",
    "        for a in particiones:\n",
    "             tamaño3=(sys.getsizeof(a)/1024)/1024\n",
    "             if tamaño3<100:\n",
    "                a.to_parquet('FinalProject_YelpGoogleMaps\\\\datasets\\\\parquets\\\\users'+str(contador).zfill(2)+'.parquet',index=False)\n",
    "                contador+=1\n",
    "                #pesodf+=(sys.getsizeof(a)/1024)/1024\n",
    "             else:\n",
    "                particionar(a)   \n",
    "        \n",
    "contador=1\n",
    "pesodf=0\n",
    "for b in particion:\n",
    "    tamaño= sys.getsizeof(b)/1024/1024\n",
    "    if tamaño>100:\n",
    "        particionar(b)\n",
    "    else:\n",
    "        b.to_parquet('FinalProject_YelpGoogleMaps\\\\datasets\\\\parquets\\\\users'+str(contador).zfill(2)+'.parquet',index=False)\n",
    "        contador+=1"
   ]
  },
  {
   "cell_type": "code",
   "execution_count": 6,
   "metadata": {},
   "outputs": [],
   "source": [
    "# Ruta al directorio que contiene los archivos Parquet particionados\n",
    "ruta_directorio = '../datasets/parquets/business.parquet'\n",
    "\n",
    "# Usa pyarrow para leer los archivos Parquet particionados\n",
    "df = pd.read_parquet(ruta_directorio, engine='pyarrow')"
   ]
  },
  {
   "cell_type": "code",
   "execution_count": 8,
   "metadata": {},
   "outputs": [
    {
     "data": {
      "text/html": [
       "<div>\n",
       "<style scoped>\n",
       "    .dataframe tbody tr th:only-of-type {\n",
       "        vertical-align: middle;\n",
       "    }\n",
       "\n",
       "    .dataframe tbody tr th {\n",
       "        vertical-align: top;\n",
       "    }\n",
       "\n",
       "    .dataframe thead th {\n",
       "        text-align: right;\n",
       "    }\n",
       "</style>\n",
       "<table border=\"1\" class=\"dataframe\">\n",
       "  <thead>\n",
       "    <tr style=\"text-align: right;\">\n",
       "      <th></th>\n",
       "      <th>business_id</th>\n",
       "      <th>name</th>\n",
       "      <th>address</th>\n",
       "      <th>city</th>\n",
       "      <th>state</th>\n",
       "      <th>postal_code</th>\n",
       "      <th>latitude</th>\n",
       "      <th>longitude</th>\n",
       "      <th>stars</th>\n",
       "      <th>review_count</th>\n",
       "      <th>is_open</th>\n",
       "      <th>attributes</th>\n",
       "      <th>categories</th>\n",
       "      <th>hours</th>\n",
       "    </tr>\n",
       "  </thead>\n",
       "  <tbody>\n",
       "    <tr>\n",
       "      <th>0</th>\n",
       "      <td>Pns2l4eNsfO8kk83dixA6A</td>\n",
       "      <td>Abby Rappoport, LAC, CMQ</td>\n",
       "      <td>1616 Chapala St, Ste 2</td>\n",
       "      <td>Santa Barbara</td>\n",
       "      <td>None</td>\n",
       "      <td>93101</td>\n",
       "      <td>34.426679</td>\n",
       "      <td>-119.711197</td>\n",
       "      <td>5.0</td>\n",
       "      <td>7</td>\n",
       "      <td>0</td>\n",
       "      <td>{'AcceptsInsurance': None, 'AgesAllowed': None...</td>\n",
       "      <td>Doctors, Traditional Chinese Medicine, Naturop...</td>\n",
       "      <td>None</td>\n",
       "    </tr>\n",
       "    <tr>\n",
       "      <th>1</th>\n",
       "      <td>mpf3x-BjTdTEA3yCZrAYPw</td>\n",
       "      <td>The UPS Store</td>\n",
       "      <td>87 Grasso Plaza Shopping Center</td>\n",
       "      <td>Affton</td>\n",
       "      <td>None</td>\n",
       "      <td>63123</td>\n",
       "      <td>38.551126</td>\n",
       "      <td>-90.335695</td>\n",
       "      <td>3.0</td>\n",
       "      <td>15</td>\n",
       "      <td>1</td>\n",
       "      <td>{'AcceptsInsurance': None, 'AgesAllowed': None...</td>\n",
       "      <td>Shipping Centers, Local Services, Notaries, Ma...</td>\n",
       "      <td>{'Friday': '8:0-18:30', 'Monday': '0:0-0:0', '...</td>\n",
       "    </tr>\n",
       "    <tr>\n",
       "      <th>2</th>\n",
       "      <td>tUFrWirKiKi_TAnsVWINQQ</td>\n",
       "      <td>Target</td>\n",
       "      <td>5255 E Broadway Blvd</td>\n",
       "      <td>Tucson</td>\n",
       "      <td>None</td>\n",
       "      <td>85711</td>\n",
       "      <td>32.223236</td>\n",
       "      <td>-110.880452</td>\n",
       "      <td>3.5</td>\n",
       "      <td>22</td>\n",
       "      <td>0</td>\n",
       "      <td>{'AcceptsInsurance': None, 'AgesAllowed': None...</td>\n",
       "      <td>Department Stores, Shopping, Fashion, Home &amp; G...</td>\n",
       "      <td>{'Friday': '8:0-23:0', 'Monday': '8:0-22:0', '...</td>\n",
       "    </tr>\n",
       "    <tr>\n",
       "      <th>3</th>\n",
       "      <td>MTSW4McQd7CbVtyjqoe9mw</td>\n",
       "      <td>St Honore Pastries</td>\n",
       "      <td>935 Race St</td>\n",
       "      <td>Philadelphia</td>\n",
       "      <td>CA</td>\n",
       "      <td>19107</td>\n",
       "      <td>39.955505</td>\n",
       "      <td>-75.155564</td>\n",
       "      <td>4.0</td>\n",
       "      <td>80</td>\n",
       "      <td>1</td>\n",
       "      <td>{'AcceptsInsurance': None, 'AgesAllowed': None...</td>\n",
       "      <td>Restaurants, Food, Bubble Tea, Coffee &amp; Tea, B...</td>\n",
       "      <td>{'Friday': '7:0-21:0', 'Monday': '7:0-20:0', '...</td>\n",
       "    </tr>\n",
       "  </tbody>\n",
       "</table>\n",
       "</div>"
      ],
      "text/plain": [
       "              business_id                      name  \\\n",
       "0  Pns2l4eNsfO8kk83dixA6A  Abby Rappoport, LAC, CMQ   \n",
       "1  mpf3x-BjTdTEA3yCZrAYPw             The UPS Store   \n",
       "2  tUFrWirKiKi_TAnsVWINQQ                    Target   \n",
       "3  MTSW4McQd7CbVtyjqoe9mw        St Honore Pastries   \n",
       "\n",
       "                           address           city state postal_code  \\\n",
       "0           1616 Chapala St, Ste 2  Santa Barbara  None       93101   \n",
       "1  87 Grasso Plaza Shopping Center         Affton  None       63123   \n",
       "2             5255 E Broadway Blvd         Tucson  None       85711   \n",
       "3                      935 Race St   Philadelphia    CA       19107   \n",
       "\n",
       "    latitude   longitude  stars  review_count  is_open  \\\n",
       "0  34.426679 -119.711197    5.0             7        0   \n",
       "1  38.551126  -90.335695    3.0            15        1   \n",
       "2  32.223236 -110.880452    3.5            22        0   \n",
       "3  39.955505  -75.155564    4.0            80        1   \n",
       "\n",
       "                                          attributes  \\\n",
       "0  {'AcceptsInsurance': None, 'AgesAllowed': None...   \n",
       "1  {'AcceptsInsurance': None, 'AgesAllowed': None...   \n",
       "2  {'AcceptsInsurance': None, 'AgesAllowed': None...   \n",
       "3  {'AcceptsInsurance': None, 'AgesAllowed': None...   \n",
       "\n",
       "                                          categories  \\\n",
       "0  Doctors, Traditional Chinese Medicine, Naturop...   \n",
       "1  Shipping Centers, Local Services, Notaries, Ma...   \n",
       "2  Department Stores, Shopping, Fashion, Home & G...   \n",
       "3  Restaurants, Food, Bubble Tea, Coffee & Tea, B...   \n",
       "\n",
       "                                               hours  \n",
       "0                                               None  \n",
       "1  {'Friday': '8:0-18:30', 'Monday': '0:0-0:0', '...  \n",
       "2  {'Friday': '8:0-23:0', 'Monday': '8:0-22:0', '...  \n",
       "3  {'Friday': '7:0-21:0', 'Monday': '7:0-20:0', '...  "
      ]
     },
     "execution_count": 8,
     "metadata": {},
     "output_type": "execute_result"
    }
   ],
   "source": [
    "df.head(4)"
   ]
  },
  {
   "cell_type": "code",
   "execution_count": 17,
   "metadata": {},
   "outputs": [
    {
     "name": "stdout",
     "output_type": "stream",
     "text": [
      "['Doctors', ' Traditional Chinese Medicine', ' Naturopathic/Holistic', ' Acupuncture', ' Health & Medical', ' Nutritionists', 'Shipping Centers', ' Local Services', ' Notaries', ' Mailbox Centers', ' Printing Services', 'Department Stores', ' Shopping', ' Fashion', ' Home & Garden', ' Electronics', ' Furniture Stores', 'Restaurants', ' Food', ' Bubble Tea', ' Coffee & Tea', ' Bakeries', 'Brewpubs', ' Breweries', 'Burgers', ' Fast Food', ' Sandwiches', ' Ice Cream & Frozen Yogurt', ' Restaurants', 'Sporting Goods', ' Shoe Stores', ' Sports Wear', ' Accessories', 'Synagogues', ' Religious Organizations', 'Pubs', ' Italian', ' Bars', ' American (Traditional)', ' Nightlife', ' Greek', 'Ice Cream & Frozen Yogurt', ' Burgers', 'Vietnamese', ' Food Trucks', 'American (Traditional)', ' Diners', ' Breakfast & Brunch', 'General Dentistry', ' Dentists', ' Cosmetic Dentists', 'Food', ' Delis', 'Sushi Bars', ' Japanese', 'Automotive', ' Auto Parts & Supplies', ' Auto Customization', 'Vape Shops', ' Tobacco Shops', ' Personal Shopping', ' Vitamins & Supplements', ' Car Rental', ' Hotels & Travel', ' Truck Rental', 'Korean', 'Coffee & Tea', ' Cafes', ' Wine Bars', 'Shopping', ' Books', ' Mags', ' Music & Video', ' Bookstores', 'Steakhouses', ' Asian Fusion', 'Hot Dogs', 'Pet Services', ' Pet Groomers', ' Pets', ' Veterinarians', \"Women's Clothing\", \" Children's Clothing\", \" Men's Clothing\", ' Adult', ' Seafood', 'Cocktail Bars', 'Pizza', ' Chicken Wings', 'Trampoline Parks', ' Active Life', ' Salad', ' Soup', 'Dance Wear', ' Arts & Entertainment', ' Social Clubs', ' Performing Arts', ' Sporting Goods', 'Event Planning & Services', ' Hotels', 'Eatertainment', ' Brewpubs', 'Mobile Phones', ' Telecommunications', ' Mobile Phone Accessories', ' IT Services & Computer Repair', 'Museums', ' Kids Activities', ' Education', ' Playgrounds', \" Children's Museums\", 'Musicians', ' DJs', ' Karaoke', ' Event Planning & Services', 'Hair Salons', ' Hair Extensions', ' Beauty & Spas', ' Wigs', ' Specialty Food', ' Steakhouses', ' Pizza', ' Pasta Shops', 'DUI Law', ' Professional Services', ' Lawyers', ' Criminal Defense Law', 'Health & Medical', ' Laser Hair Removal', ' Doctors', ' Hair Removal', ' Chiropractors', ' Weight Loss Centers', ' Sports Medicine', ' Medical Spas', ' Skin Care', 'Fashion', ' Department Stores', ' Candle Stores', ' Home Decor', ' Chinese', 'Arts & Entertainment', ' Music Venues', ' Internet Service Providers', ' Jazz & Blues', ' Internet Cafes', ' Caterers', 'Active Life', ' Fitness & Instruction', ' Trainers', ' Gyms', ' Yoga', 'Real Estate Agents', ' Home Services', ' Real Estate', 'Specialty Food', ' Health Markets', ' Pet Adoption', ' Grocery', ' Convenience Stores', 'Hotels', 'Vitamins & Supplements', ' Juice Bars & Smoothies', 'Ophthalmologists', ' Eyewear & Opticians', ' Optometrists', ' American (New)', 'Sports Bars', 'Gastropubs', ' Cocktail Bars', ' Beer Bar', 'Uniforms', 'Seafood', ' Pubs', 'Hotels & Travel', ' Tours', ' Local Flavor', 'Local Services', ' Appliances & Repair', 'Towing', ' Automotive', ' Motorcycle Rental', ' Motorcycle Gear', 'Chocolatiers & Shops', ' Candy Stores', 'Food Trucks', ' Baby Gear & Furniture', 'Banks & Credit Unions', ' Financial Services', ' Sports Bars', ' Personal Care Services', ' Massage', ' Nail Salons', 'Tabletop Games', 'Italian', ' Lounges', ' Wraps', 'Festivals', ' Beer', ' Wine & Spirits', ' Gas Stations', ' Sushi Bars', 'Keys & Locksmiths', 'Pet Groomers', ' Pet Sitting', ' Pet Services', 'Nightlife', ' Gastropubs', ' Venues & Event Spaces', 'Juice Bars & Smoothies', ' Fruits & Veggies', 'Home Decor', ' Antiques', ' Body Shops', 'Masonry/Concrete', ' Gardeners', ' Lawn Services', ' Tree Services', ' Landscape Architects', ' Contractors', ' Landscaping', 'Karaoke', ' Party & Event Planning', 'Real Estate', ' Mortgage Brokers', ' Mortgage Lenders', 'American (New)', 'Fitness & Instruction', ' Physical Therapy', ' Jewelry', ' Cajun/Creole', 'Mexican', 'Printing Services', ' Shipping Centers', ' Couriers & Delivery Services', ' French', ' Moroccan', ' Mediterranean', 'Flooring', ' Handyman', 'Pest Control', ' Auction Houses', 'Bars', 'Eyewear & Opticians', ' Ophthalmologists', ' Beer Gardens', ' Wine Tours', ' Beer Tours', 'Grocery', ' Drugstores', ' Discount Store', 'Public Services & Government', ' Libraries', 'Flowers & Gifts', ' Embroidery & Crochet', ' Uniforms', ' Arts & Crafts', ' Gift Shops', 'Couriers & Delivery Services', ' Food Delivery Services', 'Parenting Classes', ' Maternity Wear', ' Specialty Schools', ' Laundry Services', ' Child Care & Day Care', 'Furniture Stores', 'Sandwiches', 'Barbers', 'Home Services', ' Glass & Mirrors', ' Door Sales/Installation', 'Hardware Stores', ' Hot Tub & Pool', ' Pool & Hot Tub Service', 'Tires', ' Auto Repair', ' Oil Change Stations', 'Medical Centers', ' Diagnostic Services', ' Orthopedists', ' Spine Surgeons', ' Diagnostic Imaging', 'Custom Cakes', ' Desserts', ' Cupcakes', 'Discount Store', ' Mobile Phones', 'Car Wash', ' Auto Detailing', 'Auto Repair', ' Tires', 'Pain Management', ' Osteopathic Physicians', 'Title Loans', ' Installment Loans', ' Check Cashing/Pay-day Loans', ' Organic Stores', 'Desserts', ' Do-It-Yourself Food', ' Patisserie/Cake Shop', 'Live/Raw Food', ' Real Estate Agents', 'Buses', ' Transportation', ' Bus Tours', ' Travel Agents', ' Travel Services', ' Airport Shuttles', ' Public Transportation', ' Filipino', ' Internal Medicine', 'Pets', ' Toy Stores', ' Hobby Shops', ' Comic Books', 'Painters', ' Decks & Railing', ' Pressure Washers', ' Bed & Breakfast', 'Massage', ' Mexican', 'Body Shops', 'Art Classes', ' Knitting Supplies', ' Art Supplies', 'Gas Stations', ' Towing', ' Barbeque', ' Urgent Care', ' Basketball Courts', ' Stadiums & Arenas', ' Professional Sports Teams', 'Pharmacy', 'Beauty & Spas', ' Tattoo', 'Home & Garden', ' Music & DVDs', ' Video Game Stores', 'Oil Change Stations', 'Waxing', ' Eyelash Service', 'Weight Loss Centers', ' Life Coach', ' Meditation Centers', 'Home Cleaning', ' Office Cleaning', ' Window Washing', ' Parks', ' Swimming Pools', ' Hair Stylists', ' Hair Salons', 'Dog Parks', 'Venues & Event Spaces', ' Museums', ' Cinema', ' Resorts', ' Day Spas', ' Shaved Ice', ' Appliances', 'Japanese', 'Fast Food', ' Chicken Shop', 'Wildlife Control', ' Pest Control', 'Apartments', ' Roofing', ' Vacation Rentals', ' Condominiums', ' Thai', 'Auto Glass Services', ' Windshield Installation & Repair', ' Bagels', 'Endodontists', ' General Dentistry', 'Plumbing', 'Carpeting', ' Flooring', ' Rugs', ' Southern', ' Apartments', 'Makeup Artists', ' Medical Centers', ' Obstetricians & Gynecologists', 'Toy Stores', 'Carpet Cleaning', ' Home Cleaning', ' Carpeting', 'Donuts', 'Motorcycle Rental', ' Hiking', ' Mountain Biking', ' ATV Rentals/Tours', ' RV Rental', 'Drugstores', 'Hawaiian', ' Street Vendors', ' Irish', 'Trailer Dealers', ' RV Repair', ' Trailer Repair', ' RV Dealers', ' Propane', ' Outdoor Gear', ' Pediatricians', 'Professional Services', ' Officiants', ' Wedding Planning', ' Hookah Bars', ' Car Wash', ' Auto Glass Services', 'Car Dealers', ' Used Car Dealers', ' Vegan', ' Party Supplies', ' Wholesalers', 'Salad', ' Soul Food', 'Appliances', ' Mattresses', ' Tapas/Small Plates', 'Local Flavor', ' Team Building Activities', ' Walking Tours', ' Scavenger Hunts', 'Machine Shops', 'Shanghainese', ' Szechuan', ' Waxing', 'Cupcakes', 'Irish Pub', ' Coffee Roasteries', ' Pharmacy', ' Endocrinologists', ' Dermatologists', ' Golf Lessons', ' Golf Equipment', ' Golf', ' Fishing', ' Hunting & Fishing Supplies', 'Diagnostic Imaging', ' Rest Stops', 'Professional Sports Teams', 'Chinese', 'Mountain Biking', ' Bike Repair/Maintenance', ' Bikes', ' Caribbean', ' Trinidadian', 'Tex-Mex', ' Piercing', 'Orthodontists', ' Oral Surgeons', ' Ethnic Food', 'Bike Rentals', ' Gluten-Free', ' Makeup Artists', 'Tours', ' Food Tours', 'Photography Stores & Services', ' Art Galleries', 'Latin American', 'Caribbean', ' Blow Dry/Out Services', ' Eyebrow Services', \"Men's Hair Salons\", ' Comfort Food', 'Performing Arts', ' Donuts', ' Windows Installation', 'Arts & Crafts', ' Costumes', 'Nail Salons', ' Refinishing Services', 'Shoe Repair', ' Sewing & Alterations', 'Thai', ' Vietnamese', \"Men's Clothing\", \" Women's Clothing\", 'Radiologists', 'Ethnic Food', ' Tanning', ' Acai Bowls', ' Vegetarian', ' Pet Training', ' Pakistani', ' Indian', ' Halal', 'Street Vendors', ' Food Stands', ' Public Art', 'Education', ' Preschools', ' Elementary Schools', 'Convenience Stores', 'Playgrounds', 'Sewing & Alterations', ' Dry Cleaning & Laundry', 'Animal Shelters', 'Chicken Wings', ' Seafood Markets', ' Movers', ' Self Storage', 'Financial Services', ' Insurance', ' Auto Insurance', ' Registration Services', ' Hot Dogs', 'Guest Houses', 'Electronics', ' Musical Instruments & Teachers', 'Churches', 'Historical Tours', 'Child Care & Day Care', ' Community Service/Non-Profit', ' Family Practice', ' Counseling & Mental Health', ' Bowling', 'Car Rental', ' Countertop Installation', ' Cabinetry', ' Kitchen & Bath', 'Day Spas', ' Chocolatiers & Shops', ' Building Supplies', ' Interior Design', ' Military Surplus', ' Buffets', ' Medical Supplies', ' Laser Eye Surgery/Lasik', ' Keys & Locksmiths', ' Hair Loss Centers', ' Barbers', 'Barbeque', ' Walk-in Clinics', ' Empanadas', 'Bowling', ' Hardware Stores', ' Nurseries & Gardening', ' Middle Eastern', ' Wholesale Stores', ' Brewing Supplies', ' Wineries', ' Dog Parks', ' Cosmetology Schools', ' Tacos', ' Escape Games', 'Pet Sitting', 'Community Service/Non-Profit', ' Bike Rentals', ' Vape Shops', ' Head Shops', 'Puerto Rican', ' Latin American', 'Self Storage', 'Auto Parts & Supplies', ' Pet Stores', ' Cosmetics & Beauty Supply', 'Caterers', ' Irrigation', 'Windows Installation', ' Shutters', ' Siding', 'Seafood Markets', 'Watches', ' Jewelry Repair', ' Bridal', ' Parasailing', ' Beaches', ' Boating', 'Eyebrow Services', 'Carpenters', ' Wallpapering', ' Painters', 'Baby Gear & Furniture', ' Shopping Centers', ' Heating & Air Conditioning/HVAC', ' Whiskey Bars', 'Session Photography', ' Photographers', ' Pet Photography', ' Real Estate Services', ' Real Estate Photography', ' Event Photography', 'Books', ' Electronics Repair', ' Mobile Phone Repair', ' Wildlife Control', ' Gutter Services', ' Insulation Installation', 'Appliances & Repair', ' Shoe Repair', ' Car Dealers', 'Building Supplies', 'Hospitals', ' Leather Goods', ' Furniture Reupholstery', ' Honduran', ' Security Systems', ' Security Services', \" Men's Hair Salons\", 'Contractors', ' Septic Services', ' Roadside Assistance', ' Junk Removal & Hauling', ' Ramen', 'Preschools', 'Party & Event Planning', ' Cannabis Collective', ' Cannabis Clinics', ' Cannabis Dispensaries', 'Home Window Tinting', ' Car Window Tinting', ' Vehicle Wraps', ' Transmission Repair', 'Antiques', 'Indian', 'Veterinarians', 'Specialty Schools', ' Sports Clubs', ' Arcades', ' Recreation Centers', ' Art Schools', 'Car Stereo Installation', ' Bespoke Clothing', ' Dry Cleaning', 'Landscaping', 'Bagels', ' Permanent Makeup', ' Cryotherapy', ' Challenge Courses', 'Beer', ' Props', 'Dry Cleaning & Laundry', 'Cajun/Creole', ' Noodles', ' Spanish', 'Mediterranean', 'Shoe Stores', ' Formal Wear', 'Tattoo', 'Hair Extensions', ' Festivals', ' Flowers & Gifts', 'Pakistani', ' Farmers Market', 'Breakfast & Brunch', ' Pediatric Dentists', 'Nutritionists', ' Massage Therapy', 'Bakeries', ' Imported Food', 'Walking Tours', ' Historical Tours', 'Diners', ' Cheesesteaks', ' Garage Door Services', 'Pretzels', ' African', ' Florists', ' University Housing', ' Property Management', 'Movers', ' Furniture Assembly', ' Pool & Billiards', ' Furniture Repair', 'Party Supplies', ' Party Equipment Rentals', 'Recreation Centers', ' Virtual Reality Centers', 'Delis', ' Kebab', ' Turkish', 'Cosmetic Dentists', ' Endodontists', ' Orthodontists', 'Amusement Parks', ' Laser Tag', 'Florists', 'Southern', ' Race Tracks', ' Mini Golf', ' Go Karts', ' Community Centers', ' Day Camps', ' Public Services & Government', ' Summer Camps', 'Parks', 'Video Game Stores', 'Metal Fabricators', 'Awnings', ' Patio Coverings', ' Paint & Sip', 'Urgent Care', 'Windshield Installation & Repair', ' Home Window Tinting', 'Dry Cleaning', ' Taxis', 'Signmaking', 'Guns & Ammo', 'Vegan', ' Tea Rooms', 'Kebab', ' Lebanese', 'Yoga', ' Pilates', ' Barre Classes', ' Recycling Center', 'Pasta Shops', 'Gelato', ' Carpet Cleaning', 'Garage Door Services', 'Asian Fusion', 'Hair Removal', ' Sugaring', ' Demolition Services', ' Carpet Installation', ' Tiling', 'University Housing', 'Airport Shuttles', ' Limos', 'Jewelry', ' Bar Crawl', ' Dive Bars', ' Haunted Houses', ' Fences & Gates', ' Home Inspectors', ' Skate Parks', ' Tubing', ' Ski Resorts', ' Guns & Ammo', ' Creperies', ' Gelato', 'Tutoring Centers', ' Test Preparation', ' Adult Education', ' Laundromat', ' Dance Studios', 'Golf', 'Skin Care', 'Limos', ' Party Bus Rentals', 'Day Camps', 'Jewelry Repair', ' Appraisal Services', 'Wigs', ' Fabric Stores', 'Lice Services', ' Dental Hygienists', ' Periodontists', 'Heating & Air Conditioning/HVAC', 'Commercial Real Estate', ' Poke', ' Plumbing', ' Service Stations', 'Chiropractors', ' Watches', ' Estheticians', 'Hiking', 'Shaved Ice', 'Soup', ' Wheel & Rim Repair', ' Hospitals', 'Criminal Defense Law', ' Personal Injury Law', 'Radio Stations', ' Mass Media', ' Adult Entertainment', ' Lingerie', ' Dance Clubs', ' Falafel', 'Tacos', ' Live/Raw Food', 'Travel Services', 'Swimming Lessons/Schools', 'Jet Skis', 'Gift Shops', ' Pretzels', 'Boat Charters', ' Boat Tours', ' Rafting/Kayaking', ' Shared Office Spaces', ' Korean', ' Psychics', ' Supernatural Readings', ' Psychic Mediums', ' Watch Repair', 'Fertility', ' Irish Pub', 'Farmers Market', ' Engraving', ' Graphic Design', ' Trophy Shops', ' Office Equipment', 'Mattresses', 'Hair Stylists', 'Accessories', ' Motorcycle Repair', 'Tapas Bars', ' Outlet Stores', 'Event Photography', ' Session Photography', 'Pawn Shops', ' Gold Buyers', ' Outdoor Furniture Stores', 'Buffets', 'Laundromat', ' Commercial Real Estate', ' Pawn Shops', 'Gutter Services', ' Tex-Mex', 'Tobacco Shops', ' Paint Stores', 'Breweries', ' Fish & Chips', 'Trinidadian', 'Smog Check Stations', 'Dog Walkers', ' Reiki', 'Teeth Whitening', 'Comfort Food', ' Souvenir Shops', ' Thrift Stores', ' Donation Center', ' Used', ' Vintage & Consignment', 'Ranches', ' Farms', ' Kombucha', 'Auto Detailing', ' International Grocery', ' Taxidermy', ' Meat Shops', 'Property Management', ' RV Parks', ' Campgrounds', 'Music & DVDs', ' Vinyl Records', ' Pool Halls', ' Skating Rinks', 'Rehabilitation Center', ' Kitchen Supplies', 'Bridal', ' Hydroponics', ' Police Departments', 'Greek', 'Tree Services', ' Videos & Video Game Rental', ' Home Staging', 'Trainers', ' Boot Camps', ' Peruvian', ' Herbs & Spices', 'Butcher', 'IT Services & Computer Repair', 'Gastroenterologist', ' Prosthodontists', 'Ramen', 'Music Venues', 'Cosmetics & Beauty Supply', 'Musical Instruments & Teachers', 'Hookah Bars', ' Water Heater Installation/Repair', ' Swimwear', 'Scavenger Hunts', 'Kitchen & Bath', 'Employment Law', ' Workers Compensation Law', ' Water Delivery', 'Cafes', ' Smog Check Stations', ' Canadian (New)', 'Packing Supplies', ' Packing Services', 'Food Delivery Services', 'Laundry Services', 'Landmarks & Historical Buildings', ' Spiritual Shop', ' Religious Items', 'Water Heater Installation/Repair', ' Lighting Stores', 'Ukrainian', ' Herbal Shops', ' Commercial Truck Repair', ' Farm Equipment Repair', 'Naturopathic/Holistic', ' Neurologist', ' Alternative Medicine', ' Medical Cannabis Referrals', 'Security Systems', ' Data Recovery', ' Home Theatre Installation', ' Home Automation', ' TV Mounting', ' Pet Boarding', ' Malaysian', ' Burmese', 'Real Estate Services', ' Banks & Credit Unions', 'Amateur Sports Teams', 'Lighting Fixtures & Equipment', ' Electricians', ' Photography Stores & Services', ' Nail Technicians', 'Wraps', ' Passport & Visa Services', ' Post Offices', 'Organic Stores', ' Motorsport Vehicle Dealers', ' Motorsport Vehicle Repairs', ' Motorcycle Dealers', 'Gluten-Free', ' Hawaiian', 'Shades & Blinds', 'Dentists', ' Trampoline Parks', 'Laser Hair Removal', ' Tanning Beds', ' Spray Tanning', 'Internet Service Providers', 'Religious Organizations', ' Churches', ' Cuban', 'Educational Services', ' Vocational & Technical School', ' Wine Tasting Room', ' Personal Chefs', 'Lawyers', ' Divorce & Family Law', ' DUI Law', ' Legal Services', ' Pain Management', ' Tapas Bars', 'Oncologist', ' Surgeons', ' Boat Charters', ' Flea Markets', 'Architects', ' Structural Engineers', ' Air Duct Cleaning', 'Boot Camps', ' Martial Arts', 'Used', 'Cinema', 'Pediatric Dentists', 'Wineries', 'Dermatologists', 'Permanent Makeup', ' Acne Treatment', ' Skate Shops', ' Surfing', 'Boating', ' Lighting Fixtures & Equipment', 'Sicilian', 'Dive Bars', ' Shoe Shine', 'Electricians', ' Generator Installation/Repair', ' Floral Designers', ' Computers', 'Fences & Gates', 'Filipino', 'Themed Cafes', 'Pet Stores', 'Tanning', 'Cheesesteaks', 'Tiling', ' Soccer', ' Car Stereo Installation', ' Water Purification Services', ' Water Suppliers', ' Utilities', ' Marketing', ' Web Design', ' Home Network Installation', ' Aestheticians', ' Plastic Surgeons', 'Leather Goods', 'Damage Restoration', ' Advertising', ' Signmaking', ' Screen Printing', ' Masonry/Concrete', ' Excavation Services', ' Assisted Living Facilities', ' Retirement Homes', ' Memory Care', ' Cycling Classes', ' Aerial Fitness', 'Optometrists', 'Piercing', 'Wheel & Rim Repair', 'Family Practice', 'Wedding Planning', 'Used Car Dealers', ' Car Buyers', 'Cultural Center', 'Ear Nose & Throat', ' Hearing Aid Providers', 'Dance Clubs', ' Gay Bars', ' Driving Schools', 'Bubble Tea', 'Decks & Railing', ' Carpenters', ' Drywall Installation & Repair', 'Outdoor Gear', ' Financial Advising', ' Accountants', ' Tax Services', ' Investing', 'Fish & Chips', ' Gun/Rifle Ranges', ' Firearm Training', ' Metal Fabricators', ' Psychiatrists', 'Art Galleries', 'Transmission Repair', 'Walk-in Clinics', ' Laboratory Testing', 'Oral Surgeons', ' Airports', 'Solar Installation', ' Sardinian', 'Laotian', ' Animal Shelters', ' Teppanyaki', 'Eyelash Service', 'Szechuan', ' Fertility', ' Urologists', ' Midwives', 'Martial Arts', ' Boxing', 'Obstetricians & Gynecologists', ' Puerto Rican', ' Dominican', ' Plus Size Fashion', 'Notaries', 'Meat Shops', 'Billing Services', 'Transportation', 'Home Inspectors', 'Window Washing', 'Reiki', ' Swimming Lessons/Schools', ' Cardio Classes', ' Flight Instruction', ' Aerial Tours', ' Framing', ' Badminton', 'Bookstores', ' Interval Training Gyms', ' Audiologist', ' Rehabilitation Center', ' Occupational Therapy', ' Speech Therapists', 'Pool Cleaners', ' Sunglasses', 'Gyms', ' Climbing', ' Ethiopian', 'Bikes', 'House Sitters', ' Pet Hospice', ' Dog Walkers', ' Pet Transportation', 'Neurologist', 'Utilities', 'Motorcycle Dealers', ' Trailer Dealers', 'Mass Media', ' Recording & Rehearsal Studios', ' Print Media', ' Digitizing Services', ' Screen Printing/T-Shirt Printing', 'Roofing', ' Roof Inspectors', ' Airport Lounges', ' Television Service Providers', ' Parking', 'Food Court', 'Life Insurance', ' Food Court', ' Scuba Diving', ' Diving', ' Comedy Clubs', ' Persian/Iranian', 'Motorcycle Gear', 'Rheumatologists', 'Party Equipment Rentals', 'Lounges', ' Hong Kong Style Cafe', ' Taiwanese', 'Air Duct Cleaning', ' Fireplace Services', 'Bike Repair/Maintenance', 'Thrift Stores', 'Cycling Classes', ' Ear Nose & Throat', ' Allergists', ' Cosmetic Surgeons', 'Reflexology', ' Cardiologists', 'Wholesale Stores', 'Summer Camps', ' Gymnastics', 'Counseling & Mental Health', ' Archery', None, 'Bookkeepers', ' Payroll Services', 'Food Stands', 'Wine Bars', 'Pilates', ' Botanical Gardens', ' Blood & Plasma Donation Centers', ' Cultural Center', 'Comedy Clubs', ' Radiologists', 'Bartenders', 'Podiatrists', 'DJs', 'Sports Wear', ' General Litigation', 'Modern European', ' Car Auctions', 'RV Parks', ' Pan Asian', 'Floral Designers', ' Damage Restoration', 'Massage Therapy', 'Irrigation', ' Casinos', ' New Mexican Cuisine', 'Fabric Stores', ' Wine Tasting Classes', ' Tasting Classes', 'Donairs', ' Oriental', ' Laotian', ' Funeral Services & Cemeteries', 'Internal Medicine', 'Surf Schools', ' Paddleboarding', ' Beach Equipment Rentals', 'Nail Technicians', 'Indoor Playcentre', ' Tutoring Centers', ' Private Tutors', 'Truck Rental', ' Packing Supplies', 'Casinos', 'Digitizing Services', 'Cosmetic Surgeons', 'Gun/Rifle Ranges', 'Nurseries & Gardening', 'Post Offices', 'Jails & Prisons', 'Bingo Halls', 'Mobility Equipment Sales & Services', ' Life Insurance', ' Home & Rental Insurance', ' Pool Cleaners', ' Boat Repair', ' Amusement Parks', ' Cards & Stationery', ' Reflexology', ' Solar Installation', 'Divorce & Family Law', 'Acai Bowls', ' Massage Schools', ' Childbirth Education', 'Environmental Testing', 'Spray Tanning', 'Watch Repair', 'Auto Loan Providers', 'Costumes', ' Grilling Equipment', 'Computers', 'Whiskey Bars', 'Mobile Phone Repair', 'Fruits & Veggies', 'Water Delivery', 'Door Sales/Installation', ' German', ' Cremation Services', ' Business Consulting', ' Water Stores', ' Lakes', 'Escape Games', 'Employment Agencies', ' Cheese Shops', ' Private Investigation', ' IV Hydration', 'Junk Removal & Hauling', 'Cheese Shops', ' Christmas Trees', 'Cuban', 'Arabic', ' Tiki Bars', ' Argentine', 'Photographers', 'Golf Equipment', ' Golf Equipment Shops', ' Safe Stores', ' Departments of Motor Vehicles', 'Beaches', ' Jet Skis', 'Pressure Washers', 'Pet Training', 'Middle Schools & High Schools', ' Waldorf Schools', 'Argentine', 'Cannabis Dispensaries', 'Recycling Center', ' Junkyards', ' Educational Services', ' Reproductive Health Services', 'Coffee Roasteries', ' Horse Equipment Shops', 'Soul Food', 'Self-defense Classes', ' Kickboxing', ' Muay Thai', 'Float Spa', 'Hobby Shops', ' Gunsmith', ' Fire Protection Services', ' Art Classes', 'Refinishing Services', 'Handyman', 'Waterproofing', 'Fishing', 'Diving', 'Office Equipment', 'Aquarium Services', ' Aquariums', ' Butcher', 'Campgrounds', ' Modern European', 'Lawn Services', ' Ayurveda', ' Paint-Your-Own Pottery', 'Packing Services', 'Portuguese', 'French', 'Boxing', 'Bed & Breakfast', 'Dim Sum', 'Office Cleaning', ' Pickleball', 'Pediatricians', ' Hot Pot', 'Electronics Repair', 'Print Media', ' Country Clubs', ' Kitchen Incubators', ' Motorcycle Parts & Supplies', 'Parking', ' Saunas', ' Emergency Pet Hospital', ' Dance Schools', 'German', ' Town Car Service', 'Clock Repair', ' Aquarium Services', ' House Sitters', 'Balloon Services', ' Outdoor Power Equipment Services', ' Farming Equipment', ' Machine Shops', 'Advertising', 'Brewing Supplies', ' Emergency Rooms', 'Screen Printing', ' Landmarks & Historical Buildings', ' Guest Houses', 'Anesthesiologists', ' Orthotics', 'Diagnostic Services', ' Boat Dealers', 'Physical Therapy', 'Legal Services', ' Real Estate Law', ' Bankruptcy Law', ' Kids Hair Salons', 'Jazz & Blues', ' Fitness/Exercise Equipment', ' Livestock Feed & Supply', 'Donation Center', ' Amateur Sports Teams', ' Machine & Tool Rental', ' Trailer Rental', 'Periodontists', 'Shoe Shine', 'Noodles', ' Matchmakers', ' Bartenders', 'Comic Books', ' Tabletop Games', ' Tennis', ' Boudoir Photography', ' Awnings', ' Shades & Blinds', 'Middle Eastern', ' EV Charging Stations', ' Pet Breeders', ' Home Organization', ' Battery Stores', ' Auto Loan Providers', \"Children's Clothing\", 'Zoos', ' Petting Zoos', 'Country Clubs', 'Hot Tub & Pool', 'Art Restoration', 'Matchmakers', 'Fondue', 'Roadside Assistance', ' Indoor Playcentre', ' Poutineries', ' Threading Services', ' Piano Stores', ' Piano Services', ' Musical Instrument Services', ' Music Production Services', ' Musicians', 'Traditional Chinese Medicine', 'Blow Dry/Out Services', 'Piano Stores', 'Gardeners', ' Snow Removal', 'Karate', 'Beer Bar', ' Kosher', 'Orthopedists', ' Teeth Whitening', 'Emergency Pet Hospital', 'Beer Gardens', 'Carpet Installation', ' Custom Cakes', 'Appraisal Services', 'Auto Customization', 'Test Preparation', 'Skate Shops', ' Glass Blowing', ' Axe Throwing', ' Donairs', 'Chicken Shop', 'Gymnastics', ' Henna Artists', 'Public Transportation', 'Customized Merchandise', 'Hats', ' Grout Services', 'Taiwanese', ' Bike Sharing', 'Fireplace Services', ' Chimney Sweeps', 'Mobile Phone Accessories', 'Videos & Video Game Rental', 'Tapas/Small Plates', 'Cardio Classes', 'Car Buyers', 'Snow Removal', 'Generator Installation/Repair', ' Ultrasound Imaging Centers', 'Formal Wear', ' Macarons', ' Fingerprinting', ' Sleep Specialists', 'Laser Tag', ' Themed Cafes', 'Dive Shops', 'Boat Repair', 'Mini Golf', ' Home Developers', ' Mobile Home Repair', ' Dim Sum', ' Cantonese', ' Clock Repair', 'Religious Items', 'Vegetarian', 'Body Contouring', 'Medical Supplies', 'Tea Rooms', 'Pet Cremation Services', ' Arabic', 'Funeral Services & Cemeteries', 'Supernatural Readings', ' Clothing Rental', 'Art Supplies', 'Do-It-Yourself Food', ' Medical Transportation', 'Brazilian Jiu-jitsu', ' Firewood', ' Art Tours', 'Moroccan', ' Dance Wear', 'Farming Equipment', ' Leisure Centers', 'Rafting/Kayaking', ' Newspapers & Magazines', 'Acupuncture', 'RV Repair', ' Observatories', ' Brasseries', ' Distilleries', ' Used Bookstore', 'Embroidery & Crochet', ' Auto Upholstery', 'Tiki Bars', ' Yelp Events', 'Personal Assistants', ' Environmental Testing', ' Customized Merchandise', ' Salvadoran', 'Bounce House Rentals', ' Circuit Training Gyms', 'Home Organization', ' Cabaret', 'Canadian (New)', 'Mongolian', ' Astrologers', 'Poke', 'Pet Boarding', ' Knife Sharpening', 'Paint Stores', 'Mortgage Brokers', 'Adult Education', ' Lactation Services', ' Parenting Classes', ' British', 'Pet Adoption', 'Water Parks', ' Art Space Rentals', 'Spanish', 'Shutters', 'Cards & Stationery', 'Distilleries', 'Propane', 'Airlines', 'Bespoke Clothing', ' Waffles', ' Piano Bars', ' Waterproofing', 'Lebanese', 'Furniture Repair', ' Health Retreats', ' Hydrotherapy', 'Television Stations', 'Paint-Your-Own Pottery', 'Medical Spas', ' Perfume', 'Airport Terminals', 'Skating Rinks', ' Speakeasies', 'Religious Schools', ' Middle Schools & High Schools', ' Syrian', 'Laser Eye Surgery/Lasik', 'Pan Asian', 'Turkish', 'TV Mounting', 'Head Shops', 'Gay Bars', 'Occupational Therapy', 'Travel Agents', ' Vacation Rental Agents', ' Valet Services', 'Hearing Aid Providers', ' Colleges & Universities', ' Commercial Truck Dealers', 'Gold Buyers', 'Driving Schools', ' Traffic Schools', 'Candy Stores', ' Popcorn Shops', 'Herbs & Spices', ' Pop-Up Restaurants', ' Hospice', ' Armenian', 'Creperies', 'Hydro-jetting', 'Basketball Courts', 'Grout Services', 'Motorsport Vehicle Dealers', ' Ski & Snowboard Shops', 'Cantonese', 'Adult Entertainment', ' Podiatrists', 'International', 'Tax Services', ' Cigar Bars', 'Well Drilling', ' Special Education', ' Wedding Chapels', ' Strip Clubs', 'Business Law', ' Employment Law', ' Estate Planning Law', ' Wills', ' Trusts', ' & Probates', 'Framing', ' Local Fish Stores', 'Cooking Schools', 'Stadiums & Arenas', 'Car Window Tinting', ' Hats', 'Surgeons', ' Venezuelan', ' Prenatal/Perinatal Care', 'Libraries', 'Wholesalers', ' Ethnic Grocery', 'Web Design', ' Video/Film Production', 'Vacation Rentals', ' Cooking Classes', ' Cooking Schools', 'Farms', ' Disc Golf', 'Drywall Installation & Repair', 'Laboratory Testing', 'Emergency Rooms', 'Auto Insurance', ' Mobile Dent Repair', ' Magicians', 'Payroll Services', 'Data Recovery', 'Saunas', ' Halotherapy', 'Colombian', 'Meditation Centers', 'Haunted Houses', ' Brazilian', 'Haitian', 'Sports Medicine', 'Rugs', ' Pet Insurance', ' Free Diving', ' Buses', ' Bus Rental', ' Public Relations', ' Russian', ' Bird Shops', 'Ethiopian', 'Hockey Equipment', ' Czech', 'Himalayan/Nepalese', ' Surf Schools', ' Surf Shop', 'Home Energy Auditors', ' Doulas', ' Placenta Encapsulations', ' Shredding Services', 'Personal Chefs', 'Personal Shopping', ' Delicatessen', 'Courthouses', 'Pool Halls', 'Financial Advising', 'Marketing', ' Employment Agencies', ' Dive Shops', ' Hostels', ' Homeowner Association', ' Mobility Equipment Sales & Services', 'Kids Activities', ' Bartending Schools', ' Eatertainment', ' Home Health Care', ' Lice Services', ' Tui Na', \"Children's Museums\", ' Art Museums', 'Shopping Centers', 'Foundation Repair', ' Guitar Stores', ' Club Crawl', ' Mongolian', ' Smokehouse', ' High Fidelity Audio Equipment', ' Polish', 'Personal Injury Law', ' Social Security Law', ' Body Contouring', 'Health Insurance Offices', ' Colonics', ' Rock Climbing', 'Macarons', ' Oncologist', 'Landscape Architects', 'Business Financing', 'Hainan', 'New Mexican Cuisine', 'Paddleboarding', 'Allergists', ' Dumpster Rental', ' Zoos', 'Screen Printing/T-Shirt Printing', ' Psychologists', ' Attraction Farms', ' Pick Your Own Farms', 'Halal', 'Cabinetry', 'Team Building Activities', ' Ticket Sales', 'Fitness/Exercise Equipment', ' Photo Booth Rentals', ' Bicycle Paths', 'Cardiologists', ' Gastroenterologist', 'Art Schools', 'Sugaring', 'Lakes', 'Imported Food', ' Afghan', ' Home Energy Auditors', 'Service Stations', 'Glass & Mirrors', ' Cafeteria', ' Cambodian', 'Cideries', ' Language Schools', ' Skilled Nursing', ' Career Counseling', ' Radio Stations', ' Auto Security', ' Estate Liquidation', ' Videographers', 'Irish', 'Insulation Installation', 'Salvadoran', 'Peruvian', 'Taxis', 'Mobile Dent Repair', 'Investing', ' Immigration Law', 'Kickboxing', ' Brazilian Jiu-jitsu', ' Tuscan', ' Restaurant Supplies', ' Hypnosis/Hypnotherapy', 'Sports Clubs', 'Leisure Centers', ' Gemstones & Minerals', 'Television Service Providers', 'Grilling Equipment', ' Public Markets', ' Car Brokers', 'Home Automation', 'Orthotics', 'Car Share Services', 'Lingerie', 'Blood & Plasma Donation Centers', 'Somali', 'Home Staging', 'Plastic Surgeons', 'RV Dealers', 'Mailbox Centers', ' Personal Assistants', 'Axe Throwing', 'Siding', 'Vinyl Records', ' Title Loans', 'Musical Instrument Services', 'Pool & Hot Tub Service', 'Race Tracks', 'African', ' Architectural Tours', ' Olive Oil', 'Cafeteria', 'Botanical Gardens', 'Rock Climbing', 'Dominican', 'Commercial Truck Dealers', ' Car Share Services', ' Tattoo Removal', 'Indonesian', 'Private Tutors', 'Piano Bars', 'Spiritual Shop', ' Private Schools', 'Shaved Snow', ' Powder Coating', ' Train Stations', 'Falafel', 'Furniture Assembly', 'Sleep Specialists', 'Outdoor Furniture Stores', ' Sicilian', ' Foundation Repair', 'Strip Clubs', 'Airports', ' Airlines', ' Batting Cages', 'Airport Lounges', 'Health Markets', 'Arcades', ' Pet Waste Removal', 'Interior Design', ' Nanny Services', ' Food Banks', ' Champagne Bars', ' Hydro-jetting', 'Food Tours', ' Environmental Abatement', 'Countertop Installation', ' Health Coach', ' Senegalese', ' Coffee & Tea Supplies', 'Insurance', 'Tubing', ' Snorkeling', 'Shared Office Spaces', 'Town Car Service', ' Bike Repair', ' Bicycles', ' Crane Services', ' Airport Terminals', ' Holiday Decorations', ' Ethical Grocery', ' Immunodermatologists', 'Police Departments', ' Vehicle Shipping', 'Motorcycle Repair', 'Video/Film Production', ' Coffeeshops', 'Trailer Repair', ' Bookkeepers', ' Talent Agencies', ' Ukrainian', ' Party Bike Rentals', ' Horseback Riding', ' Float Spa', 'Assisted Living Facilities', 'Hostels', ' Beverage Store', ' Luggage', 'Yelp Events', 'Shredding Services', 'Resorts', 'Psychics', 'Aquariums', ' Safety Equipment', 'Cabaret', 'Graphic Design', 'Paint & Sip', ' Car Inspectors', ' Taekwondo', ' Karate', ' Pole Dancing Classes', 'Psychologists', 'Vocational & Technical School', ' Nursing Schools', ' Scooter Rentals', 'Pop-up Shops', ' Addiction Medicine', ' Photography Classes', 'Paintball', 'Personal Care Services', ' Drive-Thru Bars', 'Dance Studios', 'Malaysian', 'Septic Services', 'Rest Stops', 'Waffles', ' Trains', 'Home Network Installation', 'Car Brokers', 'Swimwear', 'Gunsmith', 'Outlet Stores', ' Bike tours', ' Flowers', ' Races & Competitions', 'Colleges & Universities', 'Kombucha', 'Car Inspectors', 'Squash', 'International Grocery', 'Car Auctions', 'Vacation Rental Agents', 'Horseback Riding', 'Condominiums', 'Party Bus Rentals', 'Translation Services', 'Sports Betting', 'Nephrologists', 'Stucco Services', ' Balloon Services', 'Auto Security', ' Audio/Visual Equipment Rental', ' Pop-up Shops', ' Nurse Practitioner', ' Colombian', ' Grill Services', 'Emergency Medicine', ' Singaporean', ' CPR Classes', ' Business Law', 'Accountants', 'Boat Tours', ' Preventive Medicine', ' Shanghainese', ' Striptease Dancers', ' Qi Gong', ' Tai Chi', ' Honey', 'Honey', ' Undersea/Hyperbaric Medicine', 'Engraving', ' Pet Cremation Services', ' Indonesian', 'Golf Lessons', ' Software Development', ' Fireworks', 'British', ' LAN Centers', ' Trivia Hosts', 'Departments of Motor Vehicles', ' Stucco Services', ' Land Surveying', 'Telecommunications', ' Reptile Shops', ' Stonemasons', 'Vascular Medicine', ' Phlebologists', ' Bistros', ' Horse Boarding', 'Water Purification Services', ' Airsoft', ' Crisis Pregnancy Centers', ' Faith-based Crisis Pregnancy Centers', 'Firewood', 'Retirement Homes', ' Traffic Ticketing Law', 'Circuit Training Gyms', ' Meaderies', 'Spine Surgeons', 'Prenatal/Perinatal Care', ' Austrian', ' Business Financing', ' Mobile Home Parks', 'Adult', ' Commissioned Artists', ' Baseball Fields', 'Wine Tasting Room', ' Cideries', ' Pumpkin Patches', 'Elementary Schools', 'Archery', ' Shaved Snow', ' Marinas', 'Boat Dealers', ' Tenant and Eviction Law', ' Proctologists', 'Parent Cafes', 'Interval Training Gyms', 'Social Clubs', ' Basque', ' Tableware', 'Astrologers', 'Hair Loss Centers', ' Mediators', ' Debt Relief Services', 'Tui Na', ' Drive-In Theater', 'Internet Cafes', ' Pulmonologist', ' Chinese Martial Arts', 'Kids Hair Salons', 'Videographers', 'Basque', ' Calabrian', 'Business Consulting', ' Editorial Services', ' Rheumatologists', ' Playsets', ' Country Dance Halls', ' Iberian', ' Portuguese', ' Australian', 'Candle Stores', 'Passport & Visa Services', ' Medical Law', 'Immigration Law', ' Gerontologists', 'Auction Houses', 'Train Stations', 'Swimming Pools', 'Plus Size Fashion', 'Home & Rental Insurance', 'Japanese Curry', 'Tanning Beds', 'Doulas', ' Buddhist Temples', 'Marinas', ' Private Jet Charter', 'Alternative Medicine', 'Cosmetology Schools', 'Home Health Care', 'Soccer', ' Dietitians', 'Pulmonologist', 'Knitting Supplies', 'Tasting Classes', 'Life Coach', 'Hot Air Balloons', 'Taekwondo', 'Photo Booth Rentals', ' Art Restoration', 'Preventive Medicine', ' Montessori Schools', ' South African', 'Prosthetics', ' Fondue', ' Ski Schools', ' Haitian', ' International', ' Dinner Theater', ' Animal Physical Therapy', 'Kosher', ' Visitor Centers', 'Henna Artists', ' Face Painting', ' Izakaya', 'Nicaraguan', ' Drones', 'Luggage', 'Brazilian', ' Well Drilling', ' Golf Cart Dealers', 'Bangladeshi', 'Dental Hygienists', ' Translation Services', ' Anesthesiologists', 'Patisserie/Cake Shop', 'Grill Services', 'Livestock Feed & Supply', ' Carpet Dyeing', 'RV Rental', 'Food Banks', ' Municipality', 'Threading Services', 'Vehicle Shipping', 'Battery Stores', 'Hunting & Fishing Supplies', 'Sunglasses', ' Product Design', ' Prosthetics', ' Paintball', ' Holistic Animal Care', ' Hot Air Balloons', 'Acne Treatment', ' Water Parks', ' Drama Schools', 'Petting Zoos', ' Concept Shops', 'Knife Sharpening', ' Scottish', 'Bar Crawl', ' Opera & Ballet', 'Newspapers & Magazines', 'Cryotherapy', 'Wine Tours', ' Adoption Services', 'Commissioned Artists', 'Afghan', 'Magicians', 'Trophy Shops', 'Pancakes', ' Unofficial Yelp Events', ' Emergency Medicine', 'Skilled Nursing', ' Himalayan/Nepalese', ' Flyboarding', 'Used Bookstore', ' Hockey Equipment', ' Electricity Suppliers', ' Indoor Landscaping', ' Game Truck Rental', 'Hypnosis/Hypnotherapy', 'Art Tours', ' Rolfing', ' Backflow Services', ' Portable Toilet Services', ' DIY Auto Shop', 'Fingerprinting', 'Recording & Rehearsal Studios', ' Pancakes', 'Belgian', 'Tennis', 'Mortgage Lenders', 'Cannabis Clinics', 'Auto Upholstery', ' CSA', 'Buddhist Temples', ' General Festivals', 'Psychiatrists', 'Ticket Sales', 'Barre Classes', 'Halotherapy', ' Japanese Curry', 'Security Services', 'Artificial Turf', 'Structural Engineers', 'Pet Breeders', 'Roof Inspectors', 'Polish', 'Racing Experience', 'CPR Classes', 'Airsoft', 'Visitor Centers', 'Lahmacun', 'Dumpster Rental', 'Climbing', ' Infectious Disease Specialists', 'Home Theatre Installation', ' Pedicabs', 'Registration Services', 'Teppanyaki', 'Clothing Rental', 'Bistros', 'CSA', 'Souvenir Shops', ' Egyptian', 'Hospice', ' Retina Specialists', 'Beverage Store', 'Powder Coating', 'Montessori Schools', 'Health Coach', ' Clowns', ' Party Characters', ' Racing Experience', 'Scuba Diving', 'Local Fish Stores', ' Sri Lankan', 'Check Cashing/Pay-day Loans', 'Motorsport Vehicle Repairs', 'Farm Equipment Repair', ' Bangladeshi', ' Mobile Home Dealers', 'Russian', 'Pop-Up Restaurants', ' Vascular Medicine', 'Demolition Services', 'Go Karts', ' Carousels', 'Horse Racing', ' Boat Parts & Supplies', ' Hybrid Car Repair', ' Uzbek', 'Dance Schools', 'Community Centers', ' Caricatures', 'Firearm Training', 'Pet Transportation', 'Hydrotherapy', 'Installment Loans', 'Restaurant Supplies', 'Skate Parks', ' Scandinavian', ' Architects', 'Real Estate Law', 'Skydiving', ' Spin Classes', ' Diamond Buyers', 'Vehicle Wraps', 'Commercial Truck Repair', ' Process Servers', ' Self-defense Classes', 'Speakeasies', ' Courthouses', 'Honduran', 'Caricatures', 'Smokehouse', 'Horse Boarding', 'Champagne Bars', 'ATV Rentals/Tours', 'Talent Agencies', 'Furniture Reupholstery', 'Races & Competitions', 'Perfume', 'Pet Insurance', ' Bounce House Rentals', 'Childbirth Education', ' Religious Schools', 'Special Education', ' Aircraft Repairs', 'Wills', ' Tax Law', 'Environmental Abatement', ' Concierge Medicine', ' Behavior Analysts', ' Belgian', 'Delicatessen', 'Attraction Farms', ' Whale Watching Tours', 'Pumpkin Patches', 'Architectural Tours', 'IP & Internet Law', 'Empanadas', 'Pet Hospice', ' Art Consultants', ' Art Installation', 'Christmas Trees', ' Holiday Decorating Services', 'Colonics', 'Home Developers', 'Chimney Sweeps', 'Crane Services', 'Maternity Wear', 'Pick Your Own Farms', 'Medical Law', 'Bus Tours', 'Process Servers', ' Bail Bondsmen', 'Elevator Services', 'Outdoor Power Equipment Services', ' Public Adjusters', 'Flea Markets', 'Art Museums', ' Silent Disco', ' Israeli', ' Sperm Clinic', 'Patio Coverings', 'Pet Photography', 'Pole Dancing Classes', 'Popcorn Shops', ' Childproofing', 'Midwives', ' Embassy', ' Synagogues', ' Artificial Turf', 'Reproductive Health Services', 'Trains', ' Golf Cart Rentals', ' Supper Clubs', 'Machine & Tool Rental', 'Concierge Medicine', ' First Aid Classes', 'Flight Instruction', 'Dietitians', 'Senegalese', 'Fireworks', 'Hot Pot', 'Egyptian', 'General Litigation', 'Guitar Stores', ' Bookbinding', 'Tattoo Removal', ' Community Gardens', 'Boudoir Photography', ' Kiteboarding', 'Vermouth Bars', ' Horse Racing', 'Real Estate Photography', 'Dinner Theater', ' Hazardous Waste Disposal', 'Clowns', 'Medical Cannabis Referrals', 'Osteopathic Physicians', 'Challenge Courses', 'Officiants', ' Solar Panel Cleaning', 'Sledding', 'Disc Golf', ' Skydiving', 'Private Investigation', 'Free Diving', 'Estate Planning Law', ' Sandblasting', ' Neuropathologists', ' Planetarium', ' Television Stations', ' Furniture Rental', ' Beer Hall', 'Career Counseling', 'Massage Schools', 'Persian/Iranian', ' Veterans Organizations', 'LAN Centers', ' Fur Clothing', ' Ziplining', 'Venezuelan', ' Hang Gliding', ' Paragliding', 'Cooking Classes', ' Sex Therapists', 'Endocrinologists', ' Elevator Services', 'IV Hydration', 'Surfing', ' Elder Care Planning', 'Cigar Bars', 'Debt Relief Services', ' Georgian', 'Ethnic Grocery', 'Opera & Ballet', ' Mortuary Services', 'Ski & Snowboard Shops', 'Animal Physical Therapy', ' Duplication Services', 'Editorial Services', 'Piano Services', ' Disability Law', 'Wedding Chapels', 'Face Painting', 'Bankruptcy Law', 'Aestheticians', 'Sailing', 'Cambodian', ' Hepatologists', 'Prosthodontists', 'College Counseling', 'Cremation Services', 'Uzbek', 'Drive-In Theater', ' Aircraft Dealers', ' Nudist', 'Batting Cages', 'Sri Lankan', 'Furniture Rental', ' Health Insurance Offices', ' Otologists', 'Pet Waste Removal', 'High Fidelity Audio Equipment', 'Retina Specialists', ' Fuzhou', ' Currency Exchange', 'Mobile Home Dealers', 'Public Art', 'Beer Tours', ' Sports Betting', ' Foot Care', ' Ferries', 'Nurse Practitioner', ' Sailing', 'Senior Centers', ' Homeless Shelters', 'Oriental', 'Land Surveying', 'Bartending Schools', ' Squash', 'Virtual Reality Centers', ' Traditional Clothing', ' Fire Departments', ' Bingo Halls', 'Outdoor Movies', 'Olive Oil', 'Sport Equipment Hire', 'Valet Services', 'Trailer Rental', 'Fuel Docks', 'Teacher Supplies', 'First Aid Classes', 'Estheticians', 'Iberian', ' Oxygen Bars', 'Osteopaths', 'Urologists', 'Burmese', 'Bail Bondsmen', ' Outdoor Movies', 'Audio/Visual Equipment Rental', 'Tuscan', 'Public Markets', 'Baseball Fields', 'Public Relations', 'Glass Blowing', ' Parklets', 'Town Hall', 'Lighting Stores', ' Bike Shop', ' 3D Printing', ' Biohazard Cleanup', 'Singaporean', ' Neurotologists', 'Observatories', 'Kitchen Supplies', 'Scandinavian', ' Experiences', ' Apartment Agents', ' Hotel bar', 'Brasseries', 'Mediators', ' Elder Law', ' Pathologists', 'Tableware', 'Sheds & Outdoor Storage', 'Carousels', ' Teacher Supplies', 'Rolfing', 'Party Characters', 'Surf Shop', 'Health Retreats', ' Kiosk', ' Sports Psychologists', ' Luggage Storage', 'Bike Parking', 'Pool & Billiards', ' Roman', 'Bike tours', 'Workers Compensation Law', 'Estate Liquidation', 'Aerial Tours', 'Nanny Services', 'Neurotologists', 'Wallpapering', ' Beach Bars', 'Excavation Services', ' Bus Stations', 'Herbal Shops', 'Bird Shops', ' Calligraphy', ' Contract Law', 'Speech Therapists', 'Hungarian', 'Syrian', 'Hindu Temples', 'Lactation Services', ' DUI Schools', 'Hang Gliding', ' Hakka', 'Qi Gong', ' Consumer Law', ' IP & Internet Law', ' Patent Law', ' Cannabis Tours', 'Medical Transportation', 'Holiday Decorations', 'Holistic Animal Care', 'Bocce Ball', 'Party Bike Rentals', 'Scooter Tours', 'Housing Cooperatives', ' Ranches', ' Guamanian', 'Fire Protection Services', ' Cheese Tasting Classes', 'Safe Stores', ' Billing Services', 'Georgian', 'Izakaya', 'Tai Chi', ' Tonkatsu', ' Donburi', ' Scooter Tours', 'Animal Assisted Therapy', 'Planetarium', 'Public Adjusters', ' College Counseling', 'Ski Resorts', 'Whale Watching Tours', 'Skiing', ' Nicaraguan', 'Golf Equipment Shops', 'Tax Law', ' Pita', 'Carpet Dyeing', 'Bus Stations', 'Flowers', ' Senior Centers', 'Poutineries', 'Country Dance Halls', ' Hungarian', 'Biohazard Cleanup', 'Vocal Coach', 'Psychic Mediums', 'Ziplining', 'Traffic Ticketing Law', 'Concept Shops', 'Coffeeshops', 'Eastern European', 'Bicycles', ' Sauna Installation & Repair', 'Cannabis Collective', 'Private Schools', 'Sardinian', ' Interlock Systems', 'Bookbinding', ' Mosques', ' Eastern European', ' Ice Delivery', 'Sex Therapists', 'Beach Equipment Rentals', 'Storefront Clinics', ' Skiing', 'Snorkeling', 'Traditional Clothing', ' Nephrologists', 'Luggage Storage', 'Chinese Martial Arts', 'Adoption Services', ' Somali', 'Taxidermy', 'Holiday Decorating Services', 'Metal Detector Services', 'Homeowner Association', 'Wildlife Hunting Ranges', ' Rodeo', 'Wine Tasting Classes', ' Sledding', 'Game Truck Rental', ' Sheds & Outdoor Storage', ' Dumplings', 'Bus Rental', 'Horse Equipment Shops', ' Fencing Clubs', ' Cheerleading', ' Cucina campana', ' Dart Arenas', ' Circus Schools', ' Karaoke Rental', 'Ethical Grocery', ' Halfway Houses', ' Bocce Ball', 'Software Development', 'Trivia Hosts', ' Hindu Temples', 'Aerial Fitness', ' Mohels', ' Aviation Services', ' Conveyor Belt Sushi', 'Reptile Shops', 'Oxygen Bars', 'EV Charging Stations', 'Memory Care', 'Hazardous Waste Disposal', 'Dialysis Clinics', 'Hotel bar', 'Sandblasting', 'Meaderies', 'Safety Equipment', ' Vocal Coach', ' Makerspaces', 'Immunodermatologists', ' Natural Gas Suppliers', 'Drones', 'Audiologist', ' Hospitalists', '3D Printing', ' Serbo Croatian', 'Backflow Services', 'Scooter Rentals', 'Gemstones & Minerals', ' Ceremonial Clothing', ' Bubble Soccer', 'Mortuary Services', ' Trade Fairs']\n"
     ]
    }
   ],
   "source": [
    "df2 = df['categories'].str.split(',')\n",
    "\n",
    "# Usar explode para convertir las listas en filas y obtener una lista de categorías únicas\n",
    "categorias_unicas = df2.explode().unique().tolist()\n",
    "\n",
    "# Mostrar la lista de categorías únicas\n",
    "print(categorias_unicas)\n"
   ]
  },
  {
   "cell_type": "code",
   "execution_count": 82,
   "metadata": {},
   "outputs": [
    {
     "data": {
      "text/plain": [
       "2455"
      ]
     },
     "execution_count": 82,
     "metadata": {},
     "output_type": "execute_result"
    }
   ],
   "source": [
    "len(categorias_unicas)"
   ]
  },
  {
   "cell_type": "code",
   "execution_count": 258,
   "metadata": {},
   "outputs": [],
   "source": [
    "categorias=pd.read_csv('../datasets/parquets/G_categorias_state.csv')"
   ]
  },
  {
   "cell_type": "code",
   "execution_count": 259,
   "metadata": {},
   "outputs": [],
   "source": [
    "categorias_a_buscar = ['beauty', 'hair', ' spa','nail','eyebrow','eyelash','skin',\n",
    "                       'barber', 'cosmetics', \n",
    "                       'salon', 'massage']"
   ]
  },
  {
   "cell_type": "code",
   "execution_count": 260,
   "metadata": {},
   "outputs": [],
   "source": [
    "resultado = categorias['category'].str.contains('|'.join(categorias_a_buscar), case=False)\n",
    "categorias=categorias[resultado]"
   ]
  },
  {
   "cell_type": "code",
   "execution_count": 261,
   "metadata": {},
   "outputs": [],
   "source": [
    "categorias_a_no_buscar=['fencing', 'space', 'wheelchair', 'Sheepskin', 'Sports', 'Erotic', 'industry']"
   ]
  },
  {
   "cell_type": "code",
   "execution_count": 262,
   "metadata": {},
   "outputs": [],
   "source": [
    "resultado = ~categorias['category'].str.contains('|'.join(categorias_a_no_buscar), case=False)\n",
    "categorias=categorias[resultado]"
   ]
  },
  {
   "cell_type": "code",
   "execution_count": 263,
   "metadata": {},
   "outputs": [],
   "source": [
    "categorias.to_csv('../datasets/parquets/Categorias-Google.csv', index=False)"
   ]
  },
  {
   "cell_type": "markdown",
   "metadata": {},
   "source": [
    "Ahora YELP"
   ]
  },
  {
   "cell_type": "code",
   "execution_count": 264,
   "metadata": {},
   "outputs": [],
   "source": [
    "categorias=pd.read_csv('../datasets/parquets/Y_frecuencia_categorias.csv')\n",
    "\n",
    "categorias_a_buscar = ['beauty', 'hair', ' spa','nail','eyebrow','eyelash','skin',\n",
    "                       'barber','cosmetics', \n",
    "                       'salon', 'massage']\n",
    "\n",
    "resultado = categorias['Categoria'].str.contains('|'.join(categorias_a_buscar), case=False)\n",
    "categorias=categorias[resultado]\n",
    "\n",
    "categorias_a_no_buscar=['fencing', 'space', 'wheelchair', 'Sheepskin', 'Sports', 'Erotic']\n",
    "\n",
    "resultado = ~categorias['Categoria'].str.contains('|'.join(categorias_a_no_buscar), case=False)\n",
    "categorias=categorias[resultado]\n",
    "\n",
    "categorias.to_csv('../datasets/parquets/Categorias-Yelp.csv', index=False)"
   ]
  }
 ],
 "metadata": {
  "kernelspec": {
   "display_name": "Python 3",
   "language": "python",
   "name": "python3"
  },
  "language_info": {
   "codemirror_mode": {
    "name": "ipython",
    "version": 3
   },
   "file_extension": ".py",
   "mimetype": "text/x-python",
   "name": "python",
   "nbconvert_exporter": "python",
   "pygments_lexer": "ipython3",
   "version": "3.11.7"
  }
 },
 "nbformat": 4,
 "nbformat_minor": 2
}
