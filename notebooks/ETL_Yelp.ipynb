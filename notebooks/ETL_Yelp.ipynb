{
 "cells": [
  {
   "cell_type": "code",
   "execution_count": 1,
   "metadata": {},
   "outputs": [],
   "source": [
    "import pandas as pd"
   ]
  },
  {
   "cell_type": "code",
   "execution_count": 9,
   "metadata": {},
   "outputs": [],
   "source": [
    "dfbusiness=pd.read_parquet(r'..\\datasets\\parquets\\business.parquet')\n",
    "categorias=pd.read_csv('..\\datasets\\parquets\\Categorias-Yelp.csv')"
   ]
  },
  {
   "cell_type": "markdown",
   "metadata": {},
   "source": [
    "Se buscan datos nulos en el dataset"
   ]
  },
  {
   "cell_type": "code",
   "execution_count": 15,
   "metadata": {},
   "outputs": [
    {
     "name": "stdout",
     "output_type": "stream",
     "text": [
      "datos nulos business business_id         0\n",
      "name                0\n",
      "address             0\n",
      "city                0\n",
      "state               3\n",
      "postal_code         0\n",
      "latitude            0\n",
      "longitude           0\n",
      "stars               0\n",
      "review_count        0\n",
      "is_open             0\n",
      "attributes      13744\n",
      "categories        103\n",
      "hours           23223\n",
      "dtype: int64\n"
     ]
    }
   ],
   "source": [
    "print('datos nulos business',dfbusiness.isna().sum())"
   ]
  },
  {
   "cell_type": "markdown",
   "metadata": {},
   "source": [
    "Se buscan filas duplicadas en el dataset"
   ]
  },
  {
   "cell_type": "code",
   "execution_count": 23,
   "metadata": {},
   "outputs": [
    {
     "name": "stdout",
     "output_type": "stream",
     "text": [
      "datos duplicados business 0\n"
     ]
    }
   ],
   "source": [
    "print('datos duplicados business',dfbusiness.drop(columns=['hours','attributes']).duplicated().sum())"
   ]
  },
  {
   "cell_type": "markdown",
   "metadata": {},
   "source": [
    "Se checan tipos de dato de todas las columnas del dataset"
   ]
  },
  {
   "cell_type": "code",
   "execution_count": 24,
   "metadata": {},
   "outputs": [
    {
     "name": "stdout",
     "output_type": "stream",
     "text": [
      "<class 'pandas.core.frame.DataFrame'>\n",
      "Index: 150346 entries, 0 to 150345\n",
      "Data columns (total 14 columns):\n",
      " #   Column        Non-Null Count   Dtype  \n",
      "---  ------        --------------   -----  \n",
      " 0   business_id   150346 non-null  object \n",
      " 1   name          150346 non-null  object \n",
      " 2   address       150346 non-null  object \n",
      " 3   city          150346 non-null  object \n",
      " 4   state         150343 non-null  object \n",
      " 5   postal_code   150346 non-null  object \n",
      " 6   latitude      150346 non-null  float64\n",
      " 7   longitude     150346 non-null  float64\n",
      " 8   stars         150346 non-null  float64\n",
      " 9   review_count  150346 non-null  int64  \n",
      " 10  is_open       150346 non-null  int64  \n",
      " 11  attributes    136602 non-null  object \n",
      " 12  categories    150243 non-null  object \n",
      " 13  hours         127123 non-null  object \n",
      "dtypes: float64(3), int64(2), object(9)\n",
      "memory usage: 17.2+ MB\n"
     ]
    }
   ],
   "source": [
    "dfbusiness.info()"
   ]
  },
  {
   "cell_type": "markdown",
   "metadata": {},
   "source": [
    "Se eliminan valores nulos de la columna categories"
   ]
  },
  {
   "cell_type": "code",
   "execution_count": 27,
   "metadata": {},
   "outputs": [],
   "source": [
    "dfbusiness.dropna(subset='categories',inplace=True)"
   ]
  },
  {
   "cell_type": "code",
   "execution_count": 25,
   "metadata": {},
   "outputs": [
    {
     "data": {
      "text/html": [
       "<div>\n",
       "<style scoped>\n",
       "    .dataframe tbody tr th:only-of-type {\n",
       "        vertical-align: middle;\n",
       "    }\n",
       "\n",
       "    .dataframe tbody tr th {\n",
       "        vertical-align: top;\n",
       "    }\n",
       "\n",
       "    .dataframe thead th {\n",
       "        text-align: right;\n",
       "    }\n",
       "</style>\n",
       "<table border=\"1\" class=\"dataframe\">\n",
       "  <thead>\n",
       "    <tr style=\"text-align: right;\">\n",
       "      <th></th>\n",
       "      <th>business_id</th>\n",
       "      <th>name</th>\n",
       "      <th>address</th>\n",
       "      <th>city</th>\n",
       "      <th>state</th>\n",
       "      <th>postal_code</th>\n",
       "      <th>latitude</th>\n",
       "      <th>longitude</th>\n",
       "      <th>stars</th>\n",
       "      <th>review_count</th>\n",
       "      <th>is_open</th>\n",
       "      <th>attributes</th>\n",
       "      <th>categories</th>\n",
       "      <th>hours</th>\n",
       "    </tr>\n",
       "  </thead>\n",
       "  <tbody>\n",
       "    <tr>\n",
       "      <th>0</th>\n",
       "      <td>Pns2l4eNsfO8kk83dixA6A</td>\n",
       "      <td>Abby Rappoport, LAC, CMQ</td>\n",
       "      <td>1616 Chapala St, Ste 2</td>\n",
       "      <td>Santa Barbara</td>\n",
       "      <td>None</td>\n",
       "      <td>93101</td>\n",
       "      <td>34.426679</td>\n",
       "      <td>-119.711197</td>\n",
       "      <td>5.0</td>\n",
       "      <td>7</td>\n",
       "      <td>0</td>\n",
       "      <td>{'AcceptsInsurance': None, 'AgesAllowed': None...</td>\n",
       "      <td>Doctors, Traditional Chinese Medicine, Naturop...</td>\n",
       "      <td>None</td>\n",
       "    </tr>\n",
       "    <tr>\n",
       "      <th>1</th>\n",
       "      <td>mpf3x-BjTdTEA3yCZrAYPw</td>\n",
       "      <td>The UPS Store</td>\n",
       "      <td>87 Grasso Plaza Shopping Center</td>\n",
       "      <td>Affton</td>\n",
       "      <td>None</td>\n",
       "      <td>63123</td>\n",
       "      <td>38.551126</td>\n",
       "      <td>-90.335695</td>\n",
       "      <td>3.0</td>\n",
       "      <td>15</td>\n",
       "      <td>1</td>\n",
       "      <td>{'AcceptsInsurance': None, 'AgesAllowed': None...</td>\n",
       "      <td>Shipping Centers, Local Services, Notaries, Ma...</td>\n",
       "      <td>{'Friday': '8:0-18:30', 'Monday': '0:0-0:0', '...</td>\n",
       "    </tr>\n",
       "    <tr>\n",
       "      <th>2</th>\n",
       "      <td>tUFrWirKiKi_TAnsVWINQQ</td>\n",
       "      <td>Target</td>\n",
       "      <td>5255 E Broadway Blvd</td>\n",
       "      <td>Tucson</td>\n",
       "      <td>None</td>\n",
       "      <td>85711</td>\n",
       "      <td>32.223236</td>\n",
       "      <td>-110.880452</td>\n",
       "      <td>3.5</td>\n",
       "      <td>22</td>\n",
       "      <td>0</td>\n",
       "      <td>{'AcceptsInsurance': None, 'AgesAllowed': None...</td>\n",
       "      <td>Department Stores, Shopping, Fashion, Home &amp; G...</td>\n",
       "      <td>{'Friday': '8:0-23:0', 'Monday': '8:0-22:0', '...</td>\n",
       "    </tr>\n",
       "    <tr>\n",
       "      <th>3</th>\n",
       "      <td>MTSW4McQd7CbVtyjqoe9mw</td>\n",
       "      <td>St Honore Pastries</td>\n",
       "      <td>935 Race St</td>\n",
       "      <td>Philadelphia</td>\n",
       "      <td>CA</td>\n",
       "      <td>19107</td>\n",
       "      <td>39.955505</td>\n",
       "      <td>-75.155564</td>\n",
       "      <td>4.0</td>\n",
       "      <td>80</td>\n",
       "      <td>1</td>\n",
       "      <td>{'AcceptsInsurance': None, 'AgesAllowed': None...</td>\n",
       "      <td>Restaurants, Food, Bubble Tea, Coffee &amp; Tea, B...</td>\n",
       "      <td>{'Friday': '7:0-21:0', 'Monday': '7:0-20:0', '...</td>\n",
       "    </tr>\n",
       "    <tr>\n",
       "      <th>4</th>\n",
       "      <td>mWMc6_wTdE0EUBKIGXDVfA</td>\n",
       "      <td>Perkiomen Valley Brewery</td>\n",
       "      <td>101 Walnut St</td>\n",
       "      <td>Green Lane</td>\n",
       "      <td>MO</td>\n",
       "      <td>18054</td>\n",
       "      <td>40.338183</td>\n",
       "      <td>-75.471659</td>\n",
       "      <td>4.5</td>\n",
       "      <td>13</td>\n",
       "      <td>1</td>\n",
       "      <td>{'AcceptsInsurance': None, 'AgesAllowed': None...</td>\n",
       "      <td>Brewpubs, Breweries, Food</td>\n",
       "      <td>{'Friday': '12:0-22:0', 'Monday': None, 'Satur...</td>\n",
       "    </tr>\n",
       "  </tbody>\n",
       "</table>\n",
       "</div>"
      ],
      "text/plain": [
       "              business_id                      name  \\\n",
       "0  Pns2l4eNsfO8kk83dixA6A  Abby Rappoport, LAC, CMQ   \n",
       "1  mpf3x-BjTdTEA3yCZrAYPw             The UPS Store   \n",
       "2  tUFrWirKiKi_TAnsVWINQQ                    Target   \n",
       "3  MTSW4McQd7CbVtyjqoe9mw        St Honore Pastries   \n",
       "4  mWMc6_wTdE0EUBKIGXDVfA  Perkiomen Valley Brewery   \n",
       "\n",
       "                           address           city state postal_code  \\\n",
       "0           1616 Chapala St, Ste 2  Santa Barbara  None       93101   \n",
       "1  87 Grasso Plaza Shopping Center         Affton  None       63123   \n",
       "2             5255 E Broadway Blvd         Tucson  None       85711   \n",
       "3                      935 Race St   Philadelphia    CA       19107   \n",
       "4                    101 Walnut St     Green Lane    MO       18054   \n",
       "\n",
       "    latitude   longitude  stars  review_count  is_open  \\\n",
       "0  34.426679 -119.711197    5.0             7        0   \n",
       "1  38.551126  -90.335695    3.0            15        1   \n",
       "2  32.223236 -110.880452    3.5            22        0   \n",
       "3  39.955505  -75.155564    4.0            80        1   \n",
       "4  40.338183  -75.471659    4.5            13        1   \n",
       "\n",
       "                                          attributes  \\\n",
       "0  {'AcceptsInsurance': None, 'AgesAllowed': None...   \n",
       "1  {'AcceptsInsurance': None, 'AgesAllowed': None...   \n",
       "2  {'AcceptsInsurance': None, 'AgesAllowed': None...   \n",
       "3  {'AcceptsInsurance': None, 'AgesAllowed': None...   \n",
       "4  {'AcceptsInsurance': None, 'AgesAllowed': None...   \n",
       "\n",
       "                                          categories  \\\n",
       "0  Doctors, Traditional Chinese Medicine, Naturop...   \n",
       "1  Shipping Centers, Local Services, Notaries, Ma...   \n",
       "2  Department Stores, Shopping, Fashion, Home & G...   \n",
       "3  Restaurants, Food, Bubble Tea, Coffee & Tea, B...   \n",
       "4                          Brewpubs, Breweries, Food   \n",
       "\n",
       "                                               hours  \n",
       "0                                               None  \n",
       "1  {'Friday': '8:0-18:30', 'Monday': '0:0-0:0', '...  \n",
       "2  {'Friday': '8:0-23:0', 'Monday': '8:0-22:0', '...  \n",
       "3  {'Friday': '7:0-21:0', 'Monday': '7:0-20:0', '...  \n",
       "4  {'Friday': '12:0-22:0', 'Monday': None, 'Satur...  "
      ]
     },
     "execution_count": 25,
     "metadata": {},
     "output_type": "execute_result"
    }
   ],
   "source": [
    "dfbusiness.head()"
   ]
  },
  {
   "cell_type": "markdown",
   "metadata": {},
   "source": [
    "Filtramos el dataset business con las categorias que seleccionamos"
   ]
  },
  {
   "cell_type": "code",
   "execution_count": 39,
   "metadata": {},
   "outputs": [],
   "source": [
    "dfbusiness_filtrados=dfbusiness[dfbusiness.categories.str.contains('|'.join(categorias['Categoria']))].copy()"
   ]
  },
  {
   "cell_type": "code",
   "execution_count": 31,
   "metadata": {},
   "outputs": [],
   "source": [
    "dfreviews=pd.read_parquet(r'..\\datasets\\parquets\\reviews_yelp')"
   ]
  },
  {
   "cell_type": "code",
   "execution_count": 35,
   "metadata": {},
   "outputs": [
    {
     "data": {
      "text/html": [
       "<div>\n",
       "<style scoped>\n",
       "    .dataframe tbody tr th:only-of-type {\n",
       "        vertical-align: middle;\n",
       "    }\n",
       "\n",
       "    .dataframe tbody tr th {\n",
       "        vertical-align: top;\n",
       "    }\n",
       "\n",
       "    .dataframe thead th {\n",
       "        text-align: right;\n",
       "    }\n",
       "</style>\n",
       "<table border=\"1\" class=\"dataframe\">\n",
       "  <thead>\n",
       "    <tr style=\"text-align: right;\">\n",
       "      <th></th>\n",
       "      <th>review_id</th>\n",
       "      <th>user_id</th>\n",
       "      <th>business_id</th>\n",
       "      <th>stars</th>\n",
       "      <th>useful</th>\n",
       "      <th>funny</th>\n",
       "      <th>cool</th>\n",
       "      <th>text</th>\n",
       "      <th>date</th>\n",
       "    </tr>\n",
       "  </thead>\n",
       "  <tbody>\n",
       "    <tr>\n",
       "      <th>0</th>\n",
       "      <td>KU_O5udG6zpxOg-VcAEodg</td>\n",
       "      <td>mh_-eMZ6K5RLWhZyISBhwA</td>\n",
       "      <td>XQfwVwDr-v0ZS3_CbbE5Xw</td>\n",
       "      <td>3.0</td>\n",
       "      <td>0</td>\n",
       "      <td>0</td>\n",
       "      <td>0</td>\n",
       "      <td>If you decide to eat here, just be aware it is...</td>\n",
       "      <td>2018-07-07 22:09:11</td>\n",
       "    </tr>\n",
       "    <tr>\n",
       "      <th>1</th>\n",
       "      <td>BiTunyQ73aT9WBnpR9DZGw</td>\n",
       "      <td>OyoGAe7OKpv6SyGZT5g77Q</td>\n",
       "      <td>7ATYjTIgM3jUlt4UM3IypQ</td>\n",
       "      <td>5.0</td>\n",
       "      <td>1</td>\n",
       "      <td>0</td>\n",
       "      <td>1</td>\n",
       "      <td>I've taken a lot of spin classes over the year...</td>\n",
       "      <td>2012-01-03 15:28:18</td>\n",
       "    </tr>\n",
       "    <tr>\n",
       "      <th>2</th>\n",
       "      <td>saUsX_uimxRlCVr67Z4Jig</td>\n",
       "      <td>8g_iMtfSiwikVnbP2etR0A</td>\n",
       "      <td>YjUWPpI6HXG530lwP-fb2A</td>\n",
       "      <td>3.0</td>\n",
       "      <td>0</td>\n",
       "      <td>0</td>\n",
       "      <td>0</td>\n",
       "      <td>Family diner. Had the buffet. Eclectic assortm...</td>\n",
       "      <td>2014-02-05 20:30:30</td>\n",
       "    </tr>\n",
       "    <tr>\n",
       "      <th>3</th>\n",
       "      <td>AqPFMleE6RsU23_auESxiA</td>\n",
       "      <td>_7bHUi9Uuf5__HHc_Q8guQ</td>\n",
       "      <td>kxX2SOes4o-D3ZQBkiMRfA</td>\n",
       "      <td>5.0</td>\n",
       "      <td>1</td>\n",
       "      <td>0</td>\n",
       "      <td>1</td>\n",
       "      <td>Wow!  Yummy, different,  delicious.   Our favo...</td>\n",
       "      <td>2015-01-04 00:01:03</td>\n",
       "    </tr>\n",
       "    <tr>\n",
       "      <th>4</th>\n",
       "      <td>Sx8TMOWLNuJBWer-0pcmoA</td>\n",
       "      <td>bcjbaE6dDog4jkNY91ncLQ</td>\n",
       "      <td>e4Vwtrqf-wpJfwesgvdgxQ</td>\n",
       "      <td>4.0</td>\n",
       "      <td>1</td>\n",
       "      <td>0</td>\n",
       "      <td>1</td>\n",
       "      <td>Cute interior and owner (?) gave us tour of up...</td>\n",
       "      <td>2017-01-14 20:54:15</td>\n",
       "    </tr>\n",
       "  </tbody>\n",
       "</table>\n",
       "</div>"
      ],
      "text/plain": [
       "                review_id                 user_id             business_id  \\\n",
       "0  KU_O5udG6zpxOg-VcAEodg  mh_-eMZ6K5RLWhZyISBhwA  XQfwVwDr-v0ZS3_CbbE5Xw   \n",
       "1  BiTunyQ73aT9WBnpR9DZGw  OyoGAe7OKpv6SyGZT5g77Q  7ATYjTIgM3jUlt4UM3IypQ   \n",
       "2  saUsX_uimxRlCVr67Z4Jig  8g_iMtfSiwikVnbP2etR0A  YjUWPpI6HXG530lwP-fb2A   \n",
       "3  AqPFMleE6RsU23_auESxiA  _7bHUi9Uuf5__HHc_Q8guQ  kxX2SOes4o-D3ZQBkiMRfA   \n",
       "4  Sx8TMOWLNuJBWer-0pcmoA  bcjbaE6dDog4jkNY91ncLQ  e4Vwtrqf-wpJfwesgvdgxQ   \n",
       "\n",
       "   stars  useful  funny  cool  \\\n",
       "0    3.0       0      0     0   \n",
       "1    5.0       1      0     1   \n",
       "2    3.0       0      0     0   \n",
       "3    5.0       1      0     1   \n",
       "4    4.0       1      0     1   \n",
       "\n",
       "                                                text                 date  \n",
       "0  If you decide to eat here, just be aware it is...  2018-07-07 22:09:11  \n",
       "1  I've taken a lot of spin classes over the year...  2012-01-03 15:28:18  \n",
       "2  Family diner. Had the buffet. Eclectic assortm...  2014-02-05 20:30:30  \n",
       "3  Wow!  Yummy, different,  delicious.   Our favo...  2015-01-04 00:01:03  \n",
       "4  Cute interior and owner (?) gave us tour of up...  2017-01-14 20:54:15  "
      ]
     },
     "execution_count": 35,
     "metadata": {},
     "output_type": "execute_result"
    }
   ],
   "source": [
    "dfreviews.head()"
   ]
  },
  {
   "cell_type": "markdown",
   "metadata": {},
   "source": [
    "Se checan datos nulos en las reviews"
   ]
  },
  {
   "cell_type": "code",
   "execution_count": 37,
   "metadata": {},
   "outputs": [
    {
     "name": "stdout",
     "output_type": "stream",
     "text": [
      "Datos nulos en reviews review_id      0\n",
      "user_id        0\n",
      "business_id    0\n",
      "stars          0\n",
      "useful         0\n",
      "funny          0\n",
      "cool           0\n",
      "text           0\n",
      "date           0\n",
      "dtype: int64\n"
     ]
    }
   ],
   "source": [
    "print('Datos nulos en reviews',dfreviews.isna().sum())"
   ]
  },
  {
   "cell_type": "markdown",
   "metadata": {},
   "source": [
    "Se checan datos ducplicados en reviews"
   ]
  },
  {
   "cell_type": "code",
   "execution_count": 38,
   "metadata": {},
   "outputs": [
    {
     "name": "stdout",
     "output_type": "stream",
     "text": [
      "Datos duplicados en reviews 0\n"
     ]
    }
   ],
   "source": [
    "print('Datos duplicados en reviews',dfreviews.duplicated().sum())"
   ]
  },
  {
   "cell_type": "markdown",
   "metadata": {},
   "source": [
    "Se checan tipos de datos del dataset reviews"
   ]
  },
  {
   "cell_type": "code",
   "execution_count": 32,
   "metadata": {},
   "outputs": [
    {
     "name": "stdout",
     "output_type": "stream",
     "text": [
      "<class 'pandas.core.frame.DataFrame'>\n",
      "RangeIndex: 6990280 entries, 0 to 6990279\n",
      "Data columns (total 9 columns):\n",
      " #   Column       Dtype                \n",
      "---  ------       -----                \n",
      " 0   review_id    string               \n",
      " 1   user_id      string               \n",
      " 2   business_id  string               \n",
      " 3   stars        double[pyarrow]      \n",
      " 4   useful       int64[pyarrow]       \n",
      " 5   funny        int64[pyarrow]       \n",
      " 6   cool         int64[pyarrow]       \n",
      " 7   text         string               \n",
      " 8   date         timestamp[s][pyarrow]\n",
      "dtypes: double[pyarrow](1), int64[pyarrow](3), string(4), timestamp[s][pyarrow](1)\n",
      "memory usage: 484.2 MB\n"
     ]
    }
   ],
   "source": [
    "dfreviews.info()"
   ]
  },
  {
   "cell_type": "markdown",
   "metadata": {},
   "source": [
    "Se hace un merge de los negocios filtrados por el business_id, trayendo las columnas review_id, business_id_name"
   ]
  },
  {
   "cell_type": "code",
   "execution_count": 46,
   "metadata": {},
   "outputs": [
    {
     "data": {
      "text/html": [
       "<div>\n",
       "<style scoped>\n",
       "    .dataframe tbody tr th:only-of-type {\n",
       "        vertical-align: middle;\n",
       "    }\n",
       "\n",
       "    .dataframe tbody tr th {\n",
       "        vertical-align: top;\n",
       "    }\n",
       "\n",
       "    .dataframe thead th {\n",
       "        text-align: right;\n",
       "    }\n",
       "</style>\n",
       "<table border=\"1\" class=\"dataframe\">\n",
       "  <thead>\n",
       "    <tr style=\"text-align: right;\">\n",
       "      <th></th>\n",
       "      <th>review_id</th>\n",
       "      <th>business_id</th>\n",
       "      <th>name</th>\n",
       "    </tr>\n",
       "  </thead>\n",
       "  <tbody>\n",
       "    <tr>\n",
       "      <th>0</th>\n",
       "      <td>u2vzZaOqJ2feRshaaF1doQ</td>\n",
       "      <td>CLEWowfkj-wKYJlQDqT1aw</td>\n",
       "      <td>Blow Bar Express Styling Salon</td>\n",
       "    </tr>\n",
       "    <tr>\n",
       "      <th>1</th>\n",
       "      <td>RwHUth37oaXa7HEkUdfrKw</td>\n",
       "      <td>CLEWowfkj-wKYJlQDqT1aw</td>\n",
       "      <td>Blow Bar Express Styling Salon</td>\n",
       "    </tr>\n",
       "    <tr>\n",
       "      <th>2</th>\n",
       "      <td>4FhqOo4zqwxgA8fNQC3mGw</td>\n",
       "      <td>CLEWowfkj-wKYJlQDqT1aw</td>\n",
       "      <td>Blow Bar Express Styling Salon</td>\n",
       "    </tr>\n",
       "    <tr>\n",
       "      <th>3</th>\n",
       "      <td>hd0uao_OKbqeluoIvt2q3w</td>\n",
       "      <td>CLEWowfkj-wKYJlQDqT1aw</td>\n",
       "      <td>Blow Bar Express Styling Salon</td>\n",
       "    </tr>\n",
       "    <tr>\n",
       "      <th>4</th>\n",
       "      <td>ICfGBTBaiAv3ZCV5pVZf7Q</td>\n",
       "      <td>CLEWowfkj-wKYJlQDqT1aw</td>\n",
       "      <td>Blow Bar Express Styling Salon</td>\n",
       "    </tr>\n",
       "    <tr>\n",
       "      <th>...</th>\n",
       "      <td>...</td>\n",
       "      <td>...</td>\n",
       "      <td>...</td>\n",
       "    </tr>\n",
       "    <tr>\n",
       "      <th>374613</th>\n",
       "      <td>0gai4MzBzFCa7JsS31RRjg</td>\n",
       "      <td>vI4vyi1dfG93oAiSRFDymA</td>\n",
       "      <td>Aesthetic Dermatology Associates</td>\n",
       "    </tr>\n",
       "    <tr>\n",
       "      <th>374614</th>\n",
       "      <td>7MZu6bFdFoqr7MyPKqvoew</td>\n",
       "      <td>vI4vyi1dfG93oAiSRFDymA</td>\n",
       "      <td>Aesthetic Dermatology Associates</td>\n",
       "    </tr>\n",
       "    <tr>\n",
       "      <th>374615</th>\n",
       "      <td>3emHuLQvuAw0l66TzSWmKA</td>\n",
       "      <td>vI4vyi1dfG93oAiSRFDymA</td>\n",
       "      <td>Aesthetic Dermatology Associates</td>\n",
       "    </tr>\n",
       "    <tr>\n",
       "      <th>374616</th>\n",
       "      <td>T-adPwD-eP2LvuDINKOA9g</td>\n",
       "      <td>vI4vyi1dfG93oAiSRFDymA</td>\n",
       "      <td>Aesthetic Dermatology Associates</td>\n",
       "    </tr>\n",
       "    <tr>\n",
       "      <th>374617</th>\n",
       "      <td>lKSY-hIMd9MX8Z5fRpUgDg</td>\n",
       "      <td>vI4vyi1dfG93oAiSRFDymA</td>\n",
       "      <td>Aesthetic Dermatology Associates</td>\n",
       "    </tr>\n",
       "  </tbody>\n",
       "</table>\n",
       "<p>374618 rows × 3 columns</p>\n",
       "</div>"
      ],
      "text/plain": [
       "                     review_id             business_id  \\\n",
       "0       u2vzZaOqJ2feRshaaF1doQ  CLEWowfkj-wKYJlQDqT1aw   \n",
       "1       RwHUth37oaXa7HEkUdfrKw  CLEWowfkj-wKYJlQDqT1aw   \n",
       "2       4FhqOo4zqwxgA8fNQC3mGw  CLEWowfkj-wKYJlQDqT1aw   \n",
       "3       hd0uao_OKbqeluoIvt2q3w  CLEWowfkj-wKYJlQDqT1aw   \n",
       "4       ICfGBTBaiAv3ZCV5pVZf7Q  CLEWowfkj-wKYJlQDqT1aw   \n",
       "...                        ...                     ...   \n",
       "374613  0gai4MzBzFCa7JsS31RRjg  vI4vyi1dfG93oAiSRFDymA   \n",
       "374614  7MZu6bFdFoqr7MyPKqvoew  vI4vyi1dfG93oAiSRFDymA   \n",
       "374615  3emHuLQvuAw0l66TzSWmKA  vI4vyi1dfG93oAiSRFDymA   \n",
       "374616  T-adPwD-eP2LvuDINKOA9g  vI4vyi1dfG93oAiSRFDymA   \n",
       "374617  lKSY-hIMd9MX8Z5fRpUgDg  vI4vyi1dfG93oAiSRFDymA   \n",
       "\n",
       "                                    name  \n",
       "0         Blow Bar Express Styling Salon  \n",
       "1         Blow Bar Express Styling Salon  \n",
       "2         Blow Bar Express Styling Salon  \n",
       "3         Blow Bar Express Styling Salon  \n",
       "4         Blow Bar Express Styling Salon  \n",
       "...                                  ...  \n",
       "374613  Aesthetic Dermatology Associates  \n",
       "374614  Aesthetic Dermatology Associates  \n",
       "374615  Aesthetic Dermatology Associates  \n",
       "374616  Aesthetic Dermatology Associates  \n",
       "374617  Aesthetic Dermatology Associates  \n",
       "\n",
       "[374618 rows x 3 columns]"
      ]
     },
     "execution_count": 46,
     "metadata": {},
     "output_type": "execute_result"
    }
   ],
   "source": [
    "dfreviews_filtrados=dfreviews[['review_id', 'business_id']].merge(right=dfbusiness_filtrados[['business_id','name']],how='inner')\n",
    "dfreviews_filtrados"
   ]
  },
  {
   "cell_type": "markdown",
   "metadata": {},
   "source": [
    "Agrupamos por el número de reviews de los negocios ya filtrados por categoría, y tomamos un top 100 para hacer un análisis de los negocios más representativos"
   ]
  },
  {
   "cell_type": "code",
   "execution_count": 86,
   "metadata": {},
   "outputs": [],
   "source": [
    "dfreviews_top_100=dfreviews_filtrados.groupby(['name'])[['review_id']].count().sort_values(ascending=False,by='review_id').head(100)"
   ]
  },
  {
   "cell_type": "code",
   "execution_count": 92,
   "metadata": {},
   "outputs": [
    {
     "data": {
      "text/html": [
       "<div>\n",
       "<style scoped>\n",
       "    .dataframe tbody tr th:only-of-type {\n",
       "        vertical-align: middle;\n",
       "    }\n",
       "\n",
       "    .dataframe tbody tr th {\n",
       "        vertical-align: top;\n",
       "    }\n",
       "\n",
       "    .dataframe thead th {\n",
       "        text-align: right;\n",
       "    }\n",
       "</style>\n",
       "<table border=\"1\" class=\"dataframe\">\n",
       "  <thead>\n",
       "    <tr style=\"text-align: right;\">\n",
       "      <th></th>\n",
       "      <th>review_id</th>\n",
       "    </tr>\n",
       "    <tr>\n",
       "      <th>name</th>\n",
       "      <th></th>\n",
       "    </tr>\n",
       "  </thead>\n",
       "  <tbody>\n",
       "    <tr>\n",
       "      <th>Walgreens</th>\n",
       "      <td>4136</td>\n",
       "    </tr>\n",
       "    <tr>\n",
       "      <th>European Wax Center</th>\n",
       "      <td>3484</td>\n",
       "    </tr>\n",
       "    <tr>\n",
       "      <th>Peppermill Reno</th>\n",
       "      <td>2715</td>\n",
       "    </tr>\n",
       "    <tr>\n",
       "      <th>Supercuts</th>\n",
       "      <td>2204</td>\n",
       "    </tr>\n",
       "    <tr>\n",
       "      <th>Great Clips</th>\n",
       "      <td>2055</td>\n",
       "    </tr>\n",
       "  </tbody>\n",
       "</table>\n",
       "</div>"
      ],
      "text/plain": [
       "                     review_id\n",
       "name                          \n",
       "Walgreens                 4136\n",
       "European Wax Center       3484\n",
       "Peppermill Reno           2715\n",
       "Supercuts                 2204\n",
       "Great Clips               2055"
      ]
     },
     "execution_count": 92,
     "metadata": {},
     "output_type": "execute_result"
    }
   ],
   "source": [
    "dfreviews_top_100.head()"
   ]
  },
  {
   "cell_type": "markdown",
   "metadata": {},
   "source": [
    "Guardamos en un csv para tener un respaldo del trabajo"
   ]
  },
  {
   "cell_type": "code",
   "execution_count": 88,
   "metadata": {},
   "outputs": [],
   "source": [
    "dfreviews_top_100.to_csv('../datasets/csv/Top_100_reviews_Yelp.csv', index=False)"
   ]
  },
  {
   "cell_type": "code",
   "execution_count": 90,
   "metadata": {},
   "outputs": [],
   "source": [
    "dfreviews_top_100_Google=pd.read_csv(r'..\\datasets\\csv\\top_100_reviews_google.csv')"
   ]
  },
  {
   "cell_type": "code",
   "execution_count": 91,
   "metadata": {},
   "outputs": [
    {
     "data": {
      "text/html": [
       "<div>\n",
       "<style scoped>\n",
       "    .dataframe tbody tr th:only-of-type {\n",
       "        vertical-align: middle;\n",
       "    }\n",
       "\n",
       "    .dataframe tbody tr th {\n",
       "        vertical-align: top;\n",
       "    }\n",
       "\n",
       "    .dataframe thead th {\n",
       "        text-align: right;\n",
       "    }\n",
       "</style>\n",
       "<table border=\"1\" class=\"dataframe\">\n",
       "  <thead>\n",
       "    <tr style=\"text-align: right;\">\n",
       "      <th></th>\n",
       "      <th>name</th>\n",
       "      <th>num_of_reviews</th>\n",
       "    </tr>\n",
       "  </thead>\n",
       "  <tbody>\n",
       "    <tr>\n",
       "      <th>0</th>\n",
       "      <td>Walgreens</td>\n",
       "      <td>143782</td>\n",
       "    </tr>\n",
       "    <tr>\n",
       "      <th>1</th>\n",
       "      <td>CVS</td>\n",
       "      <td>139903</td>\n",
       "    </tr>\n",
       "    <tr>\n",
       "      <th>2</th>\n",
       "      <td>Great Clips</td>\n",
       "      <td>124656</td>\n",
       "    </tr>\n",
       "    <tr>\n",
       "      <th>3</th>\n",
       "      <td>Supercuts</td>\n",
       "      <td>81474</td>\n",
       "    </tr>\n",
       "    <tr>\n",
       "      <th>4</th>\n",
       "      <td>Planet Fitness</td>\n",
       "      <td>60613</td>\n",
       "    </tr>\n",
       "  </tbody>\n",
       "</table>\n",
       "</div>"
      ],
      "text/plain": [
       "             name  num_of_reviews\n",
       "0       Walgreens          143782\n",
       "1             CVS          139903\n",
       "2     Great Clips          124656\n",
       "3       Supercuts           81474\n",
       "4  Planet Fitness           60613"
      ]
     },
     "execution_count": 91,
     "metadata": {},
     "output_type": "execute_result"
    }
   ],
   "source": [
    "dfreviews_top_100_Google.head()"
   ]
  },
  {
   "cell_type": "code",
   "execution_count": 96,
   "metadata": {},
   "outputs": [],
   "source": [
    "dfreviews_top_100_Google.merge(right=dfreviews_top_100,how='inner',left_on='name',right_on='name').rename(columns={'num_of_reviews':'reviews_Google','review_id':'reviews_Yelp'}).to_csv('..\\datasets\\csv\\Top_25_merge.csv',index=False)"
   ]
  },
  {
   "cell_type": "code",
   "execution_count": 68,
   "metadata": {},
   "outputs": [
    {
     "data": {
      "text/html": [
       "<div>\n",
       "<style scoped>\n",
       "    .dataframe tbody tr th:only-of-type {\n",
       "        vertical-align: middle;\n",
       "    }\n",
       "\n",
       "    .dataframe tbody tr th {\n",
       "        vertical-align: top;\n",
       "    }\n",
       "\n",
       "    .dataframe thead th {\n",
       "        text-align: right;\n",
       "    }\n",
       "</style>\n",
       "<table border=\"1\" class=\"dataframe\">\n",
       "  <thead>\n",
       "    <tr style=\"text-align: right;\">\n",
       "      <th></th>\n",
       "      <th>business_id</th>\n",
       "      <th>name</th>\n",
       "      <th>address</th>\n",
       "      <th>city</th>\n",
       "      <th>state</th>\n",
       "      <th>postal_code</th>\n",
       "      <th>latitude</th>\n",
       "      <th>longitude</th>\n",
       "      <th>stars</th>\n",
       "      <th>review_count</th>\n",
       "      <th>is_open</th>\n",
       "      <th>attributes</th>\n",
       "      <th>categories</th>\n",
       "      <th>hours</th>\n",
       "    </tr>\n",
       "  </thead>\n",
       "  <tbody>\n",
       "    <tr>\n",
       "      <th>40</th>\n",
       "      <td>x1mhq4IpWctQOBM06dU8vg</td>\n",
       "      <td>Diamond Hair Company</td>\n",
       "      <td>5324 W 16th St</td>\n",
       "      <td>Indianapolis</td>\n",
       "      <td>DE</td>\n",
       "      <td>46224</td>\n",
       "      <td>39.787464</td>\n",
       "      <td>-86.251421</td>\n",
       "      <td>1.5</td>\n",
       "      <td>25</td>\n",
       "      <td>1</td>\n",
       "      <td>{'AcceptsInsurance': None, 'AgesAllowed': None...</td>\n",
       "      <td>Hair Salons, Hair Extensions, Beauty &amp; Spas, W...</td>\n",
       "      <td>{'Friday': '9:0-18:0', 'Monday': '9:0-18:0', '...</td>\n",
       "    </tr>\n",
       "    <tr>\n",
       "      <th>43</th>\n",
       "      <td>Kq51_lGAgAigqmENITTr-A</td>\n",
       "      <td>Bala Better Health</td>\n",
       "      <td>2 Bala Plz, Ste PL-11</td>\n",
       "      <td>Bala Cynwyd</td>\n",
       "      <td>IN</td>\n",
       "      <td>19004</td>\n",
       "      <td>40.006870</td>\n",
       "      <td>-75.217262</td>\n",
       "      <td>4.0</td>\n",
       "      <td>13</td>\n",
       "      <td>1</td>\n",
       "      <td>{'AcceptsInsurance': 'False', 'AgesAllowed': N...</td>\n",
       "      <td>Health &amp; Medical, Beauty &amp; Spas, Laser Hair Re...</td>\n",
       "      <td>{'Friday': None, 'Monday': '0:0-0:0', 'Saturda...</td>\n",
       "    </tr>\n",
       "  </tbody>\n",
       "</table>\n",
       "</div>"
      ],
      "text/plain": [
       "               business_id                  name                address  \\\n",
       "40  x1mhq4IpWctQOBM06dU8vg  Diamond Hair Company         5324 W 16th St   \n",
       "43  Kq51_lGAgAigqmENITTr-A    Bala Better Health  2 Bala Plz, Ste PL-11   \n",
       "\n",
       "            city state postal_code   latitude  longitude  stars  review_count  \\\n",
       "40  Indianapolis    DE       46224  39.787464 -86.251421    1.5            25   \n",
       "43   Bala Cynwyd    IN       19004  40.006870 -75.217262    4.0            13   \n",
       "\n",
       "    is_open                                         attributes  \\\n",
       "40        1  {'AcceptsInsurance': None, 'AgesAllowed': None...   \n",
       "43        1  {'AcceptsInsurance': 'False', 'AgesAllowed': N...   \n",
       "\n",
       "                                           categories  \\\n",
       "40  Hair Salons, Hair Extensions, Beauty & Spas, W...   \n",
       "43  Health & Medical, Beauty & Spas, Laser Hair Re...   \n",
       "\n",
       "                                                hours  \n",
       "40  {'Friday': '9:0-18:0', 'Monday': '9:0-18:0', '...  \n",
       "43  {'Friday': None, 'Monday': '0:0-0:0', 'Saturda...  "
      ]
     },
     "execution_count": 68,
     "metadata": {},
     "output_type": "execute_result"
    }
   ],
   "source": [
    "dfbusiness_filtrados.head(2)"
   ]
  },
  {
   "cell_type": "code",
   "execution_count": 66,
   "metadata": {},
   "outputs": [
    {
     "data": {
      "text/plain": [
       "is_open\n",
       "1    119603\n",
       "0     30640\n",
       "Name: count, dtype: int64"
      ]
     },
     "execution_count": 66,
     "metadata": {},
     "output_type": "execute_result"
    }
   ],
   "source": [
    "dfbusiness.is_open.value_counts()"
   ]
  },
  {
   "cell_type": "code",
   "execution_count": 69,
   "metadata": {},
   "outputs": [
    {
     "data": {
      "text/html": [
       "<div>\n",
       "<style scoped>\n",
       "    .dataframe tbody tr th:only-of-type {\n",
       "        vertical-align: middle;\n",
       "    }\n",
       "\n",
       "    .dataframe tbody tr th {\n",
       "        vertical-align: top;\n",
       "    }\n",
       "\n",
       "    .dataframe thead th {\n",
       "        text-align: right;\n",
       "    }\n",
       "</style>\n",
       "<table border=\"1\" class=\"dataframe\">\n",
       "  <thead>\n",
       "    <tr style=\"text-align: right;\">\n",
       "      <th></th>\n",
       "      <th>business_id</th>\n",
       "      <th>name</th>\n",
       "      <th>state</th>\n",
       "      <th>latitude</th>\n",
       "      <th>longitude</th>\n",
       "      <th>stars</th>\n",
       "      <th>review_count</th>\n",
       "      <th>is_open</th>\n",
       "      <th>attributes</th>\n",
       "      <th>categories</th>\n",
       "      <th>hours</th>\n",
       "    </tr>\n",
       "  </thead>\n",
       "  <tbody>\n",
       "    <tr>\n",
       "      <th>40</th>\n",
       "      <td>x1mhq4IpWctQOBM06dU8vg</td>\n",
       "      <td>Diamond Hair Company</td>\n",
       "      <td>DE</td>\n",
       "      <td>39.787464</td>\n",
       "      <td>-86.251421</td>\n",
       "      <td>1.5</td>\n",
       "      <td>25</td>\n",
       "      <td>1</td>\n",
       "      <td>{'AcceptsInsurance': None, 'AgesAllowed': None...</td>\n",
       "      <td>Hair Salons, Hair Extensions, Beauty &amp; Spas, W...</td>\n",
       "      <td>{'Friday': '9:0-18:0', 'Monday': '9:0-18:0', '...</td>\n",
       "    </tr>\n",
       "    <tr>\n",
       "      <th>43</th>\n",
       "      <td>Kq51_lGAgAigqmENITTr-A</td>\n",
       "      <td>Bala Better Health</td>\n",
       "      <td>IN</td>\n",
       "      <td>40.006870</td>\n",
       "      <td>-75.217262</td>\n",
       "      <td>4.0</td>\n",
       "      <td>13</td>\n",
       "      <td>1</td>\n",
       "      <td>{'AcceptsInsurance': 'False', 'AgesAllowed': N...</td>\n",
       "      <td>Health &amp; Medical, Beauty &amp; Spas, Laser Hair Re...</td>\n",
       "      <td>{'Friday': None, 'Monday': '0:0-0:0', 'Saturda...</td>\n",
       "    </tr>\n",
       "    <tr>\n",
       "      <th>74</th>\n",
       "      <td>9Rww8yE6Dm4dSMEq09nwXg</td>\n",
       "      <td>Holly Nails &amp; Spa</td>\n",
       "      <td>TN</td>\n",
       "      <td>27.855347</td>\n",
       "      <td>-82.736308</td>\n",
       "      <td>4.5</td>\n",
       "      <td>16</td>\n",
       "      <td>1</td>\n",
       "      <td>{'AcceptsInsurance': None, 'AgesAllowed': None...</td>\n",
       "      <td>Health &amp; Medical, Personal Care Services, Beau...</td>\n",
       "      <td>{'Friday': '9:30-19:0', 'Monday': None, 'Satur...</td>\n",
       "    </tr>\n",
       "    <tr>\n",
       "      <th>123</th>\n",
       "      <td>iPSPcprSnkLOuL1Ns8UZZA</td>\n",
       "      <td>Pete's Barber Shop</td>\n",
       "      <td>CA</td>\n",
       "      <td>39.974880</td>\n",
       "      <td>-75.183262</td>\n",
       "      <td>4.5</td>\n",
       "      <td>12</td>\n",
       "      <td>1</td>\n",
       "      <td>{'AcceptsInsurance': None, 'AgesAllowed': None...</td>\n",
       "      <td>Barbers, Beauty &amp; Spas</td>\n",
       "      <td>None</td>\n",
       "    </tr>\n",
       "    <tr>\n",
       "      <th>156</th>\n",
       "      <td>t5tBd4p7BA7hNDitBUXxrw</td>\n",
       "      <td>Boise Therapeutic Massage Center</td>\n",
       "      <td>FL</td>\n",
       "      <td>43.611949</td>\n",
       "      <td>-116.271110</td>\n",
       "      <td>4.0</td>\n",
       "      <td>68</td>\n",
       "      <td>1</td>\n",
       "      <td>{'AcceptsInsurance': 'True', 'AgesAllowed': No...</td>\n",
       "      <td>Massage, Health &amp; Medical, Medical Spas, Beaut...</td>\n",
       "      <td>{'Friday': '9:0-21:0', 'Monday': '9:0-21:0', '...</td>\n",
       "    </tr>\n",
       "  </tbody>\n",
       "</table>\n",
       "</div>"
      ],
      "text/plain": [
       "                business_id                              name state  \\\n",
       "40   x1mhq4IpWctQOBM06dU8vg              Diamond Hair Company    DE   \n",
       "43   Kq51_lGAgAigqmENITTr-A                Bala Better Health    IN   \n",
       "74   9Rww8yE6Dm4dSMEq09nwXg                 Holly Nails & Spa    TN   \n",
       "123  iPSPcprSnkLOuL1Ns8UZZA                Pete's Barber Shop    CA   \n",
       "156  t5tBd4p7BA7hNDitBUXxrw  Boise Therapeutic Massage Center    FL   \n",
       "\n",
       "      latitude   longitude  stars  review_count  is_open  \\\n",
       "40   39.787464  -86.251421    1.5            25        1   \n",
       "43   40.006870  -75.217262    4.0            13        1   \n",
       "74   27.855347  -82.736308    4.5            16        1   \n",
       "123  39.974880  -75.183262    4.5            12        1   \n",
       "156  43.611949 -116.271110    4.0            68        1   \n",
       "\n",
       "                                            attributes  \\\n",
       "40   {'AcceptsInsurance': None, 'AgesAllowed': None...   \n",
       "43   {'AcceptsInsurance': 'False', 'AgesAllowed': N...   \n",
       "74   {'AcceptsInsurance': None, 'AgesAllowed': None...   \n",
       "123  {'AcceptsInsurance': None, 'AgesAllowed': None...   \n",
       "156  {'AcceptsInsurance': 'True', 'AgesAllowed': No...   \n",
       "\n",
       "                                            categories  \\\n",
       "40   Hair Salons, Hair Extensions, Beauty & Spas, W...   \n",
       "43   Health & Medical, Beauty & Spas, Laser Hair Re...   \n",
       "74   Health & Medical, Personal Care Services, Beau...   \n",
       "123                             Barbers, Beauty & Spas   \n",
       "156  Massage, Health & Medical, Medical Spas, Beaut...   \n",
       "\n",
       "                                                 hours  \n",
       "40   {'Friday': '9:0-18:0', 'Monday': '9:0-18:0', '...  \n",
       "43   {'Friday': None, 'Monday': '0:0-0:0', 'Saturda...  \n",
       "74   {'Friday': '9:30-19:0', 'Monday': None, 'Satur...  \n",
       "123                                               None  \n",
       "156  {'Friday': '9:0-21:0', 'Monday': '9:0-21:0', '...  "
      ]
     },
     "execution_count": 69,
     "metadata": {},
     "output_type": "execute_result"
    }
   ],
   "source": [
    "dfbusiness_filtrados=dfbusiness_filtrados[['business_id', 'name', 'state','latitude','longitude','stars','review_count','is_open','attributes','categories','hours']]\n",
    "dfbusiness_filtrados.head()"
   ]
  },
  {
   "cell_type": "code",
   "execution_count": null,
   "metadata": {},
   "outputs": [],
   "source": []
  }
 ],
 "metadata": {
  "kernelspec": {
   "display_name": "Python 3",
   "language": "python",
   "name": "python3"
  },
  "language_info": {
   "codemirror_mode": {
    "name": "ipython",
    "version": 3
   },
   "file_extension": ".py",
   "mimetype": "text/x-python",
   "name": "python",
   "nbconvert_exporter": "python",
   "pygments_lexer": "ipython3",
   "version": "3.11.6"
  }
 },
 "nbformat": 4,
 "nbformat_minor": 2
}
