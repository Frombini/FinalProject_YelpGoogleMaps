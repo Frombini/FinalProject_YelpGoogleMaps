{
 "cells": [
  {
   "cell_type": "code",
   "execution_count": 2,
   "metadata": {},
   "outputs": [],
   "source": [
    "import pandas as pd\n",
    "import os"
   ]
  },
  {
   "cell_type": "markdown",
   "metadata": {},
   "source": [
    "# Google\n",
    "\n",
    "## Extraccion de locales"
   ]
  },
  {
   "cell_type": "code",
   "execution_count": 20,
   "metadata": {},
   "outputs": [],
   "source": [
    "reviews=pd.read_csv('../datasets/csv/G_ulta_beauty.csv')"
   ]
  },
  {
   "cell_type": "markdown",
   "metadata": {},
   "source": [
    "### Lectura de datos"
   ]
  },
  {
   "cell_type": "code",
   "execution_count": 21,
   "metadata": {},
   "outputs": [],
   "source": [
    "# Especifica la ruta de la carpeta que contiene los archivos .parquet particionados\n",
    "ruta_carpeta_parquet = '../datasets/parquets/metadatos Google'\n",
    "\n",
    "# Lista para almacenar DataFrames de cada partición\n",
    "dataframes = []\n",
    "\n",
    "# Itera sobre los archivos .parquet en la carpeta\n",
    "for root, dirs, files in os.walk(ruta_carpeta_parquet):\n",
    "    for file in files:\n",
    "        if file.endswith('.parquet'):\n",
    "            # Construye la ruta completa del archivo\n",
    "            ruta_completa = os.path.join(root, file)\n",
    "            \n",
    "            # Lee el archivo .parquet y agrega el DataFrame a la lista\n",
    "            df_particion = pd.read_parquet(ruta_completa)\n",
    "            dataframes.append(df_particion)\n",
    "\n",
    "# Concatena todos los DataFrames en uno solo\n",
    "df_google = pd.concat(dataframes, ignore_index=True)"
   ]
  },
  {
   "cell_type": "markdown",
   "metadata": {},
   "source": [
    "### Extraccion"
   ]
  },
  {
   "cell_type": "code",
   "execution_count": 22,
   "metadata": {},
   "outputs": [],
   "source": [
    "# Filtrar por el valor 'ulta beauty' en la columna 'name'\n",
    "df_google = df_google[df_google['name'] == 'Ulta Beauty']\n",
    "# Eliminamos columnas innecesarias\n",
    "df_google = df_google[[\"gmap_id\",'url',\"latitude\",\"longitude\",\"avg_rating\",\"State\", \"state\", \"address\"]]\n",
    "# Eliminamos Duplicados\n",
    "df_google.drop_duplicates(inplace=True)\n",
    "# Se exporta\n",
    "df_google.to_csv('../datasets/csv/G_ulta_establishments.csv', index=False)"
   ]
  },
  {
   "cell_type": "markdown",
   "metadata": {},
   "source": [
    "# Scrapping"
   ]
  },
  {
   "cell_type": "code",
   "execution_count": null,
   "metadata": {},
   "outputs": [],
   "source": [
    "#Instalamos extension para coneccion\n",
    "pip install apify-client"
   ]
  },
  {
   "cell_type": "markdown",
   "metadata": {},
   "source": [
    "### Importar API Y datos"
   ]
  },
  {
   "cell_type": "code",
   "execution_count": 14,
   "metadata": {},
   "outputs": [],
   "source": [
    "from apify_client import ApifyClient\n",
    "\n",
    "apify_client = ApifyClient('apify_api_USgUEX5UbJ4Z0YMJoKF4S1MYt9mCmw4mmrzs')\n",
    "\n",
    "# Fetch results from the actor's default dataset\n",
    "dataset = apify_client.dataset('IwxKoLSghgggI6jm1')\n",
    "\n",
    "#Extraigo los datos\n",
    "dataset_items=dataset.list_items()\n",
    "\n",
    "#Los paso a dataframe\n",
    "data_API=pd.DataFrame(data=dataset_items.items)"
   ]
  },
  {
   "cell_type": "code",
   "execution_count": 7,
   "metadata": {},
   "outputs": [
    {
     "data": {
      "text/plain": [
       "Index(['url', 'searchString', 'rank', 'searchPageUrl', 'searchPageLoadedUrl',\n",
       "       'isAdvertisement', 'title', 'subTitle', 'description', 'price',\n",
       "       'categoryName', 'address', 'neighborhood', 'street', 'city',\n",
       "       'postalCode', 'state', 'countryCode', 'website', 'phone',\n",
       "       'phoneUnformatted', 'claimThisBusiness', 'location', 'locatedIn',\n",
       "       'plusCode', 'menu', 'totalScore', 'permanentlyClosed',\n",
       "       'temporarilyClosed', 'placeId', 'categories', 'cid', 'reviewsCount',\n",
       "       'reviewsDistribution', 'imagesCount', 'imageCategories', 'scrapedAt',\n",
       "       'reserveTableUrl', 'googleFoodUrl', 'hotelStars', 'hotelDescription',\n",
       "       'checkInDate', 'checkOutDate', 'similarHotelsNearby',\n",
       "       'hotelReviewSummary', 'hotelAds', 'popularTimesLiveText',\n",
       "       'popularTimesLivePercent', 'popularTimesHistogram', 'openingHours',\n",
       "       'peopleAlsoSearch', 'placesTags', 'reviewsTags', 'additionalInfo',\n",
       "       'gasPrices', 'questionsAndAnswers', 'updatesFromCustomers',\n",
       "       'webResults', 'orderBy', 'imageUrls', 'reviews'],\n",
       "      dtype='object')"
      ]
     },
     "execution_count": 7,
     "metadata": {},
     "output_type": "execute_result"
    }
   ],
   "source": [
    "data_API.columns"
   ]
  },
  {
   "cell_type": "markdown",
   "metadata": {},
   "source": [
    "### Tratar columnas"
   ]
  },
  {
   "cell_type": "code",
   "execution_count": 15,
   "metadata": {},
   "outputs": [],
   "source": [
    "# Usar pd.json_normalize para aplanar la columna 'location'\n",
    "data_API = pd.concat([data_API, pd.json_normalize(data_API['location'])], axis=1)\n",
    "\n",
    "# Eliminar la columna 'location' si ya no la necesitas\n",
    "data_API = data_API.drop('location', axis=1)\n",
    "\n",
    "# Me quedo con las columnas de interes\n",
    "data_API=data_API[['url','searchString', 'state', 'lat', 'lng', 'reviews']]\n",
    "\n",
    "# Quito los diccionarios que estan en listas\n",
    "data_API = data_API.explode('reviews')\n",
    "\n",
    "#Reseteo los indices\n",
    "data_API=data_API.reset_index(drop=True)\n",
    "\n",
    "# Utilizo json_normalize para expandir la columna 'reviews'\n",
    "df_expanded  = pd.json_normalize(data_API['reviews'])\n",
    "\n",
    "# Combina el DataFrame expandido con el DataFrame original\n",
    "df_result = pd.concat([data_API, df_expanded], axis=1).drop(columns=['reviews'])"
   ]
  },
  {
   "cell_type": "markdown",
   "metadata": {},
   "source": [
    "### Renombrar columnas"
   ]
  },
  {
   "cell_type": "code",
   "execution_count": 16,
   "metadata": {},
   "outputs": [],
   "source": [
    "#Borramos nuevamente las columnas innecesarias\n",
    "df_result=df_result[['url', 'reviewerId',  'stars', 'text', 'publishedAtDate',  'name', 'lat', 'lng', 'state']]\n",
    "\n",
    "# Y las renombramos\n",
    "df_result.rename(columns={'url':'business_url','reviewerId':'user_id',  'lat': 'latitude','lng': 'longitude', 'state':'state_name'}, inplace=True)"
   ]
  },
  {
   "cell_type": "code",
   "execution_count": 17,
   "metadata": {},
   "outputs": [
    {
     "data": {
      "text/html": [
       "<div>\n",
       "<style scoped>\n",
       "    .dataframe tbody tr th:only-of-type {\n",
       "        vertical-align: middle;\n",
       "    }\n",
       "\n",
       "    .dataframe tbody tr th {\n",
       "        vertical-align: top;\n",
       "    }\n",
       "\n",
       "    .dataframe thead th {\n",
       "        text-align: right;\n",
       "    }\n",
       "</style>\n",
       "<table border=\"1\" class=\"dataframe\">\n",
       "  <thead>\n",
       "    <tr style=\"text-align: right;\">\n",
       "      <th></th>\n",
       "      <th>business_url</th>\n",
       "      <th>user_id</th>\n",
       "      <th>stars</th>\n",
       "      <th>text</th>\n",
       "      <th>publishedAtDate</th>\n",
       "      <th>name</th>\n",
       "      <th>latitude</th>\n",
       "      <th>longitude</th>\n",
       "      <th>state_name</th>\n",
       "    </tr>\n",
       "  </thead>\n",
       "  <tbody>\n",
       "    <tr>\n",
       "      <th>0</th>\n",
       "      <td>https://www.google.com/maps/place/Ulta+Beauty/...</td>\n",
       "      <td>NaN</td>\n",
       "      <td>5.0</td>\n",
       "      <td>Omar was amazing, he was very helpful today du...</td>\n",
       "      <td>2023-12-09T21:53:09.672Z</td>\n",
       "      <td>Lupita Valadez</td>\n",
       "      <td>34.215101</td>\n",
       "      <td>-119.068813</td>\n",
       "      <td>California</td>\n",
       "    </tr>\n",
       "    <tr>\n",
       "      <th>1</th>\n",
       "      <td>https://www.google.com/maps/place/Ulta+Beauty/...</td>\n",
       "      <td>NaN</td>\n",
       "      <td>3.0</td>\n",
       "      <td>None</td>\n",
       "      <td>2023-12-06T02:21:57.666Z</td>\n",
       "      <td>Michelle “Belle”</td>\n",
       "      <td>34.215101</td>\n",
       "      <td>-119.068813</td>\n",
       "      <td>California</td>\n",
       "    </tr>\n",
       "    <tr>\n",
       "      <th>2</th>\n",
       "      <td>https://www.google.com/maps/place/Ulta+Beauty/...</td>\n",
       "      <td>NaN</td>\n",
       "      <td>5.0</td>\n",
       "      <td>None</td>\n",
       "      <td>2023-12-04T07:07:10.151Z</td>\n",
       "      <td>lilian flores</td>\n",
       "      <td>34.215101</td>\n",
       "      <td>-119.068813</td>\n",
       "      <td>California</td>\n",
       "    </tr>\n",
       "    <tr>\n",
       "      <th>3</th>\n",
       "      <td>https://www.google.com/maps/place/Ulta+Beauty/...</td>\n",
       "      <td>NaN</td>\n",
       "      <td>1.0</td>\n",
       "      <td>I had intended to write a review, but during m...</td>\n",
       "      <td>2023-10-21T06:50:59.970Z</td>\n",
       "      <td>Karla Murillo</td>\n",
       "      <td>34.215101</td>\n",
       "      <td>-119.068813</td>\n",
       "      <td>California</td>\n",
       "    </tr>\n",
       "    <tr>\n",
       "      <th>4</th>\n",
       "      <td>https://www.google.com/maps/place/Ulta+Beauty/...</td>\n",
       "      <td>NaN</td>\n",
       "      <td>5.0</td>\n",
       "      <td>None</td>\n",
       "      <td>2023-10-04T02:37:56.115Z</td>\n",
       "      <td>Jacx Bernardo</td>\n",
       "      <td>34.215101</td>\n",
       "      <td>-119.068813</td>\n",
       "      <td>California</td>\n",
       "    </tr>\n",
       "    <tr>\n",
       "      <th>...</th>\n",
       "      <td>...</td>\n",
       "      <td>...</td>\n",
       "      <td>...</td>\n",
       "      <td>...</td>\n",
       "      <td>...</td>\n",
       "      <td>...</td>\n",
       "      <td>...</td>\n",
       "      <td>...</td>\n",
       "      <td>...</td>\n",
       "    </tr>\n",
       "    <tr>\n",
       "      <th>12371</th>\n",
       "      <td>https://www.google.com/maps/place/Ulta+Beauty/...</td>\n",
       "      <td>NaN</td>\n",
       "      <td>5.0</td>\n",
       "      <td>I did not go in but I am sure it is just fine.</td>\n",
       "      <td>2022-02-14T15:28:45.716Z</td>\n",
       "      <td>Gwayne Stern</td>\n",
       "      <td>45.384248</td>\n",
       "      <td>-122.750672</td>\n",
       "      <td>Oregon</td>\n",
       "    </tr>\n",
       "    <tr>\n",
       "      <th>12372</th>\n",
       "      <td>https://www.google.com/maps/place/Ulta+Beauty/...</td>\n",
       "      <td>NaN</td>\n",
       "      <td>5.0</td>\n",
       "      <td>Ok, i literally never get my hair done but now...</td>\n",
       "      <td>2022-02-04T02:32:28.661Z</td>\n",
       "      <td>Allison Lloyd</td>\n",
       "      <td>45.384248</td>\n",
       "      <td>-122.750672</td>\n",
       "      <td>Oregon</td>\n",
       "    </tr>\n",
       "    <tr>\n",
       "      <th>12373</th>\n",
       "      <td>https://www.google.com/maps/place/Ulta+Beauty/...</td>\n",
       "      <td>NaN</td>\n",
       "      <td>4.0</td>\n",
       "      <td>None</td>\n",
       "      <td>2022-02-01T01:47:51.040Z</td>\n",
       "      <td>Denise Robb</td>\n",
       "      <td>45.384248</td>\n",
       "      <td>-122.750672</td>\n",
       "      <td>Oregon</td>\n",
       "    </tr>\n",
       "    <tr>\n",
       "      <th>12374</th>\n",
       "      <td>https://www.google.com/maps/place/Ulta+Beauty/...</td>\n",
       "      <td>NaN</td>\n",
       "      <td>3.0</td>\n",
       "      <td>They could have definitely used more cashiers....</td>\n",
       "      <td>2022-01-05T03:14:44.894Z</td>\n",
       "      <td>Kristin Pdx</td>\n",
       "      <td>45.384248</td>\n",
       "      <td>-122.750672</td>\n",
       "      <td>Oregon</td>\n",
       "    </tr>\n",
       "    <tr>\n",
       "      <th>12375</th>\n",
       "      <td>https://www.google.com/maps/place/Ulta+Beauty/...</td>\n",
       "      <td>NaN</td>\n",
       "      <td>5.0</td>\n",
       "      <td>None</td>\n",
       "      <td>2022-01-01T22:11:34.565Z</td>\n",
       "      <td>Liliya Smith</td>\n",
       "      <td>45.384248</td>\n",
       "      <td>-122.750672</td>\n",
       "      <td>Oregon</td>\n",
       "    </tr>\n",
       "  </tbody>\n",
       "</table>\n",
       "<p>12376 rows × 9 columns</p>\n",
       "</div>"
      ],
      "text/plain": [
       "                                            business_url  user_id  stars  \\\n",
       "0      https://www.google.com/maps/place/Ulta+Beauty/...      NaN    5.0   \n",
       "1      https://www.google.com/maps/place/Ulta+Beauty/...      NaN    3.0   \n",
       "2      https://www.google.com/maps/place/Ulta+Beauty/...      NaN    5.0   \n",
       "3      https://www.google.com/maps/place/Ulta+Beauty/...      NaN    1.0   \n",
       "4      https://www.google.com/maps/place/Ulta+Beauty/...      NaN    5.0   \n",
       "...                                                  ...      ...    ...   \n",
       "12371  https://www.google.com/maps/place/Ulta+Beauty/...      NaN    5.0   \n",
       "12372  https://www.google.com/maps/place/Ulta+Beauty/...      NaN    5.0   \n",
       "12373  https://www.google.com/maps/place/Ulta+Beauty/...      NaN    4.0   \n",
       "12374  https://www.google.com/maps/place/Ulta+Beauty/...      NaN    3.0   \n",
       "12375  https://www.google.com/maps/place/Ulta+Beauty/...      NaN    5.0   \n",
       "\n",
       "                                                    text  \\\n",
       "0      Omar was amazing, he was very helpful today du...   \n",
       "1                                                   None   \n",
       "2                                                   None   \n",
       "3      I had intended to write a review, but during m...   \n",
       "4                                                   None   \n",
       "...                                                  ...   \n",
       "12371     I did not go in but I am sure it is just fine.   \n",
       "12372  Ok, i literally never get my hair done but now...   \n",
       "12373                                               None   \n",
       "12374  They could have definitely used more cashiers....   \n",
       "12375                                               None   \n",
       "\n",
       "                publishedAtDate              name   latitude   longitude  \\\n",
       "0      2023-12-09T21:53:09.672Z    Lupita Valadez  34.215101 -119.068813   \n",
       "1      2023-12-06T02:21:57.666Z  Michelle “Belle”  34.215101 -119.068813   \n",
       "2      2023-12-04T07:07:10.151Z     lilian flores  34.215101 -119.068813   \n",
       "3      2023-10-21T06:50:59.970Z     Karla Murillo  34.215101 -119.068813   \n",
       "4      2023-10-04T02:37:56.115Z     Jacx Bernardo  34.215101 -119.068813   \n",
       "...                         ...               ...        ...         ...   \n",
       "12371  2022-02-14T15:28:45.716Z      Gwayne Stern  45.384248 -122.750672   \n",
       "12372  2022-02-04T02:32:28.661Z     Allison Lloyd  45.384248 -122.750672   \n",
       "12373  2022-02-01T01:47:51.040Z       Denise Robb  45.384248 -122.750672   \n",
       "12374  2022-01-05T03:14:44.894Z       Kristin Pdx  45.384248 -122.750672   \n",
       "12375  2022-01-01T22:11:34.565Z      Liliya Smith  45.384248 -122.750672   \n",
       "\n",
       "       state_name  \n",
       "0      California  \n",
       "1      California  \n",
       "2      California  \n",
       "3      California  \n",
       "4      California  \n",
       "...           ...  \n",
       "12371      Oregon  \n",
       "12372      Oregon  \n",
       "12373      Oregon  \n",
       "12374      Oregon  \n",
       "12375      Oregon  \n",
       "\n",
       "[12376 rows x 9 columns]"
      ]
     },
     "execution_count": 17,
     "metadata": {},
     "output_type": "execute_result"
    }
   ],
   "source": [
    "df_result"
   ]
  },
  {
   "cell_type": "code",
   "execution_count": 18,
   "metadata": {},
   "outputs": [
    {
     "data": {
      "text/plain": [
       "business_url           0\n",
       "user_id            12376\n",
       "stars                 14\n",
       "text                4239\n",
       "publishedAtDate       14\n",
       "name                  14\n",
       "latitude               3\n",
       "longitude              3\n",
       "state_name             3\n",
       "dtype: int64"
      ]
     },
     "execution_count": 18,
     "metadata": {},
     "output_type": "execute_result"
    }
   ],
   "source": [
    "df_result.isnull().sum()"
   ]
  },
  {
   "cell_type": "markdown",
   "metadata": {},
   "source": [
    "# YELP"
   ]
  },
  {
   "cell_type": "code",
   "execution_count": 19,
   "metadata": {},
   "outputs": [],
   "source": [
    "establecimientos=pd.read_csv('../datasets/csv/G_ulta_establishments.csv')"
   ]
  },
  {
   "cell_type": "code",
   "execution_count": 22,
   "metadata": {},
   "outputs": [
    {
     "data": {
      "text/plain": [
       "'https://www.google.com/maps/place//data=!4m2!3m1!1s0x80e849691015d7b7:0x314b8627656bc6d5?authuser=-1&hl=en&gl=us'"
      ]
     },
     "execution_count": 22,
     "metadata": {},
     "output_type": "execute_result"
    }
   ],
   "source": [
    "establecimientos.url[0]"
   ]
  },
  {
   "cell_type": "code",
   "execution_count": 23,
   "metadata": {},
   "outputs": [],
   "source": [
    "yelp_reviews=pd.read_csv('../datasets/csv/Y_ulta_beauty.csv')"
   ]
  },
  {
   "cell_type": "code",
   "execution_count": 26,
   "metadata": {},
   "outputs": [
    {
     "data": {
      "text/plain": [
       "'Vxqa8u_5RD5e7oBqdaU0yQ'"
      ]
     },
     "execution_count": 26,
     "metadata": {},
     "output_type": "execute_result"
    }
   ],
   "source": [
    "yelp_reviews.business_id.unique()[1]"
   ]
  }
 ],
 "metadata": {
  "kernelspec": {
   "display_name": "Python 3",
   "language": "python",
   "name": "python3"
  },
  "language_info": {
   "codemirror_mode": {
    "name": "ipython",
    "version": 3
   },
   "file_extension": ".py",
   "mimetype": "text/x-python",
   "name": "python",
   "nbconvert_exporter": "python",
   "pygments_lexer": "ipython3",
   "version": "3.11.7"
  }
 },
 "nbformat": 4,
 "nbformat_minor": 2
}
