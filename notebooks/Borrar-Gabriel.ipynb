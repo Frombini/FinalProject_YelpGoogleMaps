{
 "cells": [
  {
   "cell_type": "code",
   "execution_count": 4,
   "metadata": {},
   "outputs": [],
   "source": [
    "import pandas as pd\n",
    "import os"
   ]
  },
  {
   "cell_type": "code",
   "execution_count": 28,
   "metadata": {},
   "outputs": [],
   "source": [
    "reviews=pd.read_csv('../datasets/csv/G_ulta_beauty.csv')"
   ]
  },
  {
   "cell_type": "code",
   "execution_count": 53,
   "metadata": {},
   "outputs": [],
   "source": [
    "original=pd.read_parquet('../datasets/parquets/metadatos Google/metadatos_prelimpio08.parquet')"
   ]
  },
  {
   "cell_type": "code",
   "execution_count": 77,
   "metadata": {},
   "outputs": [],
   "source": [
    "ulta_beauty=original[original.name=='Ulta Beauty']"
   ]
  },
  {
   "cell_type": "code",
   "execution_count": 78,
   "metadata": {},
   "outputs": [
    {
     "data": {
      "text/plain": [
       "array(['https://www.google.com/maps/place//data=!4m2!3m1!1s0x8644d7378e955b4d:0x332ab1014d32203a?authuser=-1&hl=en&gl=us',\n",
       "       'https://www.google.com/maps/place//data=!4m2!3m1!1s0x89c259f5cd286f9f:0xd7f304c78a07bf1d?authuser=-1&hl=en&gl=us',\n",
       "       'https://www.google.com/maps/place//data=!4m2!3m1!1s0x88e8bc9c1cb8a9c9:0xc54af76cc3aa026e?authuser=-1&hl=en&gl=us',\n",
       "       'https://www.google.com/maps/place//data=!4m2!3m1!1s0x89c22f83fd079ae7:0xee3529b535dd9bd7?authuser=-1&hl=en&gl=us',\n",
       "       'https://www.google.com/maps/place//data=!4m2!3m1!1s0x89c2f590aa8b7d31:0x924a1bbe0afca374?authuser=-1&hl=en&gl=us',\n",
       "       'https://www.google.com/maps/place//data=!4m2!3m1!1s0x880fc7af7a4e4e75:0x642cff114e6f4196?authuser=-1&hl=en&gl=us',\n",
       "       'https://www.google.com/maps/place//data=!4m2!3m1!1s0x89e7ca02be0dbcf9:0x6ed41a5b33f76942?authuser=-1&hl=en&gl=us',\n",
       "       'https://www.google.com/maps/place//data=!4m2!3m1!1s0x80dd2b9281580c83:0x35d93e9b1861b999?authuser=-1&hl=en&gl=us',\n",
       "       'https://www.google.com/maps/place//data=!4m2!3m1!1s0x80c285098a6816c5:0x24ddd9b0f48acba0?authuser=-1&hl=en&gl=us',\n",
       "       'https://www.google.com/maps/place//data=!4m2!3m1!1s0x8846778196af8c1f:0xc43ccd2a2c7d31ec?authuser=-1&hl=en&gl=us',\n",
       "       'https://www.google.com/maps/place//data=!4m2!3m1!1s0x89fb3123be2d306b:0xca5797c60119d611?authuser=-1&hl=en&gl=us',\n",
       "       'https://www.google.com/maps/place//data=!4m2!3m1!1s0x89e6e517a916a47b:0x8e88519f1e5b56e?authuser=-1&hl=en&gl=us',\n",
       "       'https://www.google.com/maps/place//data=!4m2!3m1!1s0x8888a833c3af13fd:0x343c3567897354e5?authuser=-1&hl=en&gl=us',\n",
       "       'https://www.google.com/maps/place//data=!4m2!3m1!1s0x864c1d93a69f734b:0x6049a29eefbff700?authuser=-1&hl=en&gl=us',\n",
       "       'https://www.google.com/maps/place//data=!4m2!3m1!1s0x89aa750d6d06b215:0xf9cdaa06e632d545?authuser=-1&hl=en&gl=us',\n",
       "       'https://www.google.com/maps/place//data=!4m2!3m1!1s0x864c11610741c9d3:0xa6082d6a86127e27?authuser=-1&hl=en&gl=us'],\n",
       "      dtype=object)"
      ]
     },
     "execution_count": 78,
     "metadata": {},
     "output_type": "execute_result"
    }
   ],
   "source": [
    "ulta_beauty.url.unique()"
   ]
  },
  {
   "cell_type": "code",
   "execution_count": 79,
   "metadata": {},
   "outputs": [
    {
     "data": {
      "text/html": [
       "<div>\n",
       "<style scoped>\n",
       "    .dataframe tbody tr th:only-of-type {\n",
       "        vertical-align: middle;\n",
       "    }\n",
       "\n",
       "    .dataframe tbody tr th {\n",
       "        vertical-align: top;\n",
       "    }\n",
       "\n",
       "    .dataframe thead th {\n",
       "        text-align: right;\n",
       "    }\n",
       "</style>\n",
       "<table border=\"1\" class=\"dataframe\">\n",
       "  <thead>\n",
       "    <tr style=\"text-align: right;\">\n",
       "      <th></th>\n",
       "      <th>name</th>\n",
       "      <th>address</th>\n",
       "      <th>gmap_id</th>\n",
       "      <th>description</th>\n",
       "      <th>latitude</th>\n",
       "      <th>longitude</th>\n",
       "      <th>category</th>\n",
       "      <th>avg_rating</th>\n",
       "      <th>num_of_reviews</th>\n",
       "      <th>price</th>\n",
       "      <th>hours</th>\n",
       "      <th>MISC</th>\n",
       "      <th>state</th>\n",
       "      <th>relative_results</th>\n",
       "      <th>url</th>\n",
       "      <th>State</th>\n",
       "    </tr>\n",
       "  </thead>\n",
       "  <tbody>\n",
       "    <tr>\n",
       "      <th>98732</th>\n",
       "      <td>Ulta Beauty</td>\n",
       "      <td>Ulta Beauty, 470 Lewis Ave Ste 61, Meriden, CT...</td>\n",
       "      <td>0x89e7ca02be0dbcf9:0x6ed41a5b33f76942</td>\n",
       "      <td>Chain with a diverse selection of cosmetics &amp; ...</td>\n",
       "      <td>41.551161</td>\n",
       "      <td>-72.807604</td>\n",
       "      <td>[Cosmetics store, Beauty salon, Hair salon]</td>\n",
       "      <td>4.0</td>\n",
       "      <td>114</td>\n",
       "      <td>None</td>\n",
       "      <td>[[Monday, 11AM–7PM], [Tuesday, 11AM–7PM], [Wed...</td>\n",
       "      <td>{'Accessibility': ['Wheelchair accessible entr...</td>\n",
       "      <td>Permanently closed</td>\n",
       "      <td>[0x89e7ad9bfb587e17:0x94814216eb1d2745, 0x89e7...</td>\n",
       "      <td>https://www.google.com/maps/place//data=!4m2!3...</td>\n",
       "      <td>CT</td>\n",
       "    </tr>\n",
       "  </tbody>\n",
       "</table>\n",
       "</div>"
      ],
      "text/plain": [
       "              name                                            address  \\\n",
       "98732  Ulta Beauty  Ulta Beauty, 470 Lewis Ave Ste 61, Meriden, CT...   \n",
       "\n",
       "                                     gmap_id  \\\n",
       "98732  0x89e7ca02be0dbcf9:0x6ed41a5b33f76942   \n",
       "\n",
       "                                             description   latitude  \\\n",
       "98732  Chain with a diverse selection of cosmetics & ...  41.551161   \n",
       "\n",
       "       longitude                                     category  avg_rating  \\\n",
       "98732 -72.807604  [Cosmetics store, Beauty salon, Hair salon]         4.0   \n",
       "\n",
       "       num_of_reviews price  \\\n",
       "98732             114  None   \n",
       "\n",
       "                                                   hours  \\\n",
       "98732  [[Monday, 11AM–7PM], [Tuesday, 11AM–7PM], [Wed...   \n",
       "\n",
       "                                                    MISC               state  \\\n",
       "98732  {'Accessibility': ['Wheelchair accessible entr...  Permanently closed   \n",
       "\n",
       "                                        relative_results  \\\n",
       "98732  [0x89e7ad9bfb587e17:0x94814216eb1d2745, 0x89e7...   \n",
       "\n",
       "                                                     url State  \n",
       "98732  https://www.google.com/maps/place//data=!4m2!3...    CT  "
      ]
     },
     "execution_count": 79,
     "metadata": {},
     "output_type": "execute_result"
    }
   ],
   "source": [
    "ulta_beauty[ulta_beauty.url=='https://www.google.com/maps/place//data=!4m2!3m1!1s0x89e7ca02be0dbcf9:0x6ed41a5b33f76942?authuser=-1&hl=en&gl=us']"
   ]
  },
  {
   "cell_type": "code",
   "execution_count": 80,
   "metadata": {},
   "outputs": [
    {
     "data": {
      "text/plain": [
       "2"
      ]
     },
     "execution_count": 80,
     "metadata": {},
     "output_type": "execute_result"
    }
   ],
   "source": [
    "len(ulta_beauty[ulta_beauty.state=='Permanently closed'])"
   ]
  },
  {
   "cell_type": "code",
   "execution_count": 81,
   "metadata": {},
   "outputs": [
    {
     "data": {
      "text/plain": [
       "14"
      ]
     },
     "execution_count": 81,
     "metadata": {},
     "output_type": "execute_result"
    }
   ],
   "source": [
    "len(ulta_beauty)-len(ulta_beauty[ulta_beauty.state=='Permanently closed'])"
   ]
  },
  {
   "cell_type": "code",
   "execution_count": 5,
   "metadata": {},
   "outputs": [],
   "source": [
    "# Especifica la ruta de la carpeta que contiene los archivos .parquet particionados\n",
    "ruta_carpeta_parquet = '../datasets/parquets/metadatos Google'\n",
    "\n",
    "# Lista para almacenar DataFrames de cada partición\n",
    "dataframes = []\n",
    "\n",
    "# Itera sobre los archivos .parquet en la carpeta\n",
    "for root, dirs, files in os.walk(ruta_carpeta_parquet):\n",
    "    for file in files:\n",
    "        if file.endswith('.parquet'):\n",
    "            # Construye la ruta completa del archivo\n",
    "            ruta_completa = os.path.join(root, file)\n",
    "            \n",
    "            # Lee el archivo .parquet y agrega el DataFrame a la lista\n",
    "            df_particion = pd.read_parquet(ruta_completa)\n",
    "            dataframes.append(df_particion)\n",
    "\n",
    "# Concatena todos los DataFrames en uno solo\n",
    "df_google = pd.concat(dataframes, ignore_index=True)"
   ]
  },
  {
   "cell_type": "code",
   "execution_count": 24,
   "metadata": {},
   "outputs": [],
   "source": [
    "# Filtrar por el valor 'ulta beauty' en la columna 'name'\n",
    "df_google = df_google[df_google['name'] == 'Ulta Beauty']\n",
    "# Eliminamos columnas innecesarias\n",
    "df_google = df_google[[\"gmap_id\",\"latitude\",\"longitude\",\"avg_rating\",\"State\", \"state\", \"address\"]]"
   ]
  },
  {
   "cell_type": "code",
   "execution_count": 25,
   "metadata": {},
   "outputs": [],
   "source": [
    "df_google.to_csv('../datasets/csv/G_beauty_establishments.csv', index=False)"
   ]
  }
 ],
 "metadata": {
  "kernelspec": {
   "display_name": "Python 3",
   "language": "python",
   "name": "python3"
  },
  "language_info": {
   "codemirror_mode": {
    "name": "ipython",
    "version": 3
   },
   "file_extension": ".py",
   "mimetype": "text/x-python",
   "name": "python",
   "nbconvert_exporter": "python",
   "pygments_lexer": "ipython3",
   "version": "3.11.7"
  }
 },
 "nbformat": 4,
 "nbformat_minor": 2
}
