{
 "cells": [
  {
   "cell_type": "markdown",
   "metadata": {},
   "source": [
    "# ETL Google Business (Extract, Load, Transform)"
   ]
  },
  {
   "cell_type": "markdown",
   "metadata": {},
   "source": [
    "This project aims to explore and analyze the valuable insights and opinions expressed by users in business reviews on Google. In this context, the Extract, Transform, Load (ETL) process takes on central importance. We will be working with data sourced from businesses registered on Google Maps (specifically focusing on Ulta Beauty), utilizing ETL techniques to ensure the efficient collection, transformation, and preparation of the data."
   ]
  },
  {
   "cell_type": "markdown",
   "metadata": {},
   "source": [
    "### Requirements"
   ]
  },
  {
   "cell_type": "markdown",
   "metadata": {},
   "source": [
    "⚠️ **Make sure to install the following libraries before running the code**\n",
    "\n",
    "- pandas\n",
    "- numpy\n",
    "\n",
    "You can install these libraries by opening a terminal or command line window and running the following command:\n",
    "\n",
    "*`pip install pandas numpy`*"
   ]
  },
  {
   "cell_type": "markdown",
   "metadata": {},
   "source": [
    "## 1. Import Libraries"
   ]
  },
  {
   "cell_type": "code",
   "execution_count": 1,
   "metadata": {},
   "outputs": [],
   "source": [
    "import pandas as pd\n",
    "import os"
   ]
  },
  {
   "cell_type": "markdown",
   "metadata": {},
   "source": [
    "## 2. Connect and Upload Data"
   ]
  },
  {
   "cell_type": "code",
   "execution_count": 2,
   "metadata": {},
   "outputs": [],
   "source": [
    "# Read the files and process the json contained in each file one by one\n",
    "\n",
    "jsons=os.listdir(r\"D:\\Datasets_proyecto\\metadata-sitios\")\n",
    "\n",
    "for a in jsons:\n",
    "    ruta=f'D:\\Datasets_proyecto\\metadata-sitios\\\\{a}'\n",
    "    dfbusinessGoogle=pd.read_json(ruta,lines=True)"
   ]
  },
  {
   "cell_type": "markdown",
   "metadata": {},
   "source": [
    "## 3. Explore and Clean Data"
   ]
  },
  {
   "cell_type": "code",
   "execution_count": 3,
   "metadata": {},
   "outputs": [],
   "source": [
    "# A filter is applied to the entire data set, since the scope of the project is oriented to the \"Ulta Beauty\" business.\n",
    "\n",
    "dfbusinessGoogle = dfbusinessGoogle[dfbusinessGoogle['name'] == 'Ulta Beauty']"
   ]
  },
  {
   "cell_type": "code",
   "execution_count": 5,
   "metadata": {},
   "outputs": [],
   "source": [
    "# Businesses that are permanently closed are filtered\n",
    "\n",
    "dfbusinessGoogle = dfbusinessGoogle[dfbusinessGoogle['state'] != 'Permanently closed']"
   ]
  },
  {
   "cell_type": "code",
   "execution_count": 6,
   "metadata": {},
   "outputs": [],
   "source": [
    "# From the 'address' column, we extracted the state, city, and corresponding postal code. \n",
    "\n",
    "dfbusinessGoogle['address'] = dfbusinessGoogle['address'].str.replace('Ulta Beauty,', '').str.strip()\n",
    "\n",
    "dfbusinessGoogle['state']=dfbusinessGoogle['state_PostalCode'].str.split(' ').str[1]\n",
    "dfbusinessGoogle['city'] = dfbusinessGoogle['address'].str.split(',').str[1]\n",
    "dfbusinessGoogle['state_PostalCode'] = dfbusinessGoogle['address'].str.split(',').str[2]\n",
    "dfbusinessGoogle['postal_code']=dfbusinessGoogle['state_PostalCode'].str.split(' ').str[2]"
   ]
  },
  {
   "cell_type": "markdown",
   "metadata": {},
   "source": [
    "**The following columns are eliminated because they are not relevant to the project**"
   ]
  },
  {
   "cell_type": "code",
   "execution_count": null,
   "metadata": {},
   "outputs": [],
   "source": [
    "#name\n",
    "dfbusinessGoogle = dfbusinessGoogle.drop('name', axis=1) #All the stores have the same name \"Ulta Beauty\"\n",
    "\n",
    "#state\n",
    "dfbusinessGoogle = dfbusinessGoogle.drop('state', axis=1) \n",
    "\n",
    "#address\n",
    "dfbusinessGoogle = dfbusinessGoogle.drop('address', axis=1)\n",
    "\n",
    "#state_PostalCode\n",
    "dfbusinessGoogle = dfbusinessGoogle.drop('state_PostalCode', axis=1)\n",
    "\n",
    "#description\n",
    "dfbusinessGoogle = dfbusinessGoogle.drop('description', axis=1)\n",
    "\n",
    "#category\n",
    "dfbusinessGoogle = dfbusinessGoogle.drop('category', axis=1)\n",
    "\n",
    "#price\n",
    "dfbusinessGoogle = dfbusinessGoogle.drop('price', axis=1) #All it´s data is null\n",
    "\n",
    "#relative_results\n",
    "dfbusinessGoogle = dfbusinessGoogle.drop('relative_results', axis=1)\n",
    "\n",
    "#url\n",
    "dfbusinessGoogle = dfbusinessGoogle.drop('url', axis=1)\n",
    "\n",
    "#MISC\n",
    "dfbusinessGoogle = dfbusinessGoogle.drop('MISC', axis=1)\n",
    "\n",
    "#hours\n",
    "dfbusinessGoogle = dfbusinessGoogle.drop('hours', axis=1)"
   ]
  },
  {
   "cell_type": "markdown",
   "metadata": {},
   "source": [
    "**Handling null and duplicate values**"
   ]
  },
  {
   "cell_type": "code",
   "execution_count": 13,
   "metadata": {},
   "outputs": [
    {
     "data": {
      "text/plain": [
       "gmap_id           0\n",
       "latitude          0\n",
       "longitude         0\n",
       "avg_rating        0\n",
       "num_of_reviews    0\n",
       "city              0\n",
       "state             0\n",
       "postal_code       0\n",
       "dtype: int64"
      ]
     },
     "execution_count": 13,
     "metadata": {},
     "output_type": "execute_result"
    }
   ],
   "source": [
    "dfbusinessGoogle.isnull().sum()"
   ]
  },
  {
   "cell_type": "markdown",
   "metadata": {},
   "source": [
    "No null values were found in the dataset"
   ]
  },
  {
   "cell_type": "code",
   "execution_count": 14,
   "metadata": {},
   "outputs": [
    {
     "name": "stdout",
     "output_type": "stream",
     "text": [
      "Cantidad de duplicados borrados: 0\n"
     ]
    }
   ],
   "source": [
    "# Get the number of rows before removing duplicates\n",
    "num_filas_antes = dfbusinessGoogle.shape[0]\n",
    "\n",
    "# Remove duplicates based on 'address' column\n",
    "dfbusinessGoogle = dfbusinessGoogle.drop_duplicates()\n",
    "\n",
    "# Get the number of rows after removing duplicates\n",
    "num_filas_despues = dfbusinessGoogle.shape[0]\n",
    "\n",
    "# Show the number of duplicates before and after\n",
    "print(f\"Number of duplicates deleted: {num_filas_antes - num_filas_despues}\")\n"
   ]
  },
  {
   "cell_type": "markdown",
   "metadata": {},
   "source": [
    "**Columns and Rows Normalization**"
   ]
  },
  {
   "cell_type": "code",
   "execution_count": 15,
   "metadata": {},
   "outputs": [],
   "source": [
    "#The columns will be named consistently with those in the \"Yelp\" dataset\n",
    "\n",
    "dfbusinessGoogle = dfbusinessGoogle.rename(columns={'gmap_id': 'business_id', 'avg_rating': 'stars', 'num_of_reviews': 'review_count'})"
   ]
  },
  {
   "cell_type": "code",
   "execution_count": 16,
   "metadata": {},
   "outputs": [],
   "source": [
    "# The names of the cities will be converted to lowercase and the spaces will be replaced by underscores\n",
    "\n",
    "dfbusinessGoogle['city'] = dfbusinessGoogle['city'].str.strip().str.lower().str.replace(' ', '_')"
   ]
  },
  {
   "cell_type": "code",
   "execution_count": 17,
   "metadata": {},
   "outputs": [],
   "source": [
    "# The acronyms are replaced by the names of the states\n",
    "\n",
    "estado_mapping = {'TX': 'texas', 'MT': 'montana', 'CA': 'california', 'FL': 'florida',\n",
    "                  'IL': 'illinois', 'MD': 'maryland', 'MA': 'massachusetts', 'PA': 'pennsylvania',\n",
    "                  'NY': 'new_york', 'OH': 'ohio', 'OK': 'oklahoma', 'MO': 'missouri',\n",
    "                  'CT': 'connecticut', 'NJ': 'new_jersey', 'NC': 'north_carolina'}\n",
    "\n",
    "\n",
    "# Replace acronyms with names in the 'state_postalCode' column\n",
    "\n",
    "dfbusinessGoogle['state'] = dfbusinessGoogle['state'].replace(estado_mapping)"
   ]
  },
  {
   "cell_type": "code",
   "execution_count": 22,
   "metadata": {},
   "outputs": [],
   "source": [
    "# We adjusted the column order to match the structure of the Yelp dataset.\n",
    "\n",
    "nuevo_orden_columnas = ['business_id', 'city', 'state', 'postal_code', 'latitude', 'longitude', 'stars', 'review_count']\n",
    "\n",
    "dfbusinessGoogle = dfbusinessGoogle[nuevo_orden_columnas]"
   ]
  },
  {
   "cell_type": "code",
   "execution_count": 24,
   "metadata": {},
   "outputs": [],
   "source": [
    "# The 'source' column is added as an identifier.\n",
    "# G = Data that comes from the google dataset\n",
    "\n",
    "dfbusinessGoogle['source']=\"G\""
   ]
  },
  {
   "cell_type": "markdown",
   "metadata": {},
   "source": [
    "## 4. Final Structure"
   ]
  },
  {
   "cell_type": "code",
   "execution_count": 25,
   "metadata": {},
   "outputs": [
    {
     "data": {
      "text/html": [
       "<div>\n",
       "<style scoped>\n",
       "    .dataframe tbody tr th:only-of-type {\n",
       "        vertical-align: middle;\n",
       "    }\n",
       "\n",
       "    .dataframe tbody tr th {\n",
       "        vertical-align: top;\n",
       "    }\n",
       "\n",
       "    .dataframe thead th {\n",
       "        text-align: right;\n",
       "    }\n",
       "</style>\n",
       "<table border=\"1\" class=\"dataframe\">\n",
       "  <thead>\n",
       "    <tr style=\"text-align: right;\">\n",
       "      <th></th>\n",
       "      <th>business_id</th>\n",
       "      <th>city</th>\n",
       "      <th>state</th>\n",
       "      <th>postal_code</th>\n",
       "      <th>latitude</th>\n",
       "      <th>longitude</th>\n",
       "      <th>stars</th>\n",
       "      <th>review_count</th>\n",
       "      <th>source</th>\n",
       "    </tr>\n",
       "  </thead>\n",
       "  <tbody>\n",
       "    <tr>\n",
       "      <th>3858</th>\n",
       "      <td>0x864c394f020aaa49:0x20e59a02a019a45d</td>\n",
       "      <td>frisco</td>\n",
       "      <td>texas</td>\n",
       "      <td>75034</td>\n",
       "      <td>33.173242</td>\n",
       "      <td>-96.843504</td>\n",
       "      <td>3.9</td>\n",
       "      <td>143</td>\n",
       "      <td>G</td>\n",
       "    </tr>\n",
       "    <tr>\n",
       "      <th>37741</th>\n",
       "      <td>0x5342381c6ddf30e3:0xfbe922695b89d6de</td>\n",
       "      <td>great_falls</td>\n",
       "      <td>montana</td>\n",
       "      <td>59404</td>\n",
       "      <td>47.518201</td>\n",
       "      <td>-111.315605</td>\n",
       "      <td>4.1</td>\n",
       "      <td>164</td>\n",
       "      <td>G</td>\n",
       "    </tr>\n",
       "    <tr>\n",
       "      <th>53920</th>\n",
       "      <td>0x808fe985ad5d01df:0x20e8c372f20b006c</td>\n",
       "      <td>livermore</td>\n",
       "      <td>california</td>\n",
       "      <td>94551</td>\n",
       "      <td>37.696312</td>\n",
       "      <td>-121.847587</td>\n",
       "      <td>4.3</td>\n",
       "      <td>66</td>\n",
       "      <td>G</td>\n",
       "    </tr>\n",
       "    <tr>\n",
       "      <th>72836</th>\n",
       "      <td>0x88d91958f9f6f4ab:0x111e84f49744687d</td>\n",
       "      <td>boca_raton</td>\n",
       "      <td>florida</td>\n",
       "      <td>33434</td>\n",
       "      <td>26.364980</td>\n",
       "      <td>-80.202167</td>\n",
       "      <td>4.0</td>\n",
       "      <td>158</td>\n",
       "      <td>G</td>\n",
       "    </tr>\n",
       "    <tr>\n",
       "      <th>82511</th>\n",
       "      <td>0x880fa30ab6b747f3:0x2a88bf8178a2c164</td>\n",
       "      <td>kildeer</td>\n",
       "      <td>illinois</td>\n",
       "      <td>60047</td>\n",
       "      <td>42.162774</td>\n",
       "      <td>-88.050782</td>\n",
       "      <td>3.8</td>\n",
       "      <td>8</td>\n",
       "      <td>G</td>\n",
       "    </tr>\n",
       "  </tbody>\n",
       "</table>\n",
       "</div>"
      ],
      "text/plain": [
       "                                 business_id         city       state  \\\n",
       "3858   0x864c394f020aaa49:0x20e59a02a019a45d       frisco       texas   \n",
       "37741  0x5342381c6ddf30e3:0xfbe922695b89d6de  great_falls     montana   \n",
       "53920  0x808fe985ad5d01df:0x20e8c372f20b006c    livermore  california   \n",
       "72836  0x88d91958f9f6f4ab:0x111e84f49744687d   boca_raton     florida   \n",
       "82511  0x880fa30ab6b747f3:0x2a88bf8178a2c164      kildeer    illinois   \n",
       "\n",
       "      postal_code   latitude   longitude  stars  review_count source  \n",
       "3858        75034  33.173242  -96.843504    3.9           143      G  \n",
       "37741       59404  47.518201 -111.315605    4.1           164      G  \n",
       "53920       94551  37.696312 -121.847587    4.3            66      G  \n",
       "72836       33434  26.364980  -80.202167    4.0           158      G  \n",
       "82511       60047  42.162774  -88.050782    3.8             8      G  "
      ]
     },
     "execution_count": 25,
     "metadata": {},
     "output_type": "execute_result"
    }
   ],
   "source": [
    "dfbusinessGoogle.head()"
   ]
  }
 ],
 "metadata": {
  "kernelspec": {
   "display_name": "Python 3 (ipykernel)",
   "language": "python",
   "name": "python3"
  },
  "language_info": {
   "codemirror_mode": {
    "name": "ipython",
    "version": 3
   },
   "file_extension": ".py",
   "mimetype": "text/x-python",
   "name": "python",
   "nbconvert_exporter": "python",
   "pygments_lexer": "ipython3",
   "version": "3.10.9"
  }
 },
 "nbformat": 4,
 "nbformat_minor": 4
}
