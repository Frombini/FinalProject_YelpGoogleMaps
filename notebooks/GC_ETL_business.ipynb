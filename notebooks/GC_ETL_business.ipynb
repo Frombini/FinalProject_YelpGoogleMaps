{
 "cells": [
  {
   "cell_type": "markdown",
   "metadata": {},
   "source": [
    "ETL de los negocios de google"
   ]
  },
  {
   "cell_type": "markdown",
   "metadata": {},
   "source": [
    "Importamos librerias"
   ]
  },
  {
   "cell_type": "code",
   "execution_count": 6,
   "metadata": {},
   "outputs": [],
   "source": [
    "import pandas as pd\n",
    "import os"
   ]
  },
  {
   "cell_type": "markdown",
   "metadata": {},
   "source": [
    "Nos conectamos a la base de datos"
   ]
  },
  {
   "cell_type": "code",
   "execution_count": 7,
   "metadata": {},
   "outputs": [],
   "source": [
    "#Leemos la base de datos\n",
    "# Especifica la ruta de la carpeta que contiene los archivos .parquet particionados\n",
    "ruta_carpeta_parquet = '../datasets/parquets/metadatos Google'\n",
    "# Lista para almacenar DataFrames de cada partición\n",
    "dataframes = []\n",
    "\n",
    "# Itera sobre los archivos .parquet en la carpeta\n",
    "for root, dirs, files in os.walk(ruta_carpeta_parquet):\n",
    "    for file in files:\n",
    "        if file.endswith('.parquet'):\n",
    "            # Construye la ruta completa del archivo\n",
    "            ruta_completa = os.path.join(root, file)\n",
    "            \n",
    "            # Lee el archivo .parquet y agrega el DataFrame a la lista\n",
    "            df_particion = pd.read_parquet(ruta_completa)\n",
    "            dataframes.append(df_particion)\n",
    "\n",
    "# Concatena todos los DataFrames en uno solo\n",
    "dfbusinessGoogle = pd.concat(dataframes, ignore_index=True)"
   ]
  },
  {
   "cell_type": "markdown",
   "metadata": {},
   "source": [
    "Filtramos los datos de ulta beauty , ya que es el alcance del proyecto"
   ]
  },
  {
   "cell_type": "code",
   "execution_count": 9,
   "metadata": {},
   "outputs": [],
   "source": [
    "dfbusinessGoogle = dfbusinessGoogle[dfbusinessGoogle['name'] == 'Ulta Beauty']"
   ]
  },
  {
   "cell_type": "markdown",
   "metadata": {},
   "source": [
    "Borramos la columna name , porque todos los locales se llaman igual"
   ]
  },
  {
   "cell_type": "code",
   "execution_count": 12,
   "metadata": {},
   "outputs": [],
   "source": [
    "dfbusinessGoogle = dfbusinessGoogle.drop('name', axis=1)"
   ]
  },
  {
   "cell_type": "markdown",
   "metadata": {},
   "source": [
    "Usaremos la latitud y la longitud por lo que la columna de address no se va a utilizar"
   ]
  },
  {
   "cell_type": "code",
   "execution_count": 14,
   "metadata": {},
   "outputs": [],
   "source": [
    "dfbusinessGoogle = dfbusinessGoogle.drop('address', axis=1)"
   ]
  },
  {
   "cell_type": "markdown",
   "metadata": {},
   "source": [
    "Borramos la columna de description"
   ]
  },
  {
   "cell_type": "code",
   "execution_count": 16,
   "metadata": {},
   "outputs": [],
   "source": [
    "dfbusinessGoogle = dfbusinessGoogle.drop('description', axis=1)"
   ]
  },
  {
   "cell_type": "code",
   "execution_count": 17,
   "metadata": {},
   "outputs": [
    {
     "data": {
      "text/html": [
       "<div>\n",
       "<style scoped>\n",
       "    .dataframe tbody tr th:only-of-type {\n",
       "        vertical-align: middle;\n",
       "    }\n",
       "\n",
       "    .dataframe tbody tr th {\n",
       "        vertical-align: top;\n",
       "    }\n",
       "\n",
       "    .dataframe thead th {\n",
       "        text-align: right;\n",
       "    }\n",
       "</style>\n",
       "<table border=\"1\" class=\"dataframe\">\n",
       "  <thead>\n",
       "    <tr style=\"text-align: right;\">\n",
       "      <th></th>\n",
       "      <th>gmap_id</th>\n",
       "      <th>latitude</th>\n",
       "      <th>longitude</th>\n",
       "      <th>category</th>\n",
       "      <th>avg_rating</th>\n",
       "      <th>num_of_reviews</th>\n",
       "      <th>price</th>\n",
       "      <th>hours</th>\n",
       "      <th>MISC</th>\n",
       "      <th>state</th>\n",
       "      <th>relative_results</th>\n",
       "      <th>url</th>\n",
       "      <th>State</th>\n",
       "    </tr>\n",
       "  </thead>\n",
       "  <tbody>\n",
       "    <tr>\n",
       "      <th>10105</th>\n",
       "      <td>0x80e849691015d7b7:0x314b8627656bc6d5</td>\n",
       "      <td>34.215101</td>\n",
       "      <td>-119.068813</td>\n",
       "      <td>[Cosmetics store, Beauty salon, Hairdresser]</td>\n",
       "      <td>4.5</td>\n",
       "      <td>24</td>\n",
       "      <td>None</td>\n",
       "      <td>[[Wednesday, 11AM–7PM], [Thursday, 11AM–7PM], ...</td>\n",
       "      <td>{'Accessibility': ['Wheelchair accessible entr...</td>\n",
       "      <td>Open ⋅ Closes 7PM</td>\n",
       "      <td>None</td>\n",
       "      <td>https://www.google.com/maps/place//data=!4m2!3...</td>\n",
       "      <td>CA</td>\n",
       "    </tr>\n",
       "    <tr>\n",
       "      <th>36678</th>\n",
       "      <td>0x80e849691015d7b7:0x314b8627656bc6d5</td>\n",
       "      <td>34.215101</td>\n",
       "      <td>-119.068813</td>\n",
       "      <td>[Cosmetics store, Beauty salon, Hairdresser]</td>\n",
       "      <td>4.5</td>\n",
       "      <td>24</td>\n",
       "      <td>None</td>\n",
       "      <td>[[Wednesday, 11AM–7PM], [Thursday, 11AM–7PM], ...</td>\n",
       "      <td>{'Accessibility': ['Wheelchair accessible entr...</td>\n",
       "      <td>Open ⋅ Closes 7PM</td>\n",
       "      <td>None</td>\n",
       "      <td>https://www.google.com/maps/place//data=!4m2!3...</td>\n",
       "      <td>CA</td>\n",
       "    </tr>\n",
       "    <tr>\n",
       "      <th>87420</th>\n",
       "      <td>0x89e7ad0b7da12a11:0x2cab11e09a406d3a</td>\n",
       "      <td>41.719118</td>\n",
       "      <td>-72.760741</td>\n",
       "      <td>[Cosmetics store, Beauty salon, Hairdresser]</td>\n",
       "      <td>4.2</td>\n",
       "      <td>15</td>\n",
       "      <td>None</td>\n",
       "      <td>[[Monday, 10AM–6PM], [Tuesday, 10AM–8PM], [Wed...</td>\n",
       "      <td>{'Accessibility': ['Wheelchair accessible entr...</td>\n",
       "      <td>Closed ⋅ Opens 10AM</td>\n",
       "      <td>None</td>\n",
       "      <td>https://www.google.com/maps/place//data=!4m2!3...</td>\n",
       "      <td>CT</td>\n",
       "    </tr>\n",
       "    <tr>\n",
       "      <th>105106</th>\n",
       "      <td>0x89c2d130d433cc0b:0xb550e43a7ce3540</td>\n",
       "      <td>41.314613</td>\n",
       "      <td>-74.133123</td>\n",
       "      <td>[Cosmetics store, Beauty salon, Hairdresser]</td>\n",
       "      <td>4.6</td>\n",
       "      <td>25</td>\n",
       "      <td>None</td>\n",
       "      <td>[[Sunday, 11AM–6PM], [Monday, 10AM–6PM], [Tues...</td>\n",
       "      <td>{'Accessibility': ['Wheelchair accessible entr...</td>\n",
       "      <td>Closed ⋅ Opens 11AM</td>\n",
       "      <td>None</td>\n",
       "      <td>https://www.google.com/maps/place//data=!4m2!3...</td>\n",
       "      <td>NY</td>\n",
       "    </tr>\n",
       "    <tr>\n",
       "      <th>107947</th>\n",
       "      <td>0x89c30355aba7b017:0x3735266fb77aee42</td>\n",
       "      <td>40.960001</td>\n",
       "      <td>-74.229523</td>\n",
       "      <td>[Cosmetics store, Beauty salon, Hairdresser]</td>\n",
       "      <td>3.7</td>\n",
       "      <td>17</td>\n",
       "      <td>None</td>\n",
       "      <td>[[Sunday, 11AM–6PM], [Monday, 10AM–6PM], [Tues...</td>\n",
       "      <td>{'Accessibility': ['Wheelchair accessible entr...</td>\n",
       "      <td>Closed ⋅ Opens 11AM</td>\n",
       "      <td>None</td>\n",
       "      <td>https://www.google.com/maps/place//data=!4m2!3...</td>\n",
       "      <td>NJ</td>\n",
       "    </tr>\n",
       "  </tbody>\n",
       "</table>\n",
       "</div>"
      ],
      "text/plain": [
       "                                      gmap_id   latitude   longitude  \\\n",
       "10105   0x80e849691015d7b7:0x314b8627656bc6d5  34.215101 -119.068813   \n",
       "36678   0x80e849691015d7b7:0x314b8627656bc6d5  34.215101 -119.068813   \n",
       "87420   0x89e7ad0b7da12a11:0x2cab11e09a406d3a  41.719118  -72.760741   \n",
       "105106   0x89c2d130d433cc0b:0xb550e43a7ce3540  41.314613  -74.133123   \n",
       "107947  0x89c30355aba7b017:0x3735266fb77aee42  40.960001  -74.229523   \n",
       "\n",
       "                                            category  avg_rating  \\\n",
       "10105   [Cosmetics store, Beauty salon, Hairdresser]         4.5   \n",
       "36678   [Cosmetics store, Beauty salon, Hairdresser]         4.5   \n",
       "87420   [Cosmetics store, Beauty salon, Hairdresser]         4.2   \n",
       "105106  [Cosmetics store, Beauty salon, Hairdresser]         4.6   \n",
       "107947  [Cosmetics store, Beauty salon, Hairdresser]         3.7   \n",
       "\n",
       "        num_of_reviews price  \\\n",
       "10105               24  None   \n",
       "36678               24  None   \n",
       "87420               15  None   \n",
       "105106              25  None   \n",
       "107947              17  None   \n",
       "\n",
       "                                                    hours  \\\n",
       "10105   [[Wednesday, 11AM–7PM], [Thursday, 11AM–7PM], ...   \n",
       "36678   [[Wednesday, 11AM–7PM], [Thursday, 11AM–7PM], ...   \n",
       "87420   [[Monday, 10AM–6PM], [Tuesday, 10AM–8PM], [Wed...   \n",
       "105106  [[Sunday, 11AM–6PM], [Monday, 10AM–6PM], [Tues...   \n",
       "107947  [[Sunday, 11AM–6PM], [Monday, 10AM–6PM], [Tues...   \n",
       "\n",
       "                                                     MISC  \\\n",
       "10105   {'Accessibility': ['Wheelchair accessible entr...   \n",
       "36678   {'Accessibility': ['Wheelchair accessible entr...   \n",
       "87420   {'Accessibility': ['Wheelchair accessible entr...   \n",
       "105106  {'Accessibility': ['Wheelchair accessible entr...   \n",
       "107947  {'Accessibility': ['Wheelchair accessible entr...   \n",
       "\n",
       "                      state relative_results  \\\n",
       "10105     Open ⋅ Closes 7PM             None   \n",
       "36678     Open ⋅ Closes 7PM             None   \n",
       "87420   Closed ⋅ Opens 10AM             None   \n",
       "105106  Closed ⋅ Opens 11AM             None   \n",
       "107947  Closed ⋅ Opens 11AM             None   \n",
       "\n",
       "                                                      url State  \n",
       "10105   https://www.google.com/maps/place//data=!4m2!3...    CA  \n",
       "36678   https://www.google.com/maps/place//data=!4m2!3...    CA  \n",
       "87420   https://www.google.com/maps/place//data=!4m2!3...    CT  \n",
       "105106  https://www.google.com/maps/place//data=!4m2!3...    NY  \n",
       "107947  https://www.google.com/maps/place//data=!4m2!3...    NJ  "
      ]
     },
     "execution_count": 17,
     "metadata": {},
     "output_type": "execute_result"
    }
   ],
   "source": [
    "dfbusinessGoogle.head()"
   ]
  }
 ],
 "metadata": {
  "kernelspec": {
   "display_name": "Python 3",
   "language": "python",
   "name": "python3"
  },
  "language_info": {
   "codemirror_mode": {
    "name": "ipython",
    "version": 3
   },
   "file_extension": ".py",
   "mimetype": "text/x-python",
   "name": "python",
   "nbconvert_exporter": "python",
   "pygments_lexer": "ipython3",
   "version": "3.11.7"
  }
 },
 "nbformat": 4,
 "nbformat_minor": 2
}
