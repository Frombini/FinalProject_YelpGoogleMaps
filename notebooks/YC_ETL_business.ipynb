{
 "cells": [
  {
   "cell_type": "markdown",
   "metadata": {},
   "source": [
    "Importar librerias"
   ]
  },
  {
   "cell_type": "code",
   "execution_count": 1,
   "metadata": {},
   "outputs": [],
   "source": [
    "import pandas as pd\n",
    "import requests\n",
    "import io\n",
    "import re\n",
    "from datetime import datetime\n",
    "from geopy.geocoders import Nominatim"
   ]
  },
  {
   "cell_type": "markdown",
   "metadata": {},
   "source": [
    "Lectura del archivo YELP bussines.pkl"
   ]
  },
  {
   "cell_type": "code",
   "execution_count": 2,
   "metadata": {},
   "outputs": [],
   "source": [
    "def cargar_dataset_pickle(file_url):\n",
    "    response = requests.get(file_url)\n",
    "    # Verificar si la solicitud fue exitosa (código de estado 200)\n",
    "    if response.status_code == 200:\n",
    "    # Cargar el contenido en un DataFrame de Pandas\n",
    "        df = pd.read_pickle(io.BytesIO(response.content))\n",
    "        return df\n",
    "    else:\n",
    "        print(f'Error al obtener el archivo. Código de estado: {response.status_code}')\n",
    "\n",
    "url='https://drive.usercontent.google.com/download?id=1byFtzpZXopdCN-XYmMHMpZqzgAqfQBBu&export=download&authuser=0&confirm=t&uuid=189d48ef-ef64-4bc9-aec7-9e654cb4c757&at=APZUnTVmlezTicVw58BDGG9siM6Q:1704808512976'\n",
    "dfbusinessYelp=cargar_dataset_pickle(url)"
   ]
  },
  {
   "cell_type": "markdown",
   "metadata": {},
   "source": [
    "El alcance de nuestro proyecto se limita al negocio de ulta beauty , por lo que se va a filtrar"
   ]
  },
  {
   "cell_type": "code",
   "execution_count": 3,
   "metadata": {},
   "outputs": [],
   "source": [
    "#Quitamos las columnas duplicadas\n",
    "dfbusinessYelp = dfbusinessYelp.loc[:, ~dfbusinessYelp.columns.duplicated()]\n",
    "#filtramos ulta_beauty \n",
    "dfbusinessYelp = dfbusinessYelp[dfbusinessYelp['name'] == 'Ulta Beauty']"
   ]
  },
  {
   "cell_type": "markdown",
   "metadata": {},
   "source": [
    "Borramos la columna is_open ya que no es relevante para el proyecto "
   ]
  },
  {
   "cell_type": "code",
   "execution_count": 4,
   "metadata": {},
   "outputs": [],
   "source": [
    "dfbusinessYelp = dfbusinessYelp.drop('is_open', axis=1)"
   ]
  },
  {
   "cell_type": "markdown",
   "metadata": {},
   "source": [
    "La dirección que se va a utilizar es la de latitude y longitude por lo que también borramos la columna address"
   ]
  },
  {
   "cell_type": "code",
   "execution_count": 5,
   "metadata": {},
   "outputs": [],
   "source": [
    "dfbusinessYelp = dfbusinessYelp.drop('address', axis=1)"
   ]
  },
  {
   "cell_type": "markdown",
   "metadata": {},
   "source": [
    "La columna de name también se va a eliminar ya que todos los locales se llaman igual y solo se van a dejar los bussiness_id para identificarlos"
   ]
  },
  {
   "cell_type": "code",
   "execution_count": 6,
   "metadata": {},
   "outputs": [],
   "source": [
    "dfbusinessYelp = dfbusinessYelp.drop('name', axis=1)"
   ]
  },
  {
   "cell_type": "markdown",
   "metadata": {},
   "source": [
    "Borramos la columna de categories ya que todos los lugares de ultabeauty estan relacionados con el area de la belleza y esta columna es irrelevante"
   ]
  },
  {
   "cell_type": "code",
   "execution_count": 7,
   "metadata": {},
   "outputs": [],
   "source": [
    "dfbusinessYelp = dfbusinessYelp.drop('categories', axis=1)"
   ]
  },
  {
   "cell_type": "markdown",
   "metadata": {},
   "source": [
    "Borramos la columna de attributes y de hours"
   ]
  },
  {
   "cell_type": "code",
   "execution_count": 8,
   "metadata": {},
   "outputs": [],
   "source": [
    "dfbusinessYelp = dfbusinessYelp.drop('attributes', axis=1)\n",
    "dfbusinessYelp = dfbusinessYelp.drop('hours', axis=1)"
   ]
  },
  {
   "cell_type": "markdown",
   "metadata": {},
   "source": [
    "Valores nulos"
   ]
  },
  {
   "cell_type": "code",
   "execution_count": 9,
   "metadata": {},
   "outputs": [
    {
     "data": {
      "text/plain": [
       "business_id     0.0 %\n",
       "city            0.0 %\n",
       "state           0.0 %\n",
       "postal_code     0.0 %\n",
       "latitude        0.0 %\n",
       "longitude       0.0 %\n",
       "stars           0.0 %\n",
       "review_count    0.0 %\n",
       "dtype: object"
      ]
     },
     "execution_count": 9,
     "metadata": {},
     "output_type": "execute_result"
    }
   ],
   "source": [
    "round(dfbusinessYelp.isnull().sum() / dfbusinessYelp.shape[0] * 100, 2).astype(str) + ' %'\n"
   ]
  },
  {
   "cell_type": "markdown",
   "metadata": {},
   "source": [
    "Normalización del nombre de las columnas\n",
    "\n",
    "Todos los nombres de las columnas deben estar en minusculas y las palabras deben estar separadas con '_' ya que estaremos utilizando el formato de snake_case"
   ]
  },
  {
   "cell_type": "code",
   "execution_count": 10,
   "metadata": {},
   "outputs": [],
   "source": [
    "# Función para convertir el nombre de columna a formato snake_case\n",
    "def snake_case(column_name):\n",
    "    return re.sub(r'(?<=[a-z])(?=[A-Z])', '_', column_name).lower()\n",
    "\n",
    "# Aplicar la función a todos los nombres de columnas\n",
    "dfbusinessYelp.columns = dfbusinessYelp.columns.map(snake_case)"
   ]
  },
  {
   "cell_type": "markdown",
   "metadata": {},
   "source": [
    "Nomralización de los datos dentro de las filas"
   ]
  },
  {
   "cell_type": "markdown",
   "metadata": {},
   "source": [
    "Para la columna city convertiremos a snake_case"
   ]
  },
  {
   "cell_type": "code",
   "execution_count": 11,
   "metadata": {},
   "outputs": [],
   "source": [
    "dfbusinessYelp['city'] = dfbusinessYelp['city'].str.lower().str.replace(' ', '_')"
   ]
  },
  {
   "cell_type": "markdown",
   "metadata": {},
   "source": [
    "Para la columna state , se va a reemplazar las siglas por el nombre de los estados"
   ]
  },
  {
   "cell_type": "code",
   "execution_count": 12,
   "metadata": {},
   "outputs": [],
   "source": [
    "estado_mapping = {\n",
    "    'PA': 'pennsylvania',\n",
    "    'FL': 'florida',\n",
    "    'NV': 'nevada',\n",
    "    'LA': 'louisiana',\n",
    "    'AZ': 'arizona',\n",
    "    'IN': 'indiana',\n",
    "    'TN': 'tennessee',\n",
    "    'MO': 'missouri',\n",
    "    'CA': 'california',\n",
    "    'ID': 'idaho',\n",
    "    'NJ': 'new_jersey',\n",
    "    'DE': 'delaware',\n",
    "    'IL': 'illinois',\n",
    "    'AB':'AB'\n",
    "}\n",
    "\n",
    "# Aplicar el mapeo a la columna 'state'\n",
    "dfbusinessYelp['state'] = dfbusinessYelp['state'].map(estado_mapping)\n"
   ]
  },
  {
   "cell_type": "markdown",
   "metadata": {},
   "source": [
    "Las review con el estado AB estan mal identificadas por lo que se usara la latitud y la longitud para determinar al estado al que pertenecen"
   ]
  },
  {
   "cell_type": "code",
   "execution_count": 13,
   "metadata": {},
   "outputs": [],
   "source": [
    "def obtener_estado(latitud, longitud):\n",
    "    geolocator = Nominatim(user_agent=\"my_geocoder\")\n",
    "    location = geolocator.reverse((latitud, longitud), language=\"en\")\n",
    "\n",
    "    if location is not None:\n",
    "        # La información sobre el estado generalmente se encuentra en el nivel de \"address\" en la respuesta\n",
    "        estado = location.raw.get('address', {}).get('state', None)\n",
    "        return estado\n",
    "    else:\n",
    "        return None\n",
    "sindato=0\n",
    "faltantes=dfbusinessYelp[dfbusinessYelp.state=='AB'][['latitude', 'longitude']].drop_duplicates()\n",
    "for a in range(len(faltantes)):\n",
    "    latitud=faltantes.iloc[a,0]\n",
    "    longitud=faltantes.iloc[a,1]\n",
    "\n",
    "    estado = obtener_estado(latitud, longitud)\n",
    "\n",
    "    if estado:\n",
    "        dfbusinessYelp.loc[(dfbusinessYelp.latitude==latitud)&(dfbusinessYelp.longitude==longitud),'state']=estado\n",
    "    else:\n",
    "        sindato+=1\n",
    "        continue"
   ]
  },
  {
   "cell_type": "markdown",
   "metadata": {},
   "source": [
    "Agregamos la columna source porque despues se va a concatenar con el dataset de google y para poder identificar cual es la fuente de nuestros datos"
   ]
  },
  {
   "cell_type": "code",
   "execution_count": 14,
   "metadata": {},
   "outputs": [],
   "source": [
    "dfbusinessYelp['source']='Y'"
   ]
  },
  {
   "cell_type": "code",
   "execution_count": 15,
   "metadata": {},
   "outputs": [
    {
     "data": {
      "text/html": [
       "<div>\n",
       "<style scoped>\n",
       "    .dataframe tbody tr th:only-of-type {\n",
       "        vertical-align: middle;\n",
       "    }\n",
       "\n",
       "    .dataframe tbody tr th {\n",
       "        vertical-align: top;\n",
       "    }\n",
       "\n",
       "    .dataframe thead th {\n",
       "        text-align: right;\n",
       "    }\n",
       "</style>\n",
       "<table border=\"1\" class=\"dataframe\">\n",
       "  <thead>\n",
       "    <tr style=\"text-align: right;\">\n",
       "      <th></th>\n",
       "      <th>business_id</th>\n",
       "      <th>city</th>\n",
       "      <th>state</th>\n",
       "      <th>postal_code</th>\n",
       "      <th>latitude</th>\n",
       "      <th>longitude</th>\n",
       "      <th>stars</th>\n",
       "      <th>review_count</th>\n",
       "      <th>source</th>\n",
       "    </tr>\n",
       "  </thead>\n",
       "  <tbody>\n",
       "    <tr>\n",
       "      <th>883</th>\n",
       "      <td>4uqRhXZTOzKF2ZhxbWzxfA</td>\n",
       "      <td>newark</td>\n",
       "      <td>pennsylvania</td>\n",
       "      <td>19702</td>\n",
       "      <td>39.672058</td>\n",
       "      <td>-75.6489</td>\n",
       "      <td>3.5</td>\n",
       "      <td>11</td>\n",
       "      <td>Y</td>\n",
       "    </tr>\n",
       "    <tr>\n",
       "      <th>1063</th>\n",
       "      <td>fWMPbickerGWohPy2vDL5A</td>\n",
       "      <td>plainfield</td>\n",
       "      <td>arizona</td>\n",
       "      <td>46168</td>\n",
       "      <td>39.713441</td>\n",
       "      <td>-86.357947</td>\n",
       "      <td>3.0</td>\n",
       "      <td>14</td>\n",
       "      <td>Y</td>\n",
       "    </tr>\n",
       "    <tr>\n",
       "      <th>5488</th>\n",
       "      <td>DJZQCN0NUej_EtviN4rUlg</td>\n",
       "      <td>philadelphia</td>\n",
       "      <td>pennsylvania</td>\n",
       "      <td>19131</td>\n",
       "      <td>39.978981</td>\n",
       "      <td>-75.27146</td>\n",
       "      <td>3.5</td>\n",
       "      <td>12</td>\n",
       "      <td>Y</td>\n",
       "    </tr>\n",
       "    <tr>\n",
       "      <th>13384</th>\n",
       "      <td>Vxqa8u_5RD5e7oBqdaU0yQ</td>\n",
       "      <td>fairview_heights</td>\n",
       "      <td>Illinois</td>\n",
       "      <td>62208</td>\n",
       "      <td>38.596645</td>\n",
       "      <td>-89.987348</td>\n",
       "      <td>3.5</td>\n",
       "      <td>13</td>\n",
       "      <td>Y</td>\n",
       "    </tr>\n",
       "    <tr>\n",
       "      <th>13760</th>\n",
       "      <td>idP674ti6a8yg8z2xFcCgA</td>\n",
       "      <td>newtown_square</td>\n",
       "      <td>arizona</td>\n",
       "      <td>19073</td>\n",
       "      <td>39.987189</td>\n",
       "      <td>-75.403201</td>\n",
       "      <td>2.5</td>\n",
       "      <td>24</td>\n",
       "      <td>Y</td>\n",
       "    </tr>\n",
       "  </tbody>\n",
       "</table>\n",
       "</div>"
      ],
      "text/plain": [
       "                  business_id              city         state postal_code  \\\n",
       "883    4uqRhXZTOzKF2ZhxbWzxfA            newark  pennsylvania       19702   \n",
       "1063   fWMPbickerGWohPy2vDL5A        plainfield       arizona       46168   \n",
       "5488   DJZQCN0NUej_EtviN4rUlg      philadelphia  pennsylvania       19131   \n",
       "13384  Vxqa8u_5RD5e7oBqdaU0yQ  fairview_heights      Illinois       62208   \n",
       "13760  idP674ti6a8yg8z2xFcCgA    newtown_square       arizona       19073   \n",
       "\n",
       "        latitude  longitude stars review_count source  \n",
       "883    39.672058   -75.6489   3.5           11      Y  \n",
       "1063   39.713441 -86.357947   3.0           14      Y  \n",
       "5488   39.978981  -75.27146   3.5           12      Y  \n",
       "13384  38.596645 -89.987348   3.5           13      Y  \n",
       "13760  39.987189 -75.403201   2.5           24      Y  "
      ]
     },
     "execution_count": 15,
     "metadata": {},
     "output_type": "execute_result"
    }
   ],
   "source": [
    "dfbusinessYelp.head()"
   ]
  }
 ],
 "metadata": {
  "kernelspec": {
   "display_name": "Python 3",
   "language": "python",
   "name": "python3"
  },
  "language_info": {
   "codemirror_mode": {
    "name": "ipython",
    "version": 3
   },
   "file_extension": ".py",
   "mimetype": "text/x-python",
   "name": "python",
   "nbconvert_exporter": "python",
   "pygments_lexer": "ipython3",
   "version": "3.11.7"
  }
 },
 "nbformat": 4,
 "nbformat_minor": 2
}
