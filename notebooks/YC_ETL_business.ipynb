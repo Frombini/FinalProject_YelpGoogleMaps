{
 "cells": [
  {
   "cell_type": "markdown",
   "metadata": {},
   "source": [
    "Importar librerias"
   ]
  },
  {
   "cell_type": "code",
   "execution_count": 1,
   "metadata": {},
   "outputs": [],
   "source": [
    "import pandas as pd\n",
    "import requests\n",
    "import io\n",
    "import re\n",
    "from datetime import datetime"
   ]
  },
  {
   "cell_type": "markdown",
   "metadata": {},
   "source": [
    "Lectura del archivo YELP bussines.pkl"
   ]
  },
  {
   "cell_type": "code",
   "execution_count": 2,
   "metadata": {},
   "outputs": [],
   "source": [
    "def cargar_dataset_pickle(file_url):\n",
    "    response = requests.get(file_url)\n",
    "    # Verificar si la solicitud fue exitosa (código de estado 200)\n",
    "    if response.status_code == 200:\n",
    "    # Cargar el contenido en un DataFrame de Pandas\n",
    "        df = pd.read_pickle(io.BytesIO(response.content))\n",
    "        return df\n",
    "    else:\n",
    "        print(f'Error al obtener el archivo. Código de estado: {response.status_code}')\n",
    "\n",
    "url='https://drive.usercontent.google.com/download?id=1byFtzpZXopdCN-XYmMHMpZqzgAqfQBBu&export=download&authuser=0&confirm=t&uuid=189d48ef-ef64-4bc9-aec7-9e654cb4c757&at=APZUnTVmlezTicVw58BDGG9siM6Q:1704808512976'\n",
    "dfbusinessYelp=cargar_dataset_pickle(url)"
   ]
  },
  {
   "cell_type": "markdown",
   "metadata": {},
   "source": [
    "El alcance de nuestro proyecto se limita al negocio de ulta beauty , por lo que se va a filtrar"
   ]
  },
  {
   "cell_type": "code",
   "execution_count": 3,
   "metadata": {},
   "outputs": [],
   "source": [
    "#Quitamos las columnas duplicadas\n",
    "dfbusinessYelp = dfbusinessYelp.loc[:, ~dfbusinessYelp.columns.duplicated()]\n",
    "#filtramos ulta_beauty \n",
    "dfbusinessYelp = dfbusinessYelp[dfbusinessYelp['name'] == 'Ulta Beauty']"
   ]
  },
  {
   "cell_type": "markdown",
   "metadata": {},
   "source": [
    "Solo nos interesan los locales que están en funcionamiento por los que son is_open = 0 no se van a tomar en cuenta"
   ]
  },
  {
   "cell_type": "code",
   "execution_count": 4,
   "metadata": {},
   "outputs": [],
   "source": [
    "#dfbusinessYelp = dfbusinessYelp[dfbusinessYelp['is_open'] == 1]\n",
    "#borramos la columna is_open\n",
    "dfbusinessYelp = dfbusinessYelp.drop('is_open', axis=1)"
   ]
  },
  {
   "cell_type": "markdown",
   "metadata": {},
   "source": [
    "La dirección que se va a utilizar es la de latitude y longitude por lo que también borramos la columna address"
   ]
  },
  {
   "cell_type": "code",
   "execution_count": 5,
   "metadata": {},
   "outputs": [],
   "source": [
    "dfbusinessYelp = dfbusinessYelp.drop('address', axis=1)"
   ]
  },
  {
   "cell_type": "markdown",
   "metadata": {},
   "source": [
    "La columna de name también se va a eliminar ya que todos los locales se llaman igual y solo se van a dejar los bussiness_id para identificarlos"
   ]
  },
  {
   "cell_type": "code",
   "execution_count": 6,
   "metadata": {},
   "outputs": [],
   "source": [
    "dfbusinessYelp = dfbusinessYelp.drop('name', axis=1)"
   ]
  },
  {
   "cell_type": "markdown",
   "metadata": {},
   "source": [
    "Borramos la columna de categories ya que todos los lugares de ultabeauty estan relacionados con el area de la belleza y esta columna es irrelevante"
   ]
  },
  {
   "cell_type": "code",
   "execution_count": 7,
   "metadata": {},
   "outputs": [],
   "source": [
    "dfbusinessYelp = dfbusinessYelp.drop('categories', axis=1)"
   ]
  },
  {
   "cell_type": "markdown",
   "metadata": {},
   "source": [
    "Expandemos la columna attributes"
   ]
  },
  {
   "cell_type": "code",
   "execution_count": 8,
   "metadata": {},
   "outputs": [],
   "source": [
    "# Función para expandir el diccionario en la columna 'attributes'\n",
    "def expandir_attributes(row):\n",
    "    if row['attributes']:\n",
    "        return pd.Series(row['attributes'])\n",
    "    else:\n",
    "        return pd.Series()\n",
    "\n",
    "# Aplicar la función a cada fila del DataFrame\n",
    "df_expandido = dfbusinessYelp.apply(expandir_attributes, axis=1)\n",
    "\n",
    "# Concatenar el DataFrame original con el nuevo DataFrame expandido\n",
    "df_resultado = pd.concat([dfbusinessYelp, df_expandido], axis=1)\n",
    "\n",
    "# Eliminar la columna original 'attributes' si es necesario\n",
    "dfbusinessYelp = df_resultado.drop('attributes', axis=1)"
   ]
  },
  {
   "cell_type": "markdown",
   "metadata": {},
   "source": [
    "Expandemos la columna hour"
   ]
  },
  {
   "cell_type": "code",
   "execution_count": 9,
   "metadata": {},
   "outputs": [],
   "source": [
    "# Función para expandir el diccionario en la columna 'hour' con prefijo 'hour'\n",
    "def expandir_hour(row):\n",
    "    if row['hours']:\n",
    "        hour_dict = row['hours']\n",
    "        expanded_dict = {}\n",
    "        for day, time_range in hour_dict.items():\n",
    "            expanded_dict[f'hours_{day}'] = time_range\n",
    "        return pd.Series(expanded_dict)\n",
    "    else:\n",
    "        return pd.Series()\n",
    "\n",
    "# Aplicar la función a cada fila del DataFrame\n",
    "df_expandido_hour = dfbusinessYelp.apply(expandir_hour, axis=1)\n",
    "\n",
    "# Concatenar el DataFrame original con el nuevo DataFrame expandido\n",
    "df_resultado = pd.concat([dfbusinessYelp, df_expandido_hour], axis=1)\n",
    "\n",
    "# Eliminar la columna original 'hour' si es necesario\n",
    "dfbusinessYelp = df_resultado.drop('hours', axis=1)"
   ]
  },
  {
   "cell_type": "markdown",
   "metadata": {},
   "source": [
    "Valores nulos"
   ]
  },
  {
   "cell_type": "code",
   "execution_count": 10,
   "metadata": {},
   "outputs": [
    {
     "data": {
      "text/plain": [
       "business_id                     0.0 %\n",
       "city                            0.0 %\n",
       "state                           0.0 %\n",
       "postal_code                     0.0 %\n",
       "latitude                        0.0 %\n",
       "longitude                       0.0 %\n",
       "stars                           0.0 %\n",
       "review_count                    0.0 %\n",
       "BikeParking                   27.87 %\n",
       "BusinessAcceptsCreditCards    18.03 %\n",
       "BusinessParking               19.67 %\n",
       "ByAppointmentOnly             19.67 %\n",
       "DogsAllowed                   95.08 %\n",
       "GoodForKids                   47.54 %\n",
       "RestaurantsPriceRange2        16.39 %\n",
       "WheelchairAccessible          96.72 %\n",
       "WiFi                          98.36 %\n",
       "hours_Monday                    0.0 %\n",
       "hours_Tuesday                   0.0 %\n",
       "hours_Wednesday                 0.0 %\n",
       "hours_Thursday                  0.0 %\n",
       "hours_Friday                    0.0 %\n",
       "hours_Saturday                  0.0 %\n",
       "hours_Sunday                    0.0 %\n",
       "dtype: object"
      ]
     },
     "execution_count": 10,
     "metadata": {},
     "output_type": "execute_result"
    }
   ],
   "source": [
    "round(dfbusinessYelp.isnull().sum() / dfbusinessYelp.shape[0] * 100, 2).astype(str) + ' %'\n"
   ]
  },
  {
   "cell_type": "markdown",
   "metadata": {},
   "source": [
    "Las columnas DogsAllowed , WheelchairAccessible ,WiFi,GoodForKids contienen gran cantidad  de valores nulos por lo que serán elimnadas"
   ]
  },
  {
   "cell_type": "code",
   "execution_count": 11,
   "metadata": {},
   "outputs": [],
   "source": [
    "dfbusinessYelp.drop(columns=['DogsAllowed','WheelchairAccessible','WiFi','GoodForKids'],inplace=True)"
   ]
  },
  {
   "cell_type": "markdown",
   "metadata": {},
   "source": [
    "Los valores nulos de las columnas BikeParking , BusinessAcceptsCreditCards , ByAppointmentOnly serán reemplazados por False ya que solo contiene valores True y False"
   ]
  },
  {
   "cell_type": "code",
   "execution_count": 12,
   "metadata": {},
   "outputs": [],
   "source": [
    "dfbusinessYelp[['BikeParking', 'BusinessAcceptsCreditCards', 'ByAppointmentOnly']] = dfbusinessYelp[['BikeParking', 'BusinessAcceptsCreditCards', 'ByAppointmentOnly']].fillna('False')"
   ]
  },
  {
   "cell_type": "markdown",
   "metadata": {},
   "source": [
    "Observando los datos de la columna 'BusinessParking', notamos que es un diccionario con claves como 'garage', 'street', 'validated', 'lot', y 'valet'. Al analizar los valores asociados a estas claves, observamos que la clave 'garage' tiene todos sus valores establecidos como False. La clave 'street' presenta 45 valores como False y solo 1 como True. La clave 'validated' muestra todos sus valores como False. En cuanto a 'lot', hay 28 valores True y 18 False, y 'valet' contiene exclusivamente valores False.\n",
    "\n",
    "Dada la prevalencia de valores False en la mayoría de las claves, hemos decidido eliminar por completo la columna 'BusinessParking' "
   ]
  },
  {
   "cell_type": "code",
   "execution_count": 13,
   "metadata": {},
   "outputs": [
    {
     "data": {
      "text/plain": [
       "BusinessParking\n",
       "{'garage': False, 'street': False, 'validated': False, 'lot': True, 'valet': False}     28\n",
       "{'garage': False, 'street': False, 'validated': False, 'lot': False, 'valet': False}    14\n",
       "None                                                                                     5\n",
       "{'garage': False, 'street': True, 'validated': False, 'lot': False, 'valet': False}      2\n",
       "Name: count, dtype: int64"
      ]
     },
     "execution_count": 13,
     "metadata": {},
     "output_type": "execute_result"
    }
   ],
   "source": [
    "dfbusinessYelp['BusinessParking'].value_counts()"
   ]
  },
  {
   "cell_type": "code",
   "execution_count": 14,
   "metadata": {},
   "outputs": [],
   "source": [
    "dfbusinessYelp = dfbusinessYelp.drop('BusinessParking', axis=1)"
   ]
  },
  {
   "cell_type": "markdown",
   "metadata": {},
   "source": [
    "Eliminamos la columna RestaurantsPriceRange2 ya que solo nos enfocamos en los productos relacionados con la belleza"
   ]
  },
  {
   "cell_type": "code",
   "execution_count": 15,
   "metadata": {},
   "outputs": [],
   "source": [
    "dfbusinessYelp = dfbusinessYelp.drop('RestaurantsPriceRange2', axis=1)"
   ]
  },
  {
   "cell_type": "markdown",
   "metadata": {},
   "source": [
    "Normalización del nombre de las columnas\n",
    "\n",
    "Todos los nombres de las columnas deben estar en minusculas y las palabras deben estar separadas con '_' ya que estaremos utilizando el formato de snake_case"
   ]
  },
  {
   "cell_type": "code",
   "execution_count": 16,
   "metadata": {},
   "outputs": [],
   "source": [
    "# Función para convertir el nombre de columna a formato snake_case\n",
    "def snake_case(column_name):\n",
    "    return re.sub(r'(?<=[a-z])(?=[A-Z])', '_', column_name).lower()\n",
    "\n",
    "# Aplicar la función a todos los nombres de columnas\n",
    "dfbusinessYelp.columns = dfbusinessYelp.columns.map(snake_case)"
   ]
  },
  {
   "cell_type": "markdown",
   "metadata": {},
   "source": [
    "Nomralización de los datos dentro de las filas"
   ]
  },
  {
   "cell_type": "markdown",
   "metadata": {},
   "source": [
    "Para la columna city convertiremos a snake_case"
   ]
  },
  {
   "cell_type": "code",
   "execution_count": 17,
   "metadata": {},
   "outputs": [],
   "source": [
    "dfbusinessYelp['city'] = dfbusinessYelp['city'].str.lower().str.replace(' ', '_')"
   ]
  },
  {
   "cell_type": "markdown",
   "metadata": {},
   "source": [
    "Para la columna state , se va a reemplazar las siglas por el nombre de los estados"
   ]
  },
  {
   "cell_type": "code",
   "execution_count": 18,
   "metadata": {},
   "outputs": [],
   "source": [
    "estado_mapping = {\n",
    "    'PA': 'pennsylvania',\n",
    "    'FL': 'florida',\n",
    "    'NV': 'nevada',\n",
    "    'LA': 'louisiana',\n",
    "    'AZ': 'arizona',\n",
    "    'AB': 'alberta',\n",
    "    'IN': 'indiana',\n",
    "    'TN': 'tennessee',\n",
    "    'MO': 'missouri',\n",
    "    'CA': 'california',\n",
    "    'ID': 'idaho',\n",
    "    'NJ': 'new_jersey',\n",
    "    'DE': 'delaware',\n",
    "    'IL': 'illinois'\n",
    "}\n",
    "\n",
    "# Aplicar el mapeo a la columna 'state'\n",
    "dfbusinessYelp['state'] = dfbusinessYelp['state'].map(estado_mapping)\n"
   ]
  },
  {
   "cell_type": "markdown",
   "metadata": {},
   "source": [
    "convertimos a formato hora los horarios de las columnas que tienen hours"
   ]
  },
  {
   "cell_type": "code",
   "execution_count": 19,
   "metadata": {},
   "outputs": [],
   "source": [
    "# Función para convertir el formato de horas\n",
    "def convertir_formato_horas(rango_horas):\n",
    "    hora_inicio, hora_fin = map(lambda x: datetime.strptime(x, \"%H:%M\"), rango_horas.split('-'))\n",
    "    return f\"{hora_inicio.strftime('%H:%M')} - {hora_fin.strftime('%H:%M')}\"\n",
    "\n",
    "# Obtener todas las columnas de días de la semana\n",
    "columnas_dias_semana = [col for col in dfbusinessYelp.columns if col.startswith('hours_')]\n",
    "\n",
    "# Aplicar la función a todas las columnas de días de la semana\n",
    "for columna in columnas_dias_semana:\n",
    "    dfbusinessYelp[columna] = dfbusinessYelp[columna].apply(convertir_formato_horas)\n"
   ]
  },
  {
   "cell_type": "code",
   "execution_count": 20,
   "metadata": {},
   "outputs": [
    {
     "data": {
      "text/html": [
       "<div>\n",
       "<style scoped>\n",
       "    .dataframe tbody tr th:only-of-type {\n",
       "        vertical-align: middle;\n",
       "    }\n",
       "\n",
       "    .dataframe tbody tr th {\n",
       "        vertical-align: top;\n",
       "    }\n",
       "\n",
       "    .dataframe thead th {\n",
       "        text-align: right;\n",
       "    }\n",
       "</style>\n",
       "<table border=\"1\" class=\"dataframe\">\n",
       "  <thead>\n",
       "    <tr style=\"text-align: right;\">\n",
       "      <th></th>\n",
       "      <th>business_id</th>\n",
       "      <th>city</th>\n",
       "      <th>state</th>\n",
       "      <th>postal_code</th>\n",
       "      <th>latitude</th>\n",
       "      <th>longitude</th>\n",
       "      <th>stars</th>\n",
       "      <th>review_count</th>\n",
       "      <th>bike_parking</th>\n",
       "      <th>business_accepts_credit_cards</th>\n",
       "      <th>by_appointment_only</th>\n",
       "      <th>hours_monday</th>\n",
       "      <th>hours_tuesday</th>\n",
       "      <th>hours_wednesday</th>\n",
       "      <th>hours_thursday</th>\n",
       "      <th>hours_friday</th>\n",
       "      <th>hours_saturday</th>\n",
       "      <th>hours_sunday</th>\n",
       "    </tr>\n",
       "  </thead>\n",
       "  <tbody>\n",
       "    <tr>\n",
       "      <th>883</th>\n",
       "      <td>4uqRhXZTOzKF2ZhxbWzxfA</td>\n",
       "      <td>newark</td>\n",
       "      <td>pennsylvania</td>\n",
       "      <td>19702</td>\n",
       "      <td>39.672058</td>\n",
       "      <td>-75.6489</td>\n",
       "      <td>3.5</td>\n",
       "      <td>11</td>\n",
       "      <td>False</td>\n",
       "      <td>True</td>\n",
       "      <td>True</td>\n",
       "      <td>10:00 - 20:00</td>\n",
       "      <td>10:00 - 20:00</td>\n",
       "      <td>10:00 - 20:00</td>\n",
       "      <td>10:00 - 21:00</td>\n",
       "      <td>10:00 - 18:00</td>\n",
       "      <td>10:00 - 18:00</td>\n",
       "      <td>10:00 - 20:00</td>\n",
       "    </tr>\n",
       "    <tr>\n",
       "      <th>1063</th>\n",
       "      <td>fWMPbickerGWohPy2vDL5A</td>\n",
       "      <td>plainfield</td>\n",
       "      <td>arizona</td>\n",
       "      <td>46168</td>\n",
       "      <td>39.713441</td>\n",
       "      <td>-86.357947</td>\n",
       "      <td>3.0</td>\n",
       "      <td>14</td>\n",
       "      <td>True</td>\n",
       "      <td>True</td>\n",
       "      <td>False</td>\n",
       "      <td>10:00 - 20:00</td>\n",
       "      <td>10:00 - 20:00</td>\n",
       "      <td>10:00 - 20:00</td>\n",
       "      <td>10:00 - 21:00</td>\n",
       "      <td>10:00 - 18:00</td>\n",
       "      <td>10:00 - 18:00</td>\n",
       "      <td>10:00 - 20:00</td>\n",
       "    </tr>\n",
       "    <tr>\n",
       "      <th>5488</th>\n",
       "      <td>DJZQCN0NUej_EtviN4rUlg</td>\n",
       "      <td>philadelphia</td>\n",
       "      <td>pennsylvania</td>\n",
       "      <td>19131</td>\n",
       "      <td>39.978981</td>\n",
       "      <td>-75.27146</td>\n",
       "      <td>3.5</td>\n",
       "      <td>12</td>\n",
       "      <td>True</td>\n",
       "      <td>True</td>\n",
       "      <td>False</td>\n",
       "      <td>09:00 - 20:00</td>\n",
       "      <td>09:00 - 20:00</td>\n",
       "      <td>09:00 - 20:00</td>\n",
       "      <td>09:00 - 20:00</td>\n",
       "      <td>09:00 - 20:00</td>\n",
       "      <td>09:00 - 20:00</td>\n",
       "      <td>11:00 - 18:00</td>\n",
       "    </tr>\n",
       "    <tr>\n",
       "      <th>13384</th>\n",
       "      <td>Vxqa8u_5RD5e7oBqdaU0yQ</td>\n",
       "      <td>fairview_heights</td>\n",
       "      <td>alberta</td>\n",
       "      <td>62208</td>\n",
       "      <td>38.596645</td>\n",
       "      <td>-89.987348</td>\n",
       "      <td>3.5</td>\n",
       "      <td>13</td>\n",
       "      <td>True</td>\n",
       "      <td>True</td>\n",
       "      <td>False</td>\n",
       "      <td>10:00 - 20:00</td>\n",
       "      <td>10:00 - 20:00</td>\n",
       "      <td>10:00 - 20:00</td>\n",
       "      <td>10:00 - 21:00</td>\n",
       "      <td>10:00 - 18:00</td>\n",
       "      <td>10:00 - 18:00</td>\n",
       "      <td>10:00 - 20:00</td>\n",
       "    </tr>\n",
       "    <tr>\n",
       "      <th>13760</th>\n",
       "      <td>idP674ti6a8yg8z2xFcCgA</td>\n",
       "      <td>newtown_square</td>\n",
       "      <td>arizona</td>\n",
       "      <td>19073</td>\n",
       "      <td>39.987189</td>\n",
       "      <td>-75.403201</td>\n",
       "      <td>2.5</td>\n",
       "      <td>24</td>\n",
       "      <td>False</td>\n",
       "      <td>True</td>\n",
       "      <td>False</td>\n",
       "      <td>10:00 - 20:00</td>\n",
       "      <td>10:00 - 20:00</td>\n",
       "      <td>10:00 - 20:00</td>\n",
       "      <td>10:00 - 21:00</td>\n",
       "      <td>10:00 - 18:00</td>\n",
       "      <td>10:00 - 18:00</td>\n",
       "      <td>10:00 - 20:00</td>\n",
       "    </tr>\n",
       "  </tbody>\n",
       "</table>\n",
       "</div>"
      ],
      "text/plain": [
       "                  business_id              city         state postal_code  \\\n",
       "883    4uqRhXZTOzKF2ZhxbWzxfA            newark  pennsylvania       19702   \n",
       "1063   fWMPbickerGWohPy2vDL5A        plainfield       arizona       46168   \n",
       "5488   DJZQCN0NUej_EtviN4rUlg      philadelphia  pennsylvania       19131   \n",
       "13384  Vxqa8u_5RD5e7oBqdaU0yQ  fairview_heights       alberta       62208   \n",
       "13760  idP674ti6a8yg8z2xFcCgA    newtown_square       arizona       19073   \n",
       "\n",
       "        latitude  longitude stars review_count bike_parking  \\\n",
       "883    39.672058   -75.6489   3.5           11        False   \n",
       "1063   39.713441 -86.357947   3.0           14         True   \n",
       "5488   39.978981  -75.27146   3.5           12         True   \n",
       "13384  38.596645 -89.987348   3.5           13         True   \n",
       "13760  39.987189 -75.403201   2.5           24        False   \n",
       "\n",
       "      business_accepts_credit_cards by_appointment_only   hours_monday  \\\n",
       "883                            True                True  10:00 - 20:00   \n",
       "1063                           True               False  10:00 - 20:00   \n",
       "5488                           True               False  09:00 - 20:00   \n",
       "13384                          True               False  10:00 - 20:00   \n",
       "13760                          True               False  10:00 - 20:00   \n",
       "\n",
       "       hours_tuesday hours_wednesday hours_thursday   hours_friday  \\\n",
       "883    10:00 - 20:00   10:00 - 20:00  10:00 - 21:00  10:00 - 18:00   \n",
       "1063   10:00 - 20:00   10:00 - 20:00  10:00 - 21:00  10:00 - 18:00   \n",
       "5488   09:00 - 20:00   09:00 - 20:00  09:00 - 20:00  09:00 - 20:00   \n",
       "13384  10:00 - 20:00   10:00 - 20:00  10:00 - 21:00  10:00 - 18:00   \n",
       "13760  10:00 - 20:00   10:00 - 20:00  10:00 - 21:00  10:00 - 18:00   \n",
       "\n",
       "      hours_saturday   hours_sunday  \n",
       "883    10:00 - 18:00  10:00 - 20:00  \n",
       "1063   10:00 - 18:00  10:00 - 20:00  \n",
       "5488   09:00 - 20:00  11:00 - 18:00  \n",
       "13384  10:00 - 18:00  10:00 - 20:00  \n",
       "13760  10:00 - 18:00  10:00 - 20:00  "
      ]
     },
     "execution_count": 20,
     "metadata": {},
     "output_type": "execute_result"
    }
   ],
   "source": [
    "dfbusinessYelp.head()"
   ]
  },
  {
   "cell_type": "code",
   "execution_count": 21,
   "metadata": {},
   "outputs": [
    {
     "data": {
      "text/plain": [
       "Index(['business_id', 'city', 'state', 'postal_code', 'latitude', 'longitude',\n",
       "       'stars', 'review_count', 'bike_parking',\n",
       "       'business_accepts_credit_cards', 'by_appointment_only', 'hours_monday',\n",
       "       'hours_tuesday', 'hours_wednesday', 'hours_thursday', 'hours_friday',\n",
       "       'hours_saturday', 'hours_sunday'],\n",
       "      dtype='object')"
      ]
     },
     "execution_count": 21,
     "metadata": {},
     "output_type": "execute_result"
    }
   ],
   "source": [
    "dfbusinessYelp.columns"
   ]
  },
  {
   "cell_type": "code",
   "execution_count": null,
   "metadata": {},
   "outputs": [],
   "source": [
    "#Agregar source\n",
    "#Corregir AB\n",
    "#Quitar is_open"
   ]
  }
 ],
 "metadata": {
  "kernelspec": {
   "display_name": "Python 3",
   "language": "python",
   "name": "python3"
  },
  "language_info": {
   "codemirror_mode": {
    "name": "ipython",
    "version": 3
   },
   "file_extension": ".py",
   "mimetype": "text/x-python",
   "name": "python",
   "nbconvert_exporter": "python",
   "pygments_lexer": "ipython3",
   "version": "3.11.7"
  }
 },
 "nbformat": 4,
 "nbformat_minor": 2
}
