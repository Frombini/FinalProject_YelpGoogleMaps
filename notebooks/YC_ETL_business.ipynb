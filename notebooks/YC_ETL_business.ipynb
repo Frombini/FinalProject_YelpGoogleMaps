{
 "cells": [
  {
   "cell_type": "markdown",
   "metadata": {},
   "source": [
    "# ETL Yelp Business (Extract, Load, Transform)"
   ]
  },
  {
   "cell_type": "markdown",
   "metadata": {},
   "source": [
    "This project endeavors to investigate and analyze valuable insights and user opinions presented in business reviews on Yelp. Within this framework, the Extract, Transform, Load (ETL) process assumes pivotal significance. We will engage with data derived from businesses listed on Yelp, employing ETL methodologies to guarantee the streamlined collection, transformation, and preparation of the data"
   ]
  },
  {
   "cell_type": "markdown",
   "metadata": {},
   "source": [
    "### Requirements"
   ]
  },
  {
   "cell_type": "markdown",
   "metadata": {},
   "source": [
    "⚠️ **Make sure to install the following libraries before running the code**\n",
    "\n",
    "- pandas\n",
    "- requests\n",
    "- geopy\n",
    "\n",
    "You can install these libraries by opening a terminal or command line window and running the following command:\n",
    "\n",
    "*`pip install pandas requests geopy`*"
   ]
  },
  {
   "cell_type": "markdown",
   "metadata": {},
   "source": [
    "## 1. Import Libraries"
   ]
  },
  {
   "cell_type": "code",
   "execution_count": 1,
   "metadata": {},
   "outputs": [],
   "source": [
    "import pandas as pd\n",
    "import requests\n",
    "import io\n",
    "import re\n",
    "from datetime import datetime\n",
    "from geopy.geocoders import Nominatim"
   ]
  },
  {
   "cell_type": "markdown",
   "metadata": {},
   "source": [
    "## 2. Connect and Upload Data"
   ]
  },
  {
   "cell_type": "code",
   "execution_count": 2,
   "metadata": {},
   "outputs": [],
   "source": [
    "def cargar_dataset_pickle(file_url):\n",
    "    response = requests.get(file_url)\n",
    "\n",
    "    if response.status_code == 200: # Check if the request was successful (status code 200)\n",
    "        df = pd.read_pickle(io.BytesIO(response.content))\n",
    "        return df\n",
    "    else:\n",
    "        print(f'Error getting file. Status code: {response.status_code}')\n",
    "\n",
    "url='https://drive.usercontent.google.com/download?id=1byFtzpZXopdCN-XYmMHMpZqzgAqfQBBu&export=download&authuser=0&confirm=t&uuid=189d48ef-ef64-4bc9-aec7-9e654cb4c757&at=APZUnTVmlezTicVw58BDGG9siM6Q:1704808512976'\n",
    "dfbusinessYelp=cargar_dataset_pickle(url)"
   ]
  },
  {
   "cell_type": "markdown",
   "metadata": {},
   "source": [
    "## 3. Explore and Clean Data"
   ]
  },
  {
   "cell_type": "code",
   "execution_count": 3,
   "metadata": {},
   "outputs": [],
   "source": [
    "#Project scope is limited to Ulta Beauty business, so filter applies\n",
    "\n",
    "# Duplicate columns are removed from the dataframe\n",
    "dfbusinessYelp = dfbusinessYelp.loc[:, ~dfbusinessYelp.columns.duplicated()]\n",
    "\n",
    "dfbusinessYelp = dfbusinessYelp[dfbusinessYelp['name'] == 'Ulta Beauty']"
   ]
  },
  {
   "cell_type": "markdown",
   "metadata": {},
   "source": [
    "**The following columns are eliminated because they are not relevant to the project**"
   ]
  },
  {
   "cell_type": "code",
   "execution_count": 4,
   "metadata": {},
   "outputs": [],
   "source": [
    "#is_open\n",
    "dfbusinessYelp = dfbusinessYelp.drop('is_open', axis=1)\n",
    "\n",
    "#address\n",
    "dfbusinessYelp = dfbusinessYelp.drop('address', axis=1) #For the address, the latitude and longitude data are taken.\n",
    "\n",
    "#name\n",
    "dfbusinessYelp = dfbusinessYelp.drop('name', axis=1) #All the stores have the same name \"Ulta Beauty\", business_id will be the identifier\n",
    "\n",
    "#categories\n",
    "dfbusinessYelp = dfbusinessYelp.drop('categories', axis=1) #All Ulta Beaty categories correspond to the Beauty Industry\n",
    "\n",
    "#attributes\n",
    "dfbusinessYelp = dfbusinessYelp.drop('attributes', axis=1)\n",
    "\n",
    "#hours\n",
    "dfbusinessYelp = dfbusinessYelp.drop('hours', axis=1)"
   ]
  },
  {
   "cell_type": "markdown",
   "metadata": {},
   "source": [
    "**Handling null values**"
   ]
  },
  {
   "cell_type": "code",
   "execution_count": 9,
   "metadata": {},
   "outputs": [
    {
     "data": {
      "text/plain": [
       "business_id     0.0 %\n",
       "city            0.0 %\n",
       "state           0.0 %\n",
       "postal_code     0.0 %\n",
       "latitude        0.0 %\n",
       "longitude       0.0 %\n",
       "stars           0.0 %\n",
       "review_count    0.0 %\n",
       "dtype: object"
      ]
     },
     "execution_count": 9,
     "metadata": {},
     "output_type": "execute_result"
    }
   ],
   "source": [
    "round(dfbusinessYelp.isnull().sum() / dfbusinessYelp.shape[0] * 100, 2).astype(str) + ' %'"
   ]
  },
  {
   "cell_type": "markdown",
   "metadata": {},
   "source": [
    "No null values were found in the dataset"
   ]
  },
  {
   "cell_type": "markdown",
   "metadata": {},
   "source": [
    "**Columns and Rows Normalization**"
   ]
  },
  {
   "cell_type": "code",
   "execution_count": 10,
   "metadata": {},
   "outputs": [],
   "source": [
    "# Convert column 'name' to snake_case format\n",
    "\n",
    "def snake_case(column_name):\n",
    "    return re.sub(r'(?<=[a-z])(?=[A-Z])', '_', column_name).lower()\n",
    "\n",
    "\n",
    "dfbusinessYelp.columns = dfbusinessYelp.columns.map(snake_case)"
   ]
  },
  {
   "cell_type": "code",
   "execution_count": 11,
   "metadata": {},
   "outputs": [],
   "source": [
    "# For the 'city' column we will convert to snake_case\n",
    "\n",
    "dfbusinessYelp['city'] = dfbusinessYelp['city'].str.lower().str.replace(' ', '_')"
   ]
  },
  {
   "cell_type": "code",
   "execution_count": 12,
   "metadata": {},
   "outputs": [],
   "source": [
    "# The acronyms are replaced by the name of the states in the 'state' column\n",
    "\n",
    "estado_mapping = {\n",
    "    'PA': 'pennsylvania',\n",
    "    'FL': 'florida',\n",
    "    'NV': 'nevada',\n",
    "    'LA': 'louisiana',\n",
    "    'AZ': 'arizona',\n",
    "    'IN': 'indiana',\n",
    "    'TN': 'tennessee',\n",
    "    'MO': 'missouri',\n",
    "    'CA': 'california',\n",
    "    'ID': 'idaho',\n",
    "    'NJ': 'new_jersey',\n",
    "    'DE': 'delaware',\n",
    "    'IL': 'illinois',\n",
    "    'AB':'AB'\n",
    "}\n",
    "\n",
    "# Apply the mapping\n",
    "\n",
    "dfbusinessYelp['state'] = dfbusinessYelp['state'].map(estado_mapping)"
   ]
  },
  {
   "cell_type": "code",
   "execution_count": 13,
   "metadata": {},
   "outputs": [],
   "source": [
    "#Reviews with status AB are incorrectly identified, so latitude and longitude will be used to determine the state to which they belong.\n",
    "\n",
    "def obtener_estado(latitud, longitud):\n",
    "    geolocator = Nominatim(user_agent=\"my_geocoder\")\n",
    "    location = geolocator.reverse((latitud, longitud), language=\"en\")\n",
    "\n",
    "    if location is not None:\n",
    "        # La información sobre el estado generalmente se encuentra en el nivel de \"address\" en la respuesta\n",
    "        estado = location.raw.get('address', {}).get('state', None)\n",
    "        return estado\n",
    "    else:\n",
    "        return None\n",
    "sindato=0\n",
    "faltantes=dfbusinessYelp[dfbusinessYelp.state=='AB'][['latitude', 'longitude']].drop_duplicates()\n",
    "for a in range(len(faltantes)):\n",
    "    latitud=faltantes.iloc[a,0]\n",
    "    longitud=faltantes.iloc[a,1]\n",
    "\n",
    "    estado = obtener_estado(latitud, longitud)\n",
    "\n",
    "    if estado:\n",
    "        dfbusinessYelp.loc[(dfbusinessYelp.latitude==latitud)&(dfbusinessYelp.longitude==longitud),'state']=estado\n",
    "    else:\n",
    "        sindato+=1\n",
    "        continue"
   ]
  },
  {
   "cell_type": "code",
   "execution_count": 14,
   "metadata": {},
   "outputs": [],
   "source": [
    "# The 'source' column is added as an identifier.\n",
    "# Y = Data that comes from the yelp dataset\n",
    "\n",
    "dfbusinessYelp['source']='Y'"
   ]
  },
  {
   "cell_type": "markdown",
   "metadata": {},
   "source": [
    "## 4. Final Structure"
   ]
  },
  {
   "cell_type": "code",
   "execution_count": 15,
   "metadata": {},
   "outputs": [
    {
     "data": {
      "text/html": [
       "<div>\n",
       "<style scoped>\n",
       "    .dataframe tbody tr th:only-of-type {\n",
       "        vertical-align: middle;\n",
       "    }\n",
       "\n",
       "    .dataframe tbody tr th {\n",
       "        vertical-align: top;\n",
       "    }\n",
       "\n",
       "    .dataframe thead th {\n",
       "        text-align: right;\n",
       "    }\n",
       "</style>\n",
       "<table border=\"1\" class=\"dataframe\">\n",
       "  <thead>\n",
       "    <tr style=\"text-align: right;\">\n",
       "      <th></th>\n",
       "      <th>business_id</th>\n",
       "      <th>city</th>\n",
       "      <th>state</th>\n",
       "      <th>postal_code</th>\n",
       "      <th>latitude</th>\n",
       "      <th>longitude</th>\n",
       "      <th>stars</th>\n",
       "      <th>review_count</th>\n",
       "      <th>source</th>\n",
       "    </tr>\n",
       "  </thead>\n",
       "  <tbody>\n",
       "    <tr>\n",
       "      <th>883</th>\n",
       "      <td>4uqRhXZTOzKF2ZhxbWzxfA</td>\n",
       "      <td>newark</td>\n",
       "      <td>pennsylvania</td>\n",
       "      <td>19702</td>\n",
       "      <td>39.672058</td>\n",
       "      <td>-75.6489</td>\n",
       "      <td>3.5</td>\n",
       "      <td>11</td>\n",
       "      <td>Y</td>\n",
       "    </tr>\n",
       "    <tr>\n",
       "      <th>1063</th>\n",
       "      <td>fWMPbickerGWohPy2vDL5A</td>\n",
       "      <td>plainfield</td>\n",
       "      <td>arizona</td>\n",
       "      <td>46168</td>\n",
       "      <td>39.713441</td>\n",
       "      <td>-86.357947</td>\n",
       "      <td>3.0</td>\n",
       "      <td>14</td>\n",
       "      <td>Y</td>\n",
       "    </tr>\n",
       "    <tr>\n",
       "      <th>5488</th>\n",
       "      <td>DJZQCN0NUej_EtviN4rUlg</td>\n",
       "      <td>philadelphia</td>\n",
       "      <td>pennsylvania</td>\n",
       "      <td>19131</td>\n",
       "      <td>39.978981</td>\n",
       "      <td>-75.27146</td>\n",
       "      <td>3.5</td>\n",
       "      <td>12</td>\n",
       "      <td>Y</td>\n",
       "    </tr>\n",
       "    <tr>\n",
       "      <th>13384</th>\n",
       "      <td>Vxqa8u_5RD5e7oBqdaU0yQ</td>\n",
       "      <td>fairview_heights</td>\n",
       "      <td>Illinois</td>\n",
       "      <td>62208</td>\n",
       "      <td>38.596645</td>\n",
       "      <td>-89.987348</td>\n",
       "      <td>3.5</td>\n",
       "      <td>13</td>\n",
       "      <td>Y</td>\n",
       "    </tr>\n",
       "    <tr>\n",
       "      <th>13760</th>\n",
       "      <td>idP674ti6a8yg8z2xFcCgA</td>\n",
       "      <td>newtown_square</td>\n",
       "      <td>arizona</td>\n",
       "      <td>19073</td>\n",
       "      <td>39.987189</td>\n",
       "      <td>-75.403201</td>\n",
       "      <td>2.5</td>\n",
       "      <td>24</td>\n",
       "      <td>Y</td>\n",
       "    </tr>\n",
       "  </tbody>\n",
       "</table>\n",
       "</div>"
      ],
      "text/plain": [
       "                  business_id              city         state postal_code  \\\n",
       "883    4uqRhXZTOzKF2ZhxbWzxfA            newark  pennsylvania       19702   \n",
       "1063   fWMPbickerGWohPy2vDL5A        plainfield       arizona       46168   \n",
       "5488   DJZQCN0NUej_EtviN4rUlg      philadelphia  pennsylvania       19131   \n",
       "13384  Vxqa8u_5RD5e7oBqdaU0yQ  fairview_heights      Illinois       62208   \n",
       "13760  idP674ti6a8yg8z2xFcCgA    newtown_square       arizona       19073   \n",
       "\n",
       "        latitude  longitude stars review_count source  \n",
       "883    39.672058   -75.6489   3.5           11      Y  \n",
       "1063   39.713441 -86.357947   3.0           14      Y  \n",
       "5488   39.978981  -75.27146   3.5           12      Y  \n",
       "13384  38.596645 -89.987348   3.5           13      Y  \n",
       "13760  39.987189 -75.403201   2.5           24      Y  "
      ]
     },
     "execution_count": 15,
     "metadata": {},
     "output_type": "execute_result"
    }
   ],
   "source": [
    "dfbusinessYelp.head()"
   ]
  }
 ],
 "metadata": {
  "kernelspec": {
   "display_name": "Python 3 (ipykernel)",
   "language": "python",
   "name": "python3"
  },
  "language_info": {
   "codemirror_mode": {
    "name": "ipython",
    "version": 3
   },
   "file_extension": ".py",
   "mimetype": "text/x-python",
   "name": "python",
   "nbconvert_exporter": "python",
   "pygments_lexer": "ipython3",
   "version": "3.10.9"
  }
 },
 "nbformat": 4,
 "nbformat_minor": 4
}
