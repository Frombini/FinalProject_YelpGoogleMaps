{
 "cells": [
  {
   "cell_type": "code",
   "execution_count": 1,
   "metadata": {},
   "outputs": [],
   "source": [
    "import pandas as pd\n",
    "import pyarrow.parquet as pq\n"
   ]
  },
  {
   "cell_type": "code",
   "execution_count": 2,
   "metadata": {},
   "outputs": [],
   "source": [
    "import pandas as pd\n",
    "import os\n",
    "\n",
    "# Especifica la ruta de la carpeta que contiene los archivos .parquet particionados\n",
    "ruta_carpeta_parquet = '../datasets/parquets/metadatos Google'\n",
    "\n",
    "# Lista para almacenar DataFrames de cada partición\n",
    "dataframes = []\n",
    "\n",
    "# Itera sobre los archivos .parquet en la carpeta\n",
    "for root, dirs, files in os.walk(ruta_carpeta_parquet):\n",
    "    for file in files:\n",
    "        if file.endswith('.parquet'):\n",
    "            # Construye la ruta completa del archivo\n",
    "            ruta_completa = os.path.join(root, file)\n",
    "            \n",
    "            # Lee el archivo .parquet y agrega el DataFrame a la lista\n",
    "            df_particion = pd.read_parquet(ruta_completa)\n",
    "            dataframes.append(df_particion)\n",
    "\n",
    "# Concatena todos los DataFrames en uno solo\n",
    "df_google = pd.concat(dataframes, ignore_index=True)"
   ]
  },
  {
   "cell_type": "code",
   "execution_count": 3,
   "metadata": {},
   "outputs": [],
   "source": [
    "# Explode the \"categories\" column\n",
    "df_explode = df_google.explode('category')\n",
    "\n",
    "# Reset the index if needed\n",
    "df_explode.reset_index(drop=True, inplace=True)"
   ]
  },
  {
   "cell_type": "code",
   "execution_count": 4,
   "metadata": {},
   "outputs": [],
   "source": [
    "categorias = pd.read_csv(\"..\\datasets\\parquets\\Categorias-Google.csv\")"
   ]
  },
  {
   "cell_type": "code",
   "execution_count": 6,
   "metadata": {},
   "outputs": [],
   "source": [
    "# Extract unique values from the \"category\" column in categorias DataFrame\n",
    "valid_categories = categorias['category']\n",
    "\n",
    "# Filter df_google based on valid categories\n",
    "#df_google = df_google[df_google['category'].isin(valid_categories)]\n",
    "df_explode = df_explode[df_explode['category'].isin(valid_categories)] \n",
    "df_google=  df_google[df_google['gmap_id'].isin(df_explode['gmap_id'].unique())]  \n",
    "# Reset the index if needed\n",
    "df_google.reset_index(drop=True, inplace=True)\n",
    "\n"
   ]
  },
  {
   "cell_type": "code",
   "execution_count": 7,
   "metadata": {},
   "outputs": [
    {
     "data": {
      "text/html": [
       "<div>\n",
       "<style scoped>\n",
       "    .dataframe tbody tr th:only-of-type {\n",
       "        vertical-align: middle;\n",
       "    }\n",
       "\n",
       "    .dataframe tbody tr th {\n",
       "        vertical-align: top;\n",
       "    }\n",
       "\n",
       "    .dataframe thead th {\n",
       "        text-align: right;\n",
       "    }\n",
       "</style>\n",
       "<table border=\"1\" class=\"dataframe\">\n",
       "  <thead>\n",
       "    <tr style=\"text-align: right;\">\n",
       "      <th></th>\n",
       "      <th>name</th>\n",
       "      <th>address</th>\n",
       "      <th>gmap_id</th>\n",
       "      <th>description</th>\n",
       "      <th>latitude</th>\n",
       "      <th>longitude</th>\n",
       "      <th>category</th>\n",
       "      <th>avg_rating</th>\n",
       "      <th>num_of_reviews</th>\n",
       "      <th>price</th>\n",
       "      <th>hours</th>\n",
       "      <th>MISC</th>\n",
       "      <th>state</th>\n",
       "      <th>relative_results</th>\n",
       "      <th>url</th>\n",
       "      <th>State</th>\n",
       "    </tr>\n",
       "  </thead>\n",
       "  <tbody>\n",
       "    <tr>\n",
       "      <th>0</th>\n",
       "      <td>Polished Nail Salon &amp; Spa</td>\n",
       "      <td>Polished Nail Salon &amp; Spa, 1330 Hickman Rd, Wa...</td>\n",
       "      <td>0x87ec238afdd8837b:0x2f43f2b12142bff5</td>\n",
       "      <td>None</td>\n",
       "      <td>41.614198</td>\n",
       "      <td>-93.847269</td>\n",
       "      <td>[Nail salon, Waxing hair removal service]</td>\n",
       "      <td>4.0</td>\n",
       "      <td>86</td>\n",
       "      <td>None</td>\n",
       "      <td>[[Thursday, 9AM–8PM], [Friday, 9AM–8PM], [Satu...</td>\n",
       "      <td>{'Accessibility': ['Wheelchair accessible entr...</td>\n",
       "      <td>Open ⋅ Closes 8PM</td>\n",
       "      <td>[0x87ec2481df68e107:0x2978d64e14ca8313, 0x87ec...</td>\n",
       "      <td>https://www.google.com/maps/place//data=!4m2!3...</td>\n",
       "      <td>IA</td>\n",
       "    </tr>\n",
       "    <tr>\n",
       "      <th>1</th>\n",
       "      <td>Lena’s Beauty Nails Lashes Brows</td>\n",
       "      <td>Lena’s Beauty Nails Lashes Brows, 657 NE Ventu...</td>\n",
       "      <td>0x87ec2481df6626b5:0xff5627745308ec2b</td>\n",
       "      <td>None</td>\n",
       "      <td>41.616310</td>\n",
       "      <td>-93.858345</td>\n",
       "      <td>[Beauty salon]</td>\n",
       "      <td>4.2</td>\n",
       "      <td>128</td>\n",
       "      <td>None</td>\n",
       "      <td>[[Thursday, 9AM–7PM], [Friday, 9AM–7PM], [Satu...</td>\n",
       "      <td>{'Accessibility': ['Wheelchair accessible entr...</td>\n",
       "      <td>Open ⋅ Closes 7PM</td>\n",
       "      <td>[0x87ec20ce836cac57:0x83bd66577e9a7a32, 0x87ee...</td>\n",
       "      <td>https://www.google.com/maps/place//data=!4m2!3...</td>\n",
       "      <td>IA</td>\n",
       "    </tr>\n",
       "    <tr>\n",
       "      <th>2</th>\n",
       "      <td>Angel-A Massage</td>\n",
       "      <td>Angel-A Massage, 5329 Dewey Dr, Fair Oaks, CA ...</td>\n",
       "      <td>0x809adef58ae560bd:0x83412889e022ff70</td>\n",
       "      <td>None</td>\n",
       "      <td>38.662630</td>\n",
       "      <td>-121.308639</td>\n",
       "      <td>[Massage spa, Chiropractor, Massage, Massage t...</td>\n",
       "      <td>4.3</td>\n",
       "      <td>6</td>\n",
       "      <td>None</td>\n",
       "      <td>[[Thursday, 9:30AM–9:30PM], [Friday, 9:30AM–9:...</td>\n",
       "      <td>None</td>\n",
       "      <td>Open ⋅ Closes 9:30PM</td>\n",
       "      <td>[0x809adee9ac6f1bd7:0xe2e56d16919b9b8d, 0x809a...</td>\n",
       "      <td>https://www.google.com/maps/place//data=!4m2!3...</td>\n",
       "      <td>CA</td>\n",
       "    </tr>\n",
       "    <tr>\n",
       "      <th>3</th>\n",
       "      <td>Elite Massage</td>\n",
       "      <td>Elite Massage, 8121 Madison Ave, Fair Oaks, CA...</td>\n",
       "      <td>0x809ae0a7ce91433b:0xe4b44fbb8c35ba57</td>\n",
       "      <td>None</td>\n",
       "      <td>38.664915</td>\n",
       "      <td>-121.260192</td>\n",
       "      <td>[Massage therapist]</td>\n",
       "      <td>5.0</td>\n",
       "      <td>1</td>\n",
       "      <td>None</td>\n",
       "      <td>None</td>\n",
       "      <td>None</td>\n",
       "      <td>None</td>\n",
       "      <td>[0x809ade27605defc1:0xdedc5626a281fd93, 0x809a...</td>\n",
       "      <td>https://www.google.com/maps/place//data=!4m2!3...</td>\n",
       "      <td>CA</td>\n",
       "    </tr>\n",
       "    <tr>\n",
       "      <th>4</th>\n",
       "      <td>Happy Spa &amp; Massage (Formerly Hawaii Massage &amp;...</td>\n",
       "      <td>Happy Spa &amp; Massage (Formerly Hawaii Massage &amp;...</td>\n",
       "      <td>0x809b217a6cbe4fa9:0x9fd06999c64c1815</td>\n",
       "      <td>None</td>\n",
       "      <td>38.785548</td>\n",
       "      <td>-121.286886</td>\n",
       "      <td>[Massage therapist, Massage spa, Spa]</td>\n",
       "      <td>2.7</td>\n",
       "      <td>8</td>\n",
       "      <td>None</td>\n",
       "      <td>[[Thursday, 9:30AM–10PM], [Friday, 9:30AM–10PM...</td>\n",
       "      <td>{'Accessibility': ['Wheelchair accessible entr...</td>\n",
       "      <td>Open ⋅ Closes 10PM</td>\n",
       "      <td>[0x809b20410d8df0fb:0x60610399a7ec1ba6, 0x809b...</td>\n",
       "      <td>https://www.google.com/maps/place//data=!4m2!3...</td>\n",
       "      <td>CA</td>\n",
       "    </tr>\n",
       "  </tbody>\n",
       "</table>\n",
       "</div>"
      ],
      "text/plain": [
       "                                                name  \\\n",
       "0                          Polished Nail Salon & Spa   \n",
       "1                   Lena’s Beauty Nails Lashes Brows   \n",
       "2                                    Angel-A Massage   \n",
       "3                                      Elite Massage   \n",
       "4  Happy Spa & Massage (Formerly Hawaii Massage &...   \n",
       "\n",
       "                                             address  \\\n",
       "0  Polished Nail Salon & Spa, 1330 Hickman Rd, Wa...   \n",
       "1  Lena’s Beauty Nails Lashes Brows, 657 NE Ventu...   \n",
       "2  Angel-A Massage, 5329 Dewey Dr, Fair Oaks, CA ...   \n",
       "3  Elite Massage, 8121 Madison Ave, Fair Oaks, CA...   \n",
       "4  Happy Spa & Massage (Formerly Hawaii Massage &...   \n",
       "\n",
       "                                 gmap_id description   latitude   longitude  \\\n",
       "0  0x87ec238afdd8837b:0x2f43f2b12142bff5        None  41.614198  -93.847269   \n",
       "1  0x87ec2481df6626b5:0xff5627745308ec2b        None  41.616310  -93.858345   \n",
       "2  0x809adef58ae560bd:0x83412889e022ff70        None  38.662630 -121.308639   \n",
       "3  0x809ae0a7ce91433b:0xe4b44fbb8c35ba57        None  38.664915 -121.260192   \n",
       "4  0x809b217a6cbe4fa9:0x9fd06999c64c1815        None  38.785548 -121.286886   \n",
       "\n",
       "                                            category  avg_rating  \\\n",
       "0          [Nail salon, Waxing hair removal service]         4.0   \n",
       "1                                     [Beauty salon]         4.2   \n",
       "2  [Massage spa, Chiropractor, Massage, Massage t...         4.3   \n",
       "3                                [Massage therapist]         5.0   \n",
       "4              [Massage therapist, Massage spa, Spa]         2.7   \n",
       "\n",
       "   num_of_reviews price                                              hours  \\\n",
       "0              86  None  [[Thursday, 9AM–8PM], [Friday, 9AM–8PM], [Satu...   \n",
       "1             128  None  [[Thursday, 9AM–7PM], [Friday, 9AM–7PM], [Satu...   \n",
       "2               6  None  [[Thursday, 9:30AM–9:30PM], [Friday, 9:30AM–9:...   \n",
       "3               1  None                                               None   \n",
       "4               8  None  [[Thursday, 9:30AM–10PM], [Friday, 9:30AM–10PM...   \n",
       "\n",
       "                                                MISC                 state  \\\n",
       "0  {'Accessibility': ['Wheelchair accessible entr...     Open ⋅ Closes 8PM   \n",
       "1  {'Accessibility': ['Wheelchair accessible entr...     Open ⋅ Closes 7PM   \n",
       "2                                               None  Open ⋅ Closes 9:30PM   \n",
       "3                                               None                  None   \n",
       "4  {'Accessibility': ['Wheelchair accessible entr...    Open ⋅ Closes 10PM   \n",
       "\n",
       "                                    relative_results  \\\n",
       "0  [0x87ec2481df68e107:0x2978d64e14ca8313, 0x87ec...   \n",
       "1  [0x87ec20ce836cac57:0x83bd66577e9a7a32, 0x87ee...   \n",
       "2  [0x809adee9ac6f1bd7:0xe2e56d16919b9b8d, 0x809a...   \n",
       "3  [0x809ade27605defc1:0xdedc5626a281fd93, 0x809a...   \n",
       "4  [0x809b20410d8df0fb:0x60610399a7ec1ba6, 0x809b...   \n",
       "\n",
       "                                                 url State  \n",
       "0  https://www.google.com/maps/place//data=!4m2!3...    IA  \n",
       "1  https://www.google.com/maps/place//data=!4m2!3...    IA  \n",
       "2  https://www.google.com/maps/place//data=!4m2!3...    CA  \n",
       "3  https://www.google.com/maps/place//data=!4m2!3...    CA  \n",
       "4  https://www.google.com/maps/place//data=!4m2!3...    CA  "
      ]
     },
     "execution_count": 7,
     "metadata": {},
     "output_type": "execute_result"
    }
   ],
   "source": [
    "df_google.head()"
   ]
  },
  {
   "cell_type": "code",
   "execution_count": 8,
   "metadata": {},
   "outputs": [
    {
     "data": {
      "text/plain": [
       "(210781, 16)"
      ]
     },
     "execution_count": 8,
     "metadata": {},
     "output_type": "execute_result"
    }
   ],
   "source": [
    "df_google.shape"
   ]
  },
  {
   "cell_type": "code",
   "execution_count": 16,
   "metadata": {},
   "outputs": [
    {
     "data": {
      "text/plain": [
       "name                 0.000000\n",
       "address              0.823129\n",
       "gmap_id              0.000000\n",
       "description         92.312400\n",
       "latitude             0.000000\n",
       "longitude            0.000000\n",
       "category             0.000000\n",
       "avg_rating           0.000000\n",
       "num_of_reviews       0.000000\n",
       "price               95.368178\n",
       "hours               13.448556\n",
       "MISC                14.543057\n",
       "state               12.804759\n",
       "relative_results     6.071230\n",
       "url                  0.000000\n",
       "State                0.307903\n",
       "dtype: float64"
      ]
     },
     "execution_count": 16,
     "metadata": {},
     "output_type": "execute_result"
    }
   ],
   "source": [
    "df_google.isnull().sum()/df_google.shape[0]*100"
   ]
  },
  {
   "cell_type": "code",
   "execution_count": null,
   "metadata": {},
   "outputs": [],
   "source": []
  },
  {
   "cell_type": "markdown",
   "metadata": {},
   "source": [
    "Debido a la cantidad de nulos las columnas description y price serán eliminadas"
   ]
  },
  {
   "cell_type": "code",
   "execution_count": 23,
   "metadata": {},
   "outputs": [
    {
     "name": "stdout",
     "output_type": "stream",
     "text": [
      "Columnas no hashables: ['name', 'address', 'gmap_id', 'description', 'latitude', 'longitude', 'category', 'avg_rating', 'num_of_reviews', 'price', 'hours', 'MISC', 'state', 'relative_results', 'url', 'State']\n"
     ]
    }
   ],
   "source": [
    "# Iterar sobre las columnas y verificar si son hashables\n",
    "non_hashable_columns = []\n",
    "\n",
    "for col in df_google.columns:\n",
    "    try:\n",
    "        hash(df_google[col])\n",
    "    except TypeError:\n",
    "        non_hashable_columns.append(col)\n",
    "\n",
    "# Imprimir las columnas no hashables\n",
    "print(\"Columnas no hashables:\", non_hashable_columns)"
   ]
  },
  {
   "cell_type": "code",
   "execution_count": 56,
   "metadata": {},
   "outputs": [],
   "source": [
    "df_simplificado=df_google[['name','gmap_id','State',\"num_of_reviews\"]]"
   ]
  },
  {
   "cell_type": "code",
   "execution_count": 57,
   "metadata": {},
   "outputs": [
    {
     "name": "stderr",
     "output_type": "stream",
     "text": [
      "C:\\Users\\Grethel\\AppData\\Local\\Temp\\ipykernel_19392\\3924905242.py:1: SettingWithCopyWarning: \n",
      "A value is trying to be set on a copy of a slice from a DataFrame\n",
      "\n",
      "See the caveats in the documentation: https://pandas.pydata.org/pandas-docs/stable/user_guide/indexing.html#returning-a-view-versus-a-copy\n",
      "  df_simplificado.drop_duplicates(inplace=True)\n"
     ]
    }
   ],
   "source": [
    "df_simplificado.drop_duplicates(inplace=True)"
   ]
  },
  {
   "cell_type": "code",
   "execution_count": 60,
   "metadata": {},
   "outputs": [
    {
     "data": {
      "text/html": [
       "<div>\n",
       "<style scoped>\n",
       "    .dataframe tbody tr th:only-of-type {\n",
       "        vertical-align: middle;\n",
       "    }\n",
       "\n",
       "    .dataframe tbody tr th {\n",
       "        vertical-align: top;\n",
       "    }\n",
       "\n",
       "    .dataframe thead th {\n",
       "        text-align: right;\n",
       "    }\n",
       "</style>\n",
       "<table border=\"1\" class=\"dataframe\">\n",
       "  <thead>\n",
       "    <tr style=\"text-align: right;\">\n",
       "      <th></th>\n",
       "      <th>name</th>\n",
       "      <th>gmap_id</th>\n",
       "      <th>State</th>\n",
       "      <th>num_of_reviews</th>\n",
       "    </tr>\n",
       "  </thead>\n",
       "  <tbody>\n",
       "    <tr>\n",
       "      <th>0</th>\n",
       "      <td>Polished Nail Salon &amp; Spa</td>\n",
       "      <td>0x87ec238afdd8837b:0x2f43f2b12142bff5</td>\n",
       "      <td>IA</td>\n",
       "      <td>86</td>\n",
       "    </tr>\n",
       "    <tr>\n",
       "      <th>1</th>\n",
       "      <td>Lena’s Beauty Nails Lashes Brows</td>\n",
       "      <td>0x87ec2481df6626b5:0xff5627745308ec2b</td>\n",
       "      <td>IA</td>\n",
       "      <td>128</td>\n",
       "    </tr>\n",
       "    <tr>\n",
       "      <th>2</th>\n",
       "      <td>Angel-A Massage</td>\n",
       "      <td>0x809adef58ae560bd:0x83412889e022ff70</td>\n",
       "      <td>CA</td>\n",
       "      <td>6</td>\n",
       "    </tr>\n",
       "    <tr>\n",
       "      <th>3</th>\n",
       "      <td>Elite Massage</td>\n",
       "      <td>0x809ae0a7ce91433b:0xe4b44fbb8c35ba57</td>\n",
       "      <td>CA</td>\n",
       "      <td>1</td>\n",
       "    </tr>\n",
       "    <tr>\n",
       "      <th>4</th>\n",
       "      <td>Happy Spa &amp; Massage (Formerly Hawaii Massage &amp;...</td>\n",
       "      <td>0x809b217a6cbe4fa9:0x9fd06999c64c1815</td>\n",
       "      <td>CA</td>\n",
       "      <td>8</td>\n",
       "    </tr>\n",
       "    <tr>\n",
       "      <th>...</th>\n",
       "      <td>...</td>\n",
       "      <td>...</td>\n",
       "      <td>...</td>\n",
       "      <td>...</td>\n",
       "    </tr>\n",
       "    <tr>\n",
       "      <th>210776</th>\n",
       "      <td>Nails 7</td>\n",
       "      <td>0x8649c77ea5deee03:0x5bd1ca06d2f0c1ac</td>\n",
       "      <td>TX</td>\n",
       "      <td>108</td>\n",
       "    </tr>\n",
       "    <tr>\n",
       "      <th>210777</th>\n",
       "      <td>Scarlett O Haira's</td>\n",
       "      <td>0x88d929ef98b5ff25:0xa550550941e533f4</td>\n",
       "      <td>FL</td>\n",
       "      <td>18</td>\n",
       "    </tr>\n",
       "    <tr>\n",
       "      <th>210778</th>\n",
       "      <td>Townzen Barber Shop</td>\n",
       "      <td>0x87c91705fa79bec5:0x7a5d0c631376c543</td>\n",
       "      <td>AR</td>\n",
       "      <td>28</td>\n",
       "    </tr>\n",
       "    <tr>\n",
       "      <th>210779</th>\n",
       "      <td>K. Renee Salon, Spas and Studios</td>\n",
       "      <td>0x8640c11d40bcda95:0x4771f905231fae90</td>\n",
       "      <td>TX</td>\n",
       "      <td>18</td>\n",
       "    </tr>\n",
       "    <tr>\n",
       "      <th>210780</th>\n",
       "      <td>Profiles Hair Design</td>\n",
       "      <td>0x8758dd1e2533c991:0x5f6d112918f07dba</td>\n",
       "      <td>WY</td>\n",
       "      <td>76</td>\n",
       "    </tr>\n",
       "  </tbody>\n",
       "</table>\n",
       "<p>209027 rows × 4 columns</p>\n",
       "</div>"
      ],
      "text/plain": [
       "                                                     name  \\\n",
       "0                               Polished Nail Salon & Spa   \n",
       "1                        Lena’s Beauty Nails Lashes Brows   \n",
       "2                                         Angel-A Massage   \n",
       "3                                           Elite Massage   \n",
       "4       Happy Spa & Massage (Formerly Hawaii Massage &...   \n",
       "...                                                   ...   \n",
       "210776                                            Nails 7   \n",
       "210777                                 Scarlett O Haira's   \n",
       "210778                                Townzen Barber Shop   \n",
       "210779                   K. Renee Salon, Spas and Studios   \n",
       "210780                               Profiles Hair Design   \n",
       "\n",
       "                                      gmap_id State  num_of_reviews  \n",
       "0       0x87ec238afdd8837b:0x2f43f2b12142bff5    IA              86  \n",
       "1       0x87ec2481df6626b5:0xff5627745308ec2b    IA             128  \n",
       "2       0x809adef58ae560bd:0x83412889e022ff70    CA               6  \n",
       "3       0x809ae0a7ce91433b:0xe4b44fbb8c35ba57    CA               1  \n",
       "4       0x809b217a6cbe4fa9:0x9fd06999c64c1815    CA               8  \n",
       "...                                       ...   ...             ...  \n",
       "210776  0x8649c77ea5deee03:0x5bd1ca06d2f0c1ac    TX             108  \n",
       "210777  0x88d929ef98b5ff25:0xa550550941e533f4    FL              18  \n",
       "210778  0x87c91705fa79bec5:0x7a5d0c631376c543    AR              28  \n",
       "210779  0x8640c11d40bcda95:0x4771f905231fae90    TX              18  \n",
       "210780  0x8758dd1e2533c991:0x5f6d112918f07dba    WY              76  \n",
       "\n",
       "[209027 rows x 4 columns]"
      ]
     },
     "execution_count": 60,
     "metadata": {},
     "output_type": "execute_result"
    }
   ],
   "source": [
    "# Mostrar el DataFrame resultante\n",
    "df_simplificado\n"
   ]
  },
  {
   "cell_type": "code",
   "execution_count": 62,
   "metadata": {},
   "outputs": [],
   "source": [
    "df_simplificado = df_simplificado.groupby(['name', 'gmap_id'])['num_of_reviews'].sum().reset_index()"
   ]
  },
  {
   "cell_type": "code",
   "execution_count": 49,
   "metadata": {},
   "outputs": [],
   "source": [
    "df_simplificado.sort_values(by='num_of_reviews',ascending=False).head(100).to_csv(r'..\\datasets\\csv\\top_100_reviews_google.csv',index=False)"
   ]
  }
 ],
 "metadata": {
  "kernelspec": {
   "display_name": "Python 3",
   "language": "python",
   "name": "python3"
  },
  "language_info": {
   "codemirror_mode": {
    "name": "ipython",
    "version": 3
   },
   "file_extension": ".py",
   "mimetype": "text/x-python",
   "name": "python",
   "nbconvert_exporter": "python",
   "pygments_lexer": "ipython3",
   "version": "3.11.7"
  }
 },
 "nbformat": 4,
 "nbformat_minor": 2
}
