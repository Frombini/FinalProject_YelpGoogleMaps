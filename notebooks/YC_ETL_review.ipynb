{
 "cells": [
  {
   "cell_type": "markdown",
   "metadata": {},
   "source": [
    "# ETL Yelp Reviews (Extract, Load, Transform)"
   ]
  },
  {
   "cell_type": "markdown",
   "metadata": {},
   "source": [
    "Welcome to this notebook dedicated to Yelp reviews analysis. In this project, we will delve into a comprehensive analysis of user-provided opinions on the Yelp platform, exploring valuable insights related to **Ulta Beauty**.\n",
    "\n",
    "Yelp, as a leading business review platform, provides us with a significant data source that will enable us to understand user preferences, highlight relevant aspects, and contribute to informed decision-making.\n",
    "\n",
    "Throughout this notebook, we will guide the Extract, Transform, Load (ETL) process to prepare the data. Subsequently, we will employ various sentiment analysis and visualization techniques to extract meaningful insights."
   ]
  },
  {
   "cell_type": "markdown",
   "metadata": {
    "tags": []
   },
   "source": [
    "### Requirements"
   ]
  },
  {
   "cell_type": "markdown",
   "metadata": {},
   "source": [
    "⚠️ **Ensure you have the following libraries installed before running the code**\n",
    "\n",
    "- json\n",
    "- pandas\n",
    "- polars\n",
    "- re\n",
    "\n",
    "You can install these libraries by opening a terminal or command line window and running the following command:\n",
    "\n",
    "*`pip install json pandas polars`*"
   ]
  },
  {
   "cell_type": "markdown",
   "metadata": {},
   "source": [
    "# 1. Import Libraries"
   ]
  },
  {
   "cell_type": "code",
   "execution_count": 22,
   "metadata": {},
   "outputs": [],
   "source": [
    "import json\n",
    "import pandas as pd\n",
    "import polars as pl\n",
    "import re"
   ]
  },
  {
   "cell_type": "markdown",
   "metadata": {},
   "source": [
    "## 2. Connect and Upload Data"
   ]
  },
  {
   "cell_type": "code",
   "execution_count": 2,
   "metadata": {},
   "outputs": [],
   "source": [
    "dfreviewsYelp=pl.read_ndjson(r\"D:\\Datasets_proyecto\\review.json\").to_pandas()"
   ]
  },
  {
   "cell_type": "code",
   "execution_count": 3,
   "metadata": {},
   "outputs": [],
   "source": [
    "# We read the dfbusinessyelp dataset because the name is not included\n",
    "\n",
    "dfbusinessYelp=pd.read_csv(r'D:\\Datasets_proyecto\\dfbusinessYelp.csv')"
   ]
  },
  {
   "cell_type": "markdown",
   "metadata": {},
   "source": [
    "## 3. Explore and Clean Data"
   ]
  },
  {
   "cell_type": "code",
   "execution_count": 4,
   "metadata": {},
   "outputs": [],
   "source": [
    "business_ids = dfbusinessYelp['business_id'].unique()\n",
    "\n",
    "# Filter dfreviewsYelp\n",
    "\n",
    "dfreviewsYelp= dfreviewsYelp[dfreviewsYelp['business_id'].isin(business_ids)]"
   ]
  },
  {
   "cell_type": "code",
   "execution_count": 14,
   "metadata": {},
   "outputs": [],
   "source": [
    "# From the 'date' column, we extracted the month, year, and hour. \n",
    "\n",
    "dfreviewsYelp['date'] = pd.to_datetime(dfreviewsYelp['date'], format='%Y-%m-%d %H:%M:%S')\n",
    "\n",
    "dfreviewsYelp['month'] = dfreviewsYelp['date'].dt.month\n",
    "dfreviewsYelp['year'] = dfreviewsYelp['date'].dt.year\n",
    "dfreviewsYelp['hour'] = dfreviewsYelp['date'].dt.time"
   ]
  },
  {
   "cell_type": "code",
   "execution_count": 16,
   "metadata": {
    "tags": []
   },
   "outputs": [],
   "source": [
    "# The data set is filtered by year.\n",
    "# In the scope of the project it was defined to take from 2019 to 2021 from the source provided by Henry\n",
    "\n",
    "dfreviewsYelp = dfreviewsYelp[(dfreviewsYelp['year'] >= 2019) & (dfreviewsYelp['year'] <= 2021)]"
   ]
  },
  {
   "cell_type": "markdown",
   "metadata": {},
   "source": [
    "**The following columns are eliminated because they are not relevant to the project**"
   ]
  },
  {
   "cell_type": "code",
   "execution_count": null,
   "metadata": {},
   "outputs": [],
   "source": [
    "#review_id, useful, funny, cool\n",
    "dfreviewsYelp.drop(columns=['review_id','useful','funny','cool'],inplace=True)\n",
    "\n",
    "#date\n",
    "dfreviewsYelp.drop(columns=['date'],inplace=True)"
   ]
  },
  {
   "cell_type": "markdown",
   "metadata": {},
   "source": [
    "**Handling null and duplicate values**"
   ]
  },
  {
   "cell_type": "code",
   "execution_count": 19,
   "metadata": {},
   "outputs": [
    {
     "data": {
      "text/plain": [
       "user_id        0\n",
       "business_id    0\n",
       "stars          0\n",
       "text           0\n",
       "month          0\n",
       "year           0\n",
       "hour           0\n",
       "dtype: int64"
      ]
     },
     "execution_count": 19,
     "metadata": {},
     "output_type": "execute_result"
    }
   ],
   "source": [
    "dfreviewsYelp.isnull().sum()"
   ]
  },
  {
   "cell_type": "markdown",
   "metadata": {},
   "source": [
    "No null values were found in the dataset"
   ]
  },
  {
   "cell_type": "code",
   "execution_count": 20,
   "metadata": {},
   "outputs": [
    {
     "name": "stdout",
     "output_type": "stream",
     "text": [
      "Se eliminaron 0 filas duplicadas.\n"
     ]
    }
   ],
   "source": [
    "# Get length before removing duplicates\n",
    "longitud_antes = len(dfreviewsYelp)\n",
    "\n",
    "# Remove duplicates and update the DataFrame\n",
    "dfreviewsYelp = dfreviewsYelp.drop_duplicates()\n",
    "\n",
    "# Get length after removing duplicates\n",
    "longitud_despues = len(dfreviewsYelp)\n",
    "\n",
    "# Calculate how many rows were deleted\n",
    "filas_borradas = longitud_antes - longitud_despues\n",
    "\n",
    "# Show the number of rows deleted\n",
    "print(f\"Se eliminaron {filas_borradas} filas duplicadas.\")"
   ]
  },
  {
   "cell_type": "markdown",
   "metadata": {},
   "source": [
    "**Columns and Rows Normalization**"
   ]
  },
  {
   "cell_type": "code",
   "execution_count": 23,
   "metadata": {},
   "outputs": [],
   "source": [
    "#In the text column everything will be converted to lower case and special characters will be removed\n",
    "\n",
    "def limpiar_texto(texto):\n",
    "    texto = texto.lower()\n",
    "    texto = re.sub(r'[^a-z0-9\\s]', '', texto)\n",
    "    return texto\n",
    "\n",
    "dfreviewsYelp['text'] = dfreviewsYelp['text'].apply(limpiar_texto)"
   ]
  },
  {
   "cell_type": "code",
   "execution_count": 25,
   "metadata": {},
   "outputs": [],
   "source": [
    "# The 'source' column is added as an identifier.\n",
    "# Y = Data that comes from the yelp dataset\n",
    "\n",
    "dfreviewsYelp['source']='Y'"
   ]
  },
  {
   "cell_type": "markdown",
   "metadata": {},
   "source": [
    "## 4. Final Structure"
   ]
  },
  {
   "cell_type": "code",
   "execution_count": 26,
   "metadata": {
    "tags": []
   },
   "outputs": [
    {
     "data": {
      "text/html": [
       "<div>\n",
       "<style scoped>\n",
       "    .dataframe tbody tr th:only-of-type {\n",
       "        vertical-align: middle;\n",
       "    }\n",
       "\n",
       "    .dataframe tbody tr th {\n",
       "        vertical-align: top;\n",
       "    }\n",
       "\n",
       "    .dataframe thead th {\n",
       "        text-align: right;\n",
       "    }\n",
       "</style>\n",
       "<table border=\"1\" class=\"dataframe\">\n",
       "  <thead>\n",
       "    <tr style=\"text-align: right;\">\n",
       "      <th></th>\n",
       "      <th>user_id</th>\n",
       "      <th>business_id</th>\n",
       "      <th>stars</th>\n",
       "      <th>text</th>\n",
       "      <th>month</th>\n",
       "      <th>year</th>\n",
       "      <th>hour</th>\n",
       "      <th>source</th>\n",
       "    </tr>\n",
       "  </thead>\n",
       "  <tbody>\n",
       "    <tr>\n",
       "      <th>325357</th>\n",
       "      <td>vGMsqtn5CovrNzJZWfyC1w</td>\n",
       "      <td>idP674ti6a8yg8z2xFcCgA</td>\n",
       "      <td>1.0</td>\n",
       "      <td>third and final trip to this location  visited...</td>\n",
       "      <td>1</td>\n",
       "      <td>2019</td>\n",
       "      <td>03:41:11</td>\n",
       "      <td>Y</td>\n",
       "    </tr>\n",
       "    <tr>\n",
       "      <th>362966</th>\n",
       "      <td>jyc88KFa8QiFTojcTpwwRA</td>\n",
       "      <td>Vsx34Z-N5S5S0o0f2G6ORw</td>\n",
       "      <td>5.0</td>\n",
       "      <td>amina was so helpful and very friendly i found...</td>\n",
       "      <td>5</td>\n",
       "      <td>2019</td>\n",
       "      <td>19:00:13</td>\n",
       "      <td>Y</td>\n",
       "    </tr>\n",
       "    <tr>\n",
       "      <th>366648</th>\n",
       "      <td>ymquu8umi3hXsKnYP0JfbQ</td>\n",
       "      <td>fWMPbickerGWohPy2vDL5A</td>\n",
       "      <td>2.0</td>\n",
       "      <td>i used to like coming here but the last handfu...</td>\n",
       "      <td>10</td>\n",
       "      <td>2019</td>\n",
       "      <td>14:54:36</td>\n",
       "      <td>Y</td>\n",
       "    </tr>\n",
       "    <tr>\n",
       "      <th>384938</th>\n",
       "      <td>jtRjv6VBDHdk81UoKuFOww</td>\n",
       "      <td>DJZQCN0NUej_EtviN4rUlg</td>\n",
       "      <td>1.0</td>\n",
       "      <td>given this store three chances now to treat me...</td>\n",
       "      <td>3</td>\n",
       "      <td>2019</td>\n",
       "      <td>09:20:03</td>\n",
       "      <td>Y</td>\n",
       "    </tr>\n",
       "    <tr>\n",
       "      <th>390171</th>\n",
       "      <td>dA7uBWRP6-NmOqPd1QqPwg</td>\n",
       "      <td>idP674ti6a8yg8z2xFcCgA</td>\n",
       "      <td>1.0</td>\n",
       "      <td>i dont know why i keep going in this store but...</td>\n",
       "      <td>11</td>\n",
       "      <td>2019</td>\n",
       "      <td>12:59:25</td>\n",
       "      <td>Y</td>\n",
       "    </tr>\n",
       "  </tbody>\n",
       "</table>\n",
       "</div>"
      ],
      "text/plain": [
       "                       user_id             business_id  stars  \\\n",
       "325357  vGMsqtn5CovrNzJZWfyC1w  idP674ti6a8yg8z2xFcCgA    1.0   \n",
       "362966  jyc88KFa8QiFTojcTpwwRA  Vsx34Z-N5S5S0o0f2G6ORw    5.0   \n",
       "366648  ymquu8umi3hXsKnYP0JfbQ  fWMPbickerGWohPy2vDL5A    2.0   \n",
       "384938  jtRjv6VBDHdk81UoKuFOww  DJZQCN0NUej_EtviN4rUlg    1.0   \n",
       "390171  dA7uBWRP6-NmOqPd1QqPwg  idP674ti6a8yg8z2xFcCgA    1.0   \n",
       "\n",
       "                                                     text  month  year  \\\n",
       "325357  third and final trip to this location  visited...      1  2019   \n",
       "362966  amina was so helpful and very friendly i found...      5  2019   \n",
       "366648  i used to like coming here but the last handfu...     10  2019   \n",
       "384938  given this store three chances now to treat me...      3  2019   \n",
       "390171  i dont know why i keep going in this store but...     11  2019   \n",
       "\n",
       "            hour source  \n",
       "325357  03:41:11      Y  \n",
       "362966  19:00:13      Y  \n",
       "366648  14:54:36      Y  \n",
       "384938  09:20:03      Y  \n",
       "390171  12:59:25      Y  "
      ]
     },
     "execution_count": 26,
     "metadata": {},
     "output_type": "execute_result"
    }
   ],
   "source": [
    "dfreviewsYelp.head()"
   ]
  }
 ],
 "metadata": {
  "kernelspec": {
   "display_name": "Python 3 (ipykernel)",
   "language": "python",
   "name": "python3"
  },
  "language_info": {
   "codemirror_mode": {
    "name": "ipython",
    "version": 3
   },
   "file_extension": ".py",
   "mimetype": "text/x-python",
   "name": "python",
   "nbconvert_exporter": "python",
   "pygments_lexer": "ipython3",
   "version": "3.10.9"
  }
 },
 "nbformat": 4,
 "nbformat_minor": 4
}
