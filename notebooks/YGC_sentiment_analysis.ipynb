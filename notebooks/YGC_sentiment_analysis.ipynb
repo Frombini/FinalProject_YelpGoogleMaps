{
 "cells": [
  {
   "cell_type": "markdown",
   "metadata": {},
   "source": [
    "# Ulta Beauty Sentiment Analysis\n",
    "\n",
    "This Jupyter Notebook focuses on sentiment analysis for Ulta Beauty reviews. The dataset comprises reviews from both Yelp and Google, and the goal is to assess the sentiment of each review. The sentiment analysis is performed using a pre-trained transformer-based model from the Hugging Face model hub.\n",
    "\n",
    "## Libraries and Tools Used\n",
    "\n",
    "- **Pandas:** Used for efficient data manipulation and handling.\n",
    "- **transformers:** Leveraged for accessing a pre-trained sentiment analysis model.\n",
    "- **torch:** Employed for deep learning operations, particularly in applying the sentiment analysis model.\n",
    "\n",
    "## Workflow Overview\n",
    "\n",
    "1. **Data Loading:** Yelp and Google datasets are loaded and combined.\n",
    "2. **Data Preprocessing:** Unnecessary columns are dropped, and data is cleaned to ensure only valid text reviews are considered.\n",
    "3. **Sentiment Analysis Model:** A pre-trained sentiment analysis model is loaded using the transformers library.\n",
    "4. **Sentiment Analysis Application:** The sentiment analysis model is applied to each review, and sentiment labels are assigned.\n",
    "5. **Results Storage:** The dataset is updated with sentiment labels and saved to a new CSV file.\n",
    "\n",
    "Feel free to explore the code for a detailed understanding of each step in the sentiment analysis process.\n"
   ]
  },
  {
   "cell_type": "code",
   "execution_count": 8,
   "metadata": {},
   "outputs": [],
   "source": [
    "import pandas as pd\n",
    "from transformers import AutoModelForSequenceClassification, AutoTokenizer\n",
    "import torch"
   ]
  },
  {
   "cell_type": "code",
   "execution_count": 9,
   "metadata": {},
   "outputs": [],
   "source": [
    "Y_ulta_beauty = pd.read_csv('..\\datasets\\csv\\Y_ulta_beauty.csv')\n",
    "G_ulta_beauty = pd.read_csv('..\\datasets\\csv\\G_ulta_beauty.csv')\n",
    "G_ulta_beauty.drop(columns=['Unnamed: 0'],inplace=True)"
   ]
  },
  {
   "cell_type": "code",
   "execution_count": 10,
   "metadata": {},
   "outputs": [],
   "source": [
    "ulta_beauty = pd.concat([G_ulta_beauty, Y_ulta_beauty])"
   ]
  },
  {
   "cell_type": "code",
   "execution_count": 16,
   "metadata": {},
   "outputs": [
    {
     "name": "stderr",
     "output_type": "stream",
     "text": [
      "C:\\Users\\Grethel\\AppData\\Local\\Packages\\PythonSoftwareFoundation.Python.3.11_qbz5n2kfra8p0\\LocalCache\\local-packages\\Python311\\site-packages\\transformers\\models\\auto\\auto_factory.py:472: FutureWarning: The `use_auth_token` argument is deprecated and will be removed in v5 of Transformers. Please use `token` instead.\n",
      "  warnings.warn(\n",
      "C:\\Users\\Grethel\\AppData\\Local\\Packages\\PythonSoftwareFoundation.Python.3.11_qbz5n2kfra8p0\\LocalCache\\local-packages\\Python311\\site-packages\\transformers\\models\\auto\\tokenization_auto.py:690: FutureWarning: The `use_auth_token` argument is deprecated and will be removed in v5 of Transformers. Please use `token` instead.\n",
      "  warnings.warn(\n"
     ]
    }
   ],
   "source": [
    "# Drop rows where 'text' is not a valid string\n",
    "ulta_beauty = ulta_beauty.dropna(subset=['text'])\n",
    "ulta_beauty = ulta_beauty[ulta_beauty['text'].apply(lambda x: isinstance(x, str))]\n",
    "\n",
    "# Load the pre-trained model and tokenizer\n",
    "model = AutoModelForSequenceClassification.from_pretrained(\"Kaludi/Reviews-Sentiment-Analysis\", use_auth_token=False)\n",
    "tokenizer = AutoTokenizer.from_pretrained(\"Kaludi/Reviews-Sentiment-Analysis\", use_auth_token=False)\n",
    "\n",
    "# Function to apply the model to each review\n",
    "def analyze_sentiment(review):\n",
    "    inputs = tokenizer(review, return_tensors=\"pt\")\n",
    "    outputs = model(**inputs)\n",
    "    predicted_label = torch.argmax(outputs.logits, dim=1).item()\n",
    "    return predicted_label\n",
    "\n",
    "# Apply the function to the 'text' column of ulta_beauty\n",
    "ulta_beauty['sentiment'] = ulta_beauty['text'].apply(lambda x: analyze_sentiment(x))\n"
   ]
  },
  {
   "cell_type": "code",
   "execution_count": 21,
   "metadata": {},
   "outputs": [],
   "source": [
    "ulta_beauty.to_csv('..\\datasets\\csv\\sentiment_analysis.csv')"
   ]
  }
 ],
 "metadata": {
  "kernelspec": {
   "display_name": "Python 3 (ipykernel)",
   "language": "python",
   "name": "python3"
  },
  "language_info": {
   "codemirror_mode": {
    "name": "ipython",
    "version": 3
   },
   "file_extension": ".py",
   "mimetype": "text/x-python",
   "name": "python",
   "nbconvert_exporter": "python",
   "pygments_lexer": "ipython3",
   "version": "3.10.9"
  }
 },
 "nbformat": 4,
 "nbformat_minor": 4
}
