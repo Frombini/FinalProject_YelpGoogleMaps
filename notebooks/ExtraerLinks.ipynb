{
 "cells": [
  {
   "cell_type": "code",
   "execution_count": 3,
   "metadata": {},
   "outputs": [],
   "source": [
    "import pandas as pd\n",
    "import os"
   ]
  },
  {
   "cell_type": "markdown",
   "metadata": {},
   "source": [
    "# Extraccion de locales\n",
    "\n",
    "<center>\n",
    "\n",
    "## Google\n",
    "</center>\n",
    "\n",
    "### Lectura de datos"
   ]
  },
  {
   "cell_type": "code",
   "execution_count": 3,
   "metadata": {},
   "outputs": [],
   "source": [
    "# Especifica la ruta de la carpeta que contiene los archivos .parquet particionados\n",
    "ruta_carpeta_parquet = '../datasets/parquets/metadatos Google'\n",
    "\n",
    "# Lista para almacenar DataFrames de cada partición\n",
    "dataframes = []\n",
    "\n",
    "# Itera sobre los archivos .parquet en la carpeta\n",
    "for root, dirs, files in os.walk(ruta_carpeta_parquet):\n",
    "    for file in files:\n",
    "        if file.endswith('.parquet'):\n",
    "            # Construye la ruta completa del archivo\n",
    "            ruta_completa = os.path.join(root, file)\n",
    "            \n",
    "            # Lee el archivo .parquet y agrega el DataFrame a la lista\n",
    "            df_particion = pd.read_parquet(ruta_completa)\n",
    "            dataframes.append(df_particion)\n",
    "\n",
    "# Concatena todos los DataFrames en uno solo\n",
    "df_google = pd.concat(dataframes, ignore_index=True)"
   ]
  },
  {
   "cell_type": "markdown",
   "metadata": {},
   "source": [
    "### Extraccion de links"
   ]
  },
  {
   "cell_type": "code",
   "execution_count": 4,
   "metadata": {},
   "outputs": [],
   "source": [
    "# Filtrar por el valor 'ulta beauty' en la columna 'name'\n",
    "df_google = df_google[df_google['name'] == 'Ulta Beauty']\n",
    "# Eliminamos columnas innecesarias\n",
    "df_google = df_google[['url']]\n",
    "# Eliminamos Duplicados\n",
    "df_google.drop_duplicates(inplace=True)\n",
    "# Se exporta \n",
    "df_google.to_csv('../datasets/G_establishments_url.txt', index=False, header=None)"
   ]
  },
  {
   "cell_type": "markdown",
   "metadata": {},
   "source": [
    "<center>\n",
    "\n",
    "## YELP\n",
    "</center>\n",
    "\n",
    "### Lectura de datos"
   ]
  },
  {
   "cell_type": "code",
   "execution_count": null,
   "metadata": {},
   "outputs": [],
   "source": [
    "# Leemos los establecimientos de YELP\n",
    "business_Yelp=pd.read_parquet('../datasets/parquets/business.parquet')\n",
    "# Filtramos por Ulta Beauty\n",
    "business_Yelp=business_Yelp[business_Yelp.name==\"Ulta Beauty\"].business_id"
   ]
  },
  {
   "cell_type": "markdown",
   "metadata": {},
   "source": [
    "### Extraccion de links"
   ]
  },
  {
   "cell_type": "code",
   "execution_count": null,
   "metadata": {},
   "outputs": [],
   "source": [
    "# Transformamos en links\n",
    "business_Yelp='https://www.yelp.com/biz/'+business_Yelp+'?sort_by=date_desc'\n",
    "# Exportamos los links para minar\n",
    "business_Yelp.to_csv('../datasets/Y_establishments_url.txt', index=False, header=None)"
   ]
  }
 ],
 "metadata": {
  "kernelspec": {
   "display_name": "Python 3 (ipykernel)",
   "language": "python",
   "name": "python3"
  },
  "language_info": {
   "codemirror_mode": {
    "name": "ipython",
    "version": 3
   },
   "file_extension": ".py",
   "mimetype": "text/x-python",
   "name": "python",
   "nbconvert_exporter": "python",
   "pygments_lexer": "ipython3",
   "version": "3.10.9"
  }
 },
 "nbformat": 4,
 "nbformat_minor": 4
}
