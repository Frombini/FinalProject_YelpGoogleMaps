{
 "cells": [
  {
   "cell_type": "markdown",
   "metadata": {},
   "source": [
    "Prueba"
   ]
  },
  {
   "cell_type": "code",
   "execution_count": 2,
   "metadata": {},
   "outputs": [],
   "source": [
    "import streamlit as st\n",
    "import pandas as pd\n",
    "from gensim import corpora\n",
    "from gensim.models import LdaModel\n",
    "from gensim.parsing.preprocessing import STOPWORDS\n",
    "from gensim.parsing.porter import PorterStemmer"
   ]
  },
  {
   "cell_type": "code",
   "execution_count": 6,
   "metadata": {},
   "outputs": [],
   "source": [
    "# Cargar el DataFrame\n",
    "df = pd.read_csv(\"..\\datasets\\csv\\sentiment_analysis.csv\")\n",
    "df.drop('Unnamed: 0',axis=1, inplace=True)"
   ]
  },
  {
   "cell_type": "code",
   "execution_count": 4,
   "metadata": {},
   "outputs": [],
   "source": [
    "# Preprocesamiento de texto\n",
    "stopwords = set(STOPWORDS)\n",
    "porter_stemmer = PorterStemmer()\n",
    "\n",
    "def preprocess_text(text):\n",
    "    # Agregar aquí cualquier otro preprocesamiento que desees aplicar\n",
    "    processed_text = [porter_stemmer.stem(word) for word in text.lower().split() if word not in stopwords]\n",
    "    return processed_text"
   ]
  },
  {
   "cell_type": "code",
   "execution_count": 8,
   "metadata": {},
   "outputs": [],
   "source": [
    "#Aplicar preprocesamiento al texto\n",
    "df['processed_text'] = df['text'].apply(preprocess_text)"
   ]
  },
  {
   "cell_type": "code",
   "execution_count": 9,
   "metadata": {},
   "outputs": [],
   "source": [
    "# Crear un diccionario y corpus para el modelo LDA\n",
    "dictionary = corpora.Dictionary(df['processed_text'])\n",
    "corpus = [dictionary.doc2bow(text) for text in df['processed_text']]\n",
    "\n",
    "# Entrenar el modelo LDA\n",
    "lda_model = LdaModel(corpus, num_topics=5, id2word=dictionary)"
   ]
  },
  {
   "cell_type": "code",
   "execution_count": 10,
   "metadata": {},
   "outputs": [
    {
     "name": "stderr",
     "output_type": "stream",
     "text": [
      "2024-01-16 09:57:19.646 \n",
      "  \u001b[33m\u001b[1mWarning:\u001b[0m to view this Streamlit app on a browser, run it with the following\n",
      "  command:\n",
      "\n",
      "    streamlit run C:\\Users\\Grethel\\AppData\\Local\\Packages\\PythonSoftwareFoundation.Python.3.11_qbz5n2kfra8p0\\LocalCache\\local-packages\\Python311\\site-packages\\ipykernel_launcher.py [ARGUMENTS]\n"
     ]
    }
   ],
   "source": [
    "# Crear filtros interactivos en Streamlit\n",
    "st.sidebar.title(\"Filtros\")\n",
    "selected_business_id = st.sidebar.selectbox(\"Seleccionar business_id:\", df['business_id'].unique())\n",
    "selected_stars = st.sidebar.selectbox(\"Seleccionar calificación:\", sorted(df['stars'].unique()))\n",
    "\n"
   ]
  },
  {
   "cell_type": "code",
   "execution_count": null,
   "metadata": {},
   "outputs": [],
   "source": [
    "# Filtrar el DataFrame según los filtros seleccionados\n",
    "filtered_df = df[(df['business_id'] == selected_business_id) & (df['stars'] == selected_stars)]\n",
    "\n",
    "# Mostrar los 5 temas resultantes\n",
    "st.title(\"Top 5 Temas según Filtros\")\n",
    "for index, row in filtered_df.head(5).iterrows():\n",
    "    st.write(f\"**Tema para el comentario #{index + 1}:**\")\n",
    "    st.write(lda_model[dictionary.doc2bow(row['processed_text'])])\n",
    "    st.write(f\"**Texto del comentario:** {row['text']}\")\n",
    "    st.write(\"---\")"
   ]
  },
  {
   "cell_type": "code",
   "execution_count": null,
   "metadata": {},
   "outputs": [],
   "source": []
  }
 ],
 "metadata": {
  "kernelspec": {
   "display_name": "Python 3",
   "language": "python",
   "name": "python3"
  },
  "language_info": {
   "codemirror_mode": {
    "name": "ipython",
    "version": 3
   },
   "file_extension": ".py",
   "mimetype": "text/x-python",
   "name": "python",
   "nbconvert_exporter": "python",
   "pygments_lexer": "ipython3",
   "version": "3.11.7"
  }
 },
 "nbformat": 4,
 "nbformat_minor": 2
}
