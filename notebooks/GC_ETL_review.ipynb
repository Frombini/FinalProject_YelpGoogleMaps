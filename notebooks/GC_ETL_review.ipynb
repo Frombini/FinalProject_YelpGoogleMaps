{
 "cells": [
  {
   "cell_type": "markdown",
   "metadata": {},
   "source": [
    "# ETL Google Reviews (Extract, Load, Transform)"
   ]
  },
  {
   "cell_type": "markdown",
   "metadata": {},
   "source": [
    "Welcome to this notebook focused on the analysis of Google Reviews. In this project, our aim is to conduct a thorough analysis of user-generated opinions on the Google platform, delving into valuable insights associated with various establishments.\n",
    "\n",
    "Google, as a prominent business review platform, serves as a substantial data repository. This data source will empower us to comprehend user preferences, accentuate pertinent aspects, and contribute to well-informed decision-making processes.\n",
    "\n",
    "Throughout this notebook, we will steer through the Extract, Transform, Load (ETL) process to prepare the data effectively. Following that, we will apply diverse sentiment analysis and visualization techniques to derive meaningful insights, shedding light on the nuanced perspectives encapsulated in Google Reviews."
   ]
  },
  {
   "cell_type": "markdown",
   "metadata": {
    "tags": []
   },
   "source": [
    "### Requirements"
   ]
  },
  {
   "cell_type": "markdown",
   "metadata": {},
   "source": [
    "⚠️ **Ensure you have the following libraries installed before running the code**\n",
    "\n",
    "- pandas\n",
    "- re\n",
    "\n",
    "You can install these libraries by opening a terminal or command line window and running the following command:\n",
    "\n",
    "*`pip install json pandas polars`*"
   ]
  },
  {
   "cell_type": "markdown",
   "metadata": {},
   "source": [
    "# 1. Import Libraries"
   ]
  },
  {
   "cell_type": "code",
   "execution_count": 12,
   "metadata": {},
   "outputs": [],
   "source": [
    "import pandas as pd\n",
    "import os\n",
    "from datetime import datetime\n",
    "import re"
   ]
  },
  {
   "cell_type": "markdown",
   "metadata": {},
   "source": [
    "## 2. Connect and Upload Data"
   ]
  },
  {
   "cell_type": "code",
   "execution_count": 2,
   "metadata": {},
   "outputs": [],
   "source": [
    "directorio = \"D:/Datasets_proyecto/reviews-estados\"\n",
    "\n",
    "# List to store the individual DataFrames\n",
    "dfs = []\n",
    "\n",
    "# Iterate over each file in the directory\n",
    "for filename in os.listdir(directorio):\n",
    "    if filename.endswith(\".json\"):\n",
    "        filepath = os.path.join(directorio, filename)\n",
    "        \n",
    "        # Read the JSON file into a DataFrame\n",
    "        df = pd.read_json(filepath, lines=True)\n",
    "        \n",
    "        # Add the DataFrame to the list\n",
    "        dfs.append(df)\n",
    "\n",
    "# Concatenate all DataFrames into one        \n",
    "dfreviewsGoogle = pd.concat(dfs, ignore_index=True)"
   ]
  },
  {
   "cell_type": "markdown",
   "metadata": {},
   "source": [
    "## 3. Explore and Clean Data"
   ]
  },
  {
   "cell_type": "code",
   "execution_count": 3,
   "metadata": {},
   "outputs": [],
   "source": [
    "# We read the dfbusinessGoogle dataset because the name of the location is not included, only the ID\n",
    "\n",
    "dfbusinessGoogle=pd.read_csv(r'D:\\Datasets_proyecto\\dfbusinessGoogle.csv')\n",
    "\n",
    "\n",
    "# Get the unique business_ids from df_google\n",
    "\n",
    "business_ids_to_keep = dfbusinessGoogle['business_id'].unique()\n",
    "\n",
    "\n",
    "# Filter df_reviews_ulta_beauty using isin\n",
    "\n",
    "dfreviewsGoogle = dfreviewsGoogle[dfreviewsGoogle['gmap_id'].isin(business_ids_to_keep)]"
   ]
  },
  {
   "cell_type": "code",
   "execution_count": 5,
   "metadata": {},
   "outputs": [],
   "source": [
    "# From the 'date' column, we extracted the month, year, and hour. \n",
    "\n",
    "dfreviewsGoogle['time'] = pd.to_datetime(dfreviewsGoogle['time'], unit='ms')\n",
    "\n",
    "dfreviewsGoogle['month'] = dfreviewsGoogle['time'].dt.month\n",
    "dfreviewsGoogle['year'] = dfreviewsGoogle['time'].dt.year\n",
    "dfreviewsGoogle['hour'] = dfreviewsGoogle['time'].dt.hour"
   ]
  },
  {
   "cell_type": "markdown",
   "metadata": {},
   "source": [
    "**The following columns are eliminated because they are not relevant to the project**"
   ]
  },
  {
   "cell_type": "code",
   "execution_count": 4,
   "metadata": {},
   "outputs": [],
   "source": [
    "#name,pics,resp\n",
    "dfreviewsGoogle.drop(columns=['name','pics','resp'],inplace=True)\n",
    "\n",
    "#time\n",
    "dfreviewsGoogle.drop(columns=['time'],inplace=True)"
   ]
  },
  {
   "cell_type": "markdown",
   "metadata": {},
   "source": [
    "**Columns and Rows Normalization**"
   ]
  },
  {
   "cell_type": "code",
   "execution_count": 7,
   "metadata": {},
   "outputs": [],
   "source": [
    "# Rename the columns\n",
    "\n",
    "dfreviewsGoogle = dfreviewsGoogle.rename(columns={'gmap_id': 'business_id', 'rating': 'stars'})"
   ]
  },
  {
   "cell_type": "code",
   "execution_count": 9,
   "metadata": {},
   "outputs": [],
   "source": [
    "# Reorder the columns\n",
    "\n",
    "column_order = ['user_id', 'business_id', 'stars', 'text', 'month', 'year', 'hour']\n",
    "dfreviewsGoogle = dfreviewsGoogle[column_order]"
   ]
  },
  {
   "cell_type": "code",
   "execution_count": 15,
   "metadata": {},
   "outputs": [],
   "source": [
    "# We convert the text column to lowercase and remove the special characters\n",
    "\n",
    "def limpiar_texto(texto):\n",
    "    # Check if the value is a string\n",
    "    if isinstance(texto, str):\n",
    "        # Convert to lowercase\n",
    "        texto = texto.lower()\n",
    "        # Remove special characters using regular expressions\n",
    "        texto = re.sub(r'[^a-z0-9\\s]', '', texto)\n",
    "    return texto\n",
    "\n",
    "dfreviewsGoogle['text'] = dfreviewsGoogle['text'].apply(limpiar_texto)"
   ]
  },
  {
   "cell_type": "code",
   "execution_count": 17,
   "metadata": {},
   "outputs": [],
   "source": [
    "# The 'source' column is added as an identifier.\n",
    "# G = Data that comes from the google dataset\n",
    "\n",
    "dfreviewsGoogle['source']='G'"
   ]
  },
  {
   "cell_type": "markdown",
   "metadata": {},
   "source": [
    "**Handling null and duplicate values**"
   ]
  },
  {
   "cell_type": "code",
   "execution_count": 20,
   "metadata": {},
   "outputs": [],
   "source": [
    "# Delete rows where 'text' column is null\n",
    "\n",
    "dfreviewsGoogle = dfreviewsGoogle.dropna(subset=['text'])\n",
    "\n",
    "\n",
    "# Remove duplicate rows based on all columns\n",
    "\n",
    "dfreviewsGoogle = dfreviewsGoogle.drop_duplicates()"
   ]
  },
  {
   "cell_type": "code",
   "execution_count": 24,
   "metadata": {},
   "outputs": [],
   "source": [
    "# The data set is filtered by year.\n",
    "# In the scope of the project it was defined to take from 2019 to 2021 from the source provided by Henry\n",
    "\n",
    "dfreviewsGoogle = dfreviewsGoogle[(dfreviewsGoogle['year'] == 2019) | (dfreviewsGoogle['year'] == 2020) | (dfreviewsGoogle['year'] == 2021)]"
   ]
  },
  {
   "cell_type": "markdown",
   "metadata": {},
   "source": [
    "## 4. Final Structure"
   ]
  },
  {
   "cell_type": "code",
   "execution_count": 25,
   "metadata": {},
   "outputs": [
    {
     "data": {
      "text/html": [
       "<div>\n",
       "<style scoped>\n",
       "    .dataframe tbody tr th:only-of-type {\n",
       "        vertical-align: middle;\n",
       "    }\n",
       "\n",
       "    .dataframe tbody tr th {\n",
       "        vertical-align: top;\n",
       "    }\n",
       "\n",
       "    .dataframe thead th {\n",
       "        text-align: right;\n",
       "    }\n",
       "</style>\n",
       "<table border=\"1\" class=\"dataframe\">\n",
       "  <thead>\n",
       "    <tr style=\"text-align: right;\">\n",
       "      <th></th>\n",
       "      <th>user_id</th>\n",
       "      <th>business_id</th>\n",
       "      <th>stars</th>\n",
       "      <th>text</th>\n",
       "      <th>month</th>\n",
       "      <th>year</th>\n",
       "      <th>hour</th>\n",
       "      <th>source</th>\n",
       "    </tr>\n",
       "  </thead>\n",
       "  <tbody>\n",
       "    <tr>\n",
       "      <th>94018</th>\n",
       "      <td>1.018389e+20</td>\n",
       "      <td>0x5342381c6ddf30e3:0xfbe922695b89d6de</td>\n",
       "      <td>5</td>\n",
       "      <td>go to this place specifically for my foundatio...</td>\n",
       "      <td>5</td>\n",
       "      <td>2021</td>\n",
       "      <td>16</td>\n",
       "      <td>G</td>\n",
       "    </tr>\n",
       "    <tr>\n",
       "      <th>94019</th>\n",
       "      <td>1.113166e+20</td>\n",
       "      <td>0x5342381c6ddf30e3:0xfbe922695b89d6de</td>\n",
       "      <td>5</td>\n",
       "      <td>i recommend this place\\nthey are so polite  an...</td>\n",
       "      <td>4</td>\n",
       "      <td>2021</td>\n",
       "      <td>16</td>\n",
       "      <td>G</td>\n",
       "    </tr>\n",
       "    <tr>\n",
       "      <th>94020</th>\n",
       "      <td>1.142388e+20</td>\n",
       "      <td>0x5342381c6ddf30e3:0xfbe922695b89d6de</td>\n",
       "      <td>5</td>\n",
       "      <td>love this place friendly staff and always will...</td>\n",
       "      <td>2</td>\n",
       "      <td>2021</td>\n",
       "      <td>23</td>\n",
       "      <td>G</td>\n",
       "    </tr>\n",
       "    <tr>\n",
       "      <th>94021</th>\n",
       "      <td>1.079620e+20</td>\n",
       "      <td>0x5342381c6ddf30e3:0xfbe922695b89d6de</td>\n",
       "      <td>5</td>\n",
       "      <td>fantastic place for beauty queens  kings</td>\n",
       "      <td>2</td>\n",
       "      <td>2021</td>\n",
       "      <td>4</td>\n",
       "      <td>G</td>\n",
       "    </tr>\n",
       "    <tr>\n",
       "      <th>94022</th>\n",
       "      <td>1.050090e+20</td>\n",
       "      <td>0x5342381c6ddf30e3:0xfbe922695b89d6de</td>\n",
       "      <td>5</td>\n",
       "      <td>helpful staff and lots of variety</td>\n",
       "      <td>5</td>\n",
       "      <td>2021</td>\n",
       "      <td>18</td>\n",
       "      <td>G</td>\n",
       "    </tr>\n",
       "  </tbody>\n",
       "</table>\n",
       "</div>"
      ],
      "text/plain": [
       "            user_id                            business_id  stars  \\\n",
       "94018  1.018389e+20  0x5342381c6ddf30e3:0xfbe922695b89d6de      5   \n",
       "94019  1.113166e+20  0x5342381c6ddf30e3:0xfbe922695b89d6de      5   \n",
       "94020  1.142388e+20  0x5342381c6ddf30e3:0xfbe922695b89d6de      5   \n",
       "94021  1.079620e+20  0x5342381c6ddf30e3:0xfbe922695b89d6de      5   \n",
       "94022  1.050090e+20  0x5342381c6ddf30e3:0xfbe922695b89d6de      5   \n",
       "\n",
       "                                                    text  month  year  hour  \\\n",
       "94018  go to this place specifically for my foundatio...      5  2021    16   \n",
       "94019  i recommend this place\\nthey are so polite  an...      4  2021    16   \n",
       "94020  love this place friendly staff and always will...      2  2021    23   \n",
       "94021          fantastic place for beauty queens  kings       2  2021     4   \n",
       "94022                  helpful staff and lots of variety      5  2021    18   \n",
       "\n",
       "      source  \n",
       "94018      G  \n",
       "94019      G  \n",
       "94020      G  \n",
       "94021      G  \n",
       "94022      G  "
      ]
     },
     "execution_count": 25,
     "metadata": {},
     "output_type": "execute_result"
    }
   ],
   "source": [
    "dfreviewsGoogle.head()"
   ]
  }
 ],
 "metadata": {
  "kernelspec": {
   "display_name": "Python 3 (ipykernel)",
   "language": "python",
   "name": "python3"
  },
  "language_info": {
   "codemirror_mode": {
    "name": "ipython",
    "version": 3
   },
   "file_extension": ".py",
   "mimetype": "text/x-python",
   "name": "python",
   "nbconvert_exporter": "python",
   "pygments_lexer": "ipython3",
   "version": "3.10.9"
  }
 },
 "nbformat": 4,
 "nbformat_minor": 4
}
