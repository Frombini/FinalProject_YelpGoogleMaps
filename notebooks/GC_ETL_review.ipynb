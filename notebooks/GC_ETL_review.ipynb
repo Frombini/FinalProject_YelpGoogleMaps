{
 "cells": [
  {
   "cell_type": "markdown",
   "metadata": {},
   "source": [
    "ETL de los reviews de google\n",
    "\n",
    "Importamos las librerias"
   ]
  },
  {
   "cell_type": "code",
   "execution_count": 12,
   "metadata": {},
   "outputs": [],
   "source": [
    "import pandas as pd\n",
    "import os\n",
    "from datetime import datetime\n",
    "import re"
   ]
  },
  {
   "cell_type": "markdown",
   "metadata": {},
   "source": [
    "Leer el archivo"
   ]
  },
  {
   "cell_type": "code",
   "execution_count": 2,
   "metadata": {},
   "outputs": [],
   "source": [
    "# Directorio que contiene los archivos JSON\n",
    "directorio = \"D:/Datasets_proyecto/reviews-estados\"\n",
    "\n",
    "# Lista para almacenar los DataFrames individuales\n",
    "dfs = []\n",
    "\n",
    "# Iterar sobre cada archivo en el directorio\n",
    "for filename in os.listdir(directorio):\n",
    "    if filename.endswith(\".json\"):\n",
    "        filepath = os.path.join(directorio, filename)\n",
    "        \n",
    "        # Leer el archivo JSON en un DataFrame\n",
    "        df = pd.read_json(filepath, lines=True)\n",
    "        \n",
    "        # Agregar el DataFrame a la lista\n",
    "        dfs.append(df)\n",
    "# Concatenar todos los DataFrames en uno solo\n",
    "dfreviewsGoogle = pd.concat(dfs, ignore_index=True)"
   ]
  },
  {
   "cell_type": "markdown",
   "metadata": {},
   "source": [
    "Filtramos los id para que solo sean los de ulta beauty"
   ]
  },
  {
   "cell_type": "code",
   "execution_count": 3,
   "metadata": {},
   "outputs": [],
   "source": [
    "#Leemos el dataset de dfbusinessGoogle porque no viene el nombre del local , solo el ID\n",
    "dfbusinessGoogle=pd.read_csv(r'D:\\Datasets_proyecto\\dfbusinessGoogle.csv')\n",
    "\n",
    "\n",
    "# Obtén los business_id únicos de df_google\n",
    "business_ids_to_keep = dfbusinessGoogle['business_id'].unique()\n",
    "\n",
    "# Filtra df_reviews_ulta_beauty utilizando isin\n",
    "dfreviewsGoogle = dfreviewsGoogle[dfreviewsGoogle['gmap_id'].isin(business_ids_to_keep)]"
   ]
  },
  {
   "cell_type": "markdown",
   "metadata": {},
   "source": [
    "Borramos la columna name porque es el nombre de usuario y solo nos interesa su id , pics y resp también se van a borrar"
   ]
  },
  {
   "cell_type": "code",
   "execution_count": 4,
   "metadata": {},
   "outputs": [],
   "source": [
    "dfreviewsGoogle.drop(columns=['name','pics','resp'],inplace=True)"
   ]
  },
  {
   "cell_type": "markdown",
   "metadata": {},
   "source": [
    "De la columna time se va a extraer el mes , año y hora"
   ]
  },
  {
   "cell_type": "code",
   "execution_count": 5,
   "metadata": {},
   "outputs": [],
   "source": [
    "# Convertir la columna 'time' a formato de fecha y hora\n",
    "dfreviewsGoogle['time'] = pd.to_datetime(dfreviewsGoogle['time'], unit='ms')\n",
    "\n",
    "# Extraer el mes, año y hora en nuevas columnas\n",
    "dfreviewsGoogle['month'] = dfreviewsGoogle['time'].dt.month\n",
    "dfreviewsGoogle['year'] = dfreviewsGoogle['time'].dt.year\n",
    "dfreviewsGoogle['hour'] = dfreviewsGoogle['time'].dt.hour\n",
    "\n",
    "#Borrar la columna time\n",
    "dfreviewsGoogle.drop(columns=['time'],inplace=True)"
   ]
  },
  {
   "cell_type": "markdown",
   "metadata": {},
   "source": [
    "Cambiamos los nombres de las columnas para estandarizar los nombres con los datos de yelp"
   ]
  },
  {
   "cell_type": "code",
   "execution_count": 7,
   "metadata": {},
   "outputs": [],
   "source": [
    "# Renombrar las columnas\n",
    "dfreviewsGoogle = dfreviewsGoogle.rename(columns={'gmap_id': 'business_id', 'rating': 'stars'})"
   ]
  },
  {
   "cell_type": "markdown",
   "metadata": {},
   "source": [
    "Ordenamos las columnas"
   ]
  },
  {
   "cell_type": "code",
   "execution_count": 9,
   "metadata": {},
   "outputs": [],
   "source": [
    "# Reordenar las columnas\n",
    "column_order = ['user_id', 'business_id', 'stars', 'text', 'month', 'year', 'hour']\n",
    "dfreviewsGoogle = dfreviewsGoogle[column_order]"
   ]
  },
  {
   "cell_type": "markdown",
   "metadata": {},
   "source": [
    "La columna texto lo convertimos a minusculas y quitamos los caracteres especiales"
   ]
  },
  {
   "cell_type": "code",
   "execution_count": 15,
   "metadata": {},
   "outputs": [],
   "source": [
    "def limpiar_texto(texto):\n",
    "    # Verificar si el valor es una cadena\n",
    "    if isinstance(texto, str):\n",
    "        # Convertir a minúsculas\n",
    "        texto = texto.lower()\n",
    "        # Eliminar caracteres especiales usando expresiones regulares\n",
    "        texto = re.sub(r'[^a-z0-9\\s]', '', texto)\n",
    "    return texto\n",
    "\n",
    "# Aplicar la función a la columna 'text'\n",
    "dfreviewsGoogle['text'] = dfreviewsGoogle['text'].apply(limpiar_texto)"
   ]
  },
  {
   "cell_type": "markdown",
   "metadata": {},
   "source": [
    "Agregamos la columnas source para identiicar de donde viene la fuente"
   ]
  },
  {
   "cell_type": "code",
   "execution_count": 17,
   "metadata": {},
   "outputs": [],
   "source": [
    "dfreviewsGoogle['source']='G'"
   ]
  },
  {
   "cell_type": "markdown",
   "metadata": {},
   "source": [
    "Eliminamos los valores nulos y duplicados"
   ]
  },
  {
   "cell_type": "code",
   "execution_count": 20,
   "metadata": {},
   "outputs": [],
   "source": [
    "# Eliminar filas donde la columna 'text' es nula\n",
    "dfreviewsGoogle = dfreviewsGoogle.dropna(subset=['text'])\n",
    "\n",
    "# Eliminar filas duplicadas en función de todas las columnas\n",
    "dfreviewsGoogle = dfreviewsGoogle.drop_duplicates()"
   ]
  },
  {
   "cell_type": "markdown",
   "metadata": {},
   "source": [
    "Filtramos los años de alcance de nuestro proyecto , los años 2019 , 2020 , 2021 se obtendran del dataset original pero los años 2022 y 2023 se obtendran en la carga incremental"
   ]
  },
  {
   "cell_type": "code",
   "execution_count": 24,
   "metadata": {},
   "outputs": [],
   "source": [
    "# Filtrar las filas para los años 2019, 2020 y 2021\n",
    "dfreviewsGoogle = dfreviewsGoogle[(dfreviewsGoogle['year'] == 2019) | (dfreviewsGoogle['year'] == 2020) | (dfreviewsGoogle['year'] == 2021)]"
   ]
  },
  {
   "cell_type": "code",
   "execution_count": 25,
   "metadata": {},
   "outputs": [
    {
     "data": {
      "text/html": [
       "<div>\n",
       "<style scoped>\n",
       "    .dataframe tbody tr th:only-of-type {\n",
       "        vertical-align: middle;\n",
       "    }\n",
       "\n",
       "    .dataframe tbody tr th {\n",
       "        vertical-align: top;\n",
       "    }\n",
       "\n",
       "    .dataframe thead th {\n",
       "        text-align: right;\n",
       "    }\n",
       "</style>\n",
       "<table border=\"1\" class=\"dataframe\">\n",
       "  <thead>\n",
       "    <tr style=\"text-align: right;\">\n",
       "      <th></th>\n",
       "      <th>user_id</th>\n",
       "      <th>business_id</th>\n",
       "      <th>stars</th>\n",
       "      <th>text</th>\n",
       "      <th>month</th>\n",
       "      <th>year</th>\n",
       "      <th>hour</th>\n",
       "      <th>source</th>\n",
       "    </tr>\n",
       "  </thead>\n",
       "  <tbody>\n",
       "    <tr>\n",
       "      <th>94018</th>\n",
       "      <td>1.018389e+20</td>\n",
       "      <td>0x5342381c6ddf30e3:0xfbe922695b89d6de</td>\n",
       "      <td>5</td>\n",
       "      <td>go to this place specifically for my foundatio...</td>\n",
       "      <td>5</td>\n",
       "      <td>2021</td>\n",
       "      <td>16</td>\n",
       "      <td>G</td>\n",
       "    </tr>\n",
       "    <tr>\n",
       "      <th>94019</th>\n",
       "      <td>1.113166e+20</td>\n",
       "      <td>0x5342381c6ddf30e3:0xfbe922695b89d6de</td>\n",
       "      <td>5</td>\n",
       "      <td>i recommend this place\\nthey are so polite  an...</td>\n",
       "      <td>4</td>\n",
       "      <td>2021</td>\n",
       "      <td>16</td>\n",
       "      <td>G</td>\n",
       "    </tr>\n",
       "    <tr>\n",
       "      <th>94020</th>\n",
       "      <td>1.142388e+20</td>\n",
       "      <td>0x5342381c6ddf30e3:0xfbe922695b89d6de</td>\n",
       "      <td>5</td>\n",
       "      <td>love this place friendly staff and always will...</td>\n",
       "      <td>2</td>\n",
       "      <td>2021</td>\n",
       "      <td>23</td>\n",
       "      <td>G</td>\n",
       "    </tr>\n",
       "    <tr>\n",
       "      <th>94021</th>\n",
       "      <td>1.079620e+20</td>\n",
       "      <td>0x5342381c6ddf30e3:0xfbe922695b89d6de</td>\n",
       "      <td>5</td>\n",
       "      <td>fantastic place for beauty queens  kings</td>\n",
       "      <td>2</td>\n",
       "      <td>2021</td>\n",
       "      <td>4</td>\n",
       "      <td>G</td>\n",
       "    </tr>\n",
       "    <tr>\n",
       "      <th>94022</th>\n",
       "      <td>1.050090e+20</td>\n",
       "      <td>0x5342381c6ddf30e3:0xfbe922695b89d6de</td>\n",
       "      <td>5</td>\n",
       "      <td>helpful staff and lots of variety</td>\n",
       "      <td>5</td>\n",
       "      <td>2021</td>\n",
       "      <td>18</td>\n",
       "      <td>G</td>\n",
       "    </tr>\n",
       "  </tbody>\n",
       "</table>\n",
       "</div>"
      ],
      "text/plain": [
       "            user_id                            business_id  stars  \\\n",
       "94018  1.018389e+20  0x5342381c6ddf30e3:0xfbe922695b89d6de      5   \n",
       "94019  1.113166e+20  0x5342381c6ddf30e3:0xfbe922695b89d6de      5   \n",
       "94020  1.142388e+20  0x5342381c6ddf30e3:0xfbe922695b89d6de      5   \n",
       "94021  1.079620e+20  0x5342381c6ddf30e3:0xfbe922695b89d6de      5   \n",
       "94022  1.050090e+20  0x5342381c6ddf30e3:0xfbe922695b89d6de      5   \n",
       "\n",
       "                                                    text  month  year  hour  \\\n",
       "94018  go to this place specifically for my foundatio...      5  2021    16   \n",
       "94019  i recommend this place\\nthey are so polite  an...      4  2021    16   \n",
       "94020  love this place friendly staff and always will...      2  2021    23   \n",
       "94021          fantastic place for beauty queens  kings       2  2021     4   \n",
       "94022                  helpful staff and lots of variety      5  2021    18   \n",
       "\n",
       "      source  \n",
       "94018      G  \n",
       "94019      G  \n",
       "94020      G  \n",
       "94021      G  \n",
       "94022      G  "
      ]
     },
     "execution_count": 25,
     "metadata": {},
     "output_type": "execute_result"
    }
   ],
   "source": [
    "dfreviewsGoogle.head()"
   ]
  }
 ],
 "metadata": {
  "kernelspec": {
   "display_name": "Python 3",
   "language": "python",
   "name": "python3"
  },
  "language_info": {
   "codemirror_mode": {
    "name": "ipython",
    "version": 3
   },
   "file_extension": ".py",
   "mimetype": "text/x-python",
   "name": "python",
   "nbconvert_exporter": "python",
   "pygments_lexer": "ipython3",
   "version": "3.11.7"
  }
 },
 "nbformat": 4,
 "nbformat_minor": 2
}
