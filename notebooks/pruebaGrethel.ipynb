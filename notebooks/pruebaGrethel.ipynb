{
 "cells": [
  {
   "cell_type": "code",
   "execution_count": 17,
   "metadata": {},
   "outputs": [],
   "source": [
    "import pandas as pd\n",
    "from transformers import AutoModelForSequenceClassification, AutoTokenizer\n",
    "import torch\n",
    "from google.cloud import bigquery\n",
    "import db_dtypes"
   ]
  },
  {
   "cell_type": "code",
   "execution_count": 20,
   "metadata": {},
   "outputs": [],
   "source": [
    "CREDS = r\"D:\\Datasets_proyecto\\service_account.json\"\n",
    "client = bigquery.Client.from_service_account_json(json_credentials_path=CREDS)\n",
    "\n",
    "def convertir_a_dataframe(row):\n",
    "    return row[0]\n",
    "\n",
    "# Configura tu proyecto y credenciales\n",
    "project_id = 'windy-tiger-410421'\n",
    "\n",
    "# Crea el cliente de BigQuery utilizando las credenciales proporcionadas\n",
    "client = bigquery.Client(project=project_id, credentials=client._credentials)\n",
    "\n",
    "# Especifica tu conjunto de datos y tabla para Yelp Reviews y Google Reviews\n",
    "dataset_id = 'UltaBeautyReviews'\n",
    "table_idY = 'yelp_reviews_ulta_beauty'\n",
    "table_idG = 'google_reviews_ulta_beauty'\n",
    "\n",
    "# Obtiene el esquema de la tabla de Yelp Reviews y Google Reviews\n",
    "tableY = client.get_table(f'{project_id}.{dataset_id}.{table_idY}')\n",
    "tableG = client.get_table(f'{project_id}.{dataset_id}.{table_idG}')\n",
    "\n",
    "# Construye y ejecuta la consulta para Yelp Reviews\n",
    "queryY = f\"SELECT * FROM `{project_id}.{dataset_id}.{table_idY}` LIMIT 5\"\n",
    "query_jobY = client.query(queryY)\n",
    "Y_ulta_beauty = query_jobY.result()\n",
    "\n",
    "# Construye y ejecuta la consulta para Google Reviews\n",
    "queryG = f\"SELECT * FROM `{project_id}.{dataset_id}.{table_idG}` LIMIT 5\"\n",
    "query_jobG = client.query(queryG)\n",
    "G_ulta_beauty = query_jobG.result()\n",
    "\n"
   ]
  },
  {
   "cell_type": "code",
   "execution_count": 21,
   "metadata": {},
   "outputs": [
    {
     "name": "stdout",
     "output_type": "stream",
     "text": [
      "Row(('vGMsqtn5CovrNzJZWfyC1w', 'idP674ti6a8yg8z2xFcCgA', 1, 'third and final trip to this location  visited around christmas and was once again disappointed by the lack of staff and the attitude of the younger women that work there  i waited for someone to even look in my direction while i waited in the designated checkout location  out of the three cashiers  one was trying to help someone with a return the second one left the counter to help someone that had a question and the third cashier was nearest to me was on the phone trying to solve a customer issue  she reluctantly hung up from the call and waited on me never looked at me mumbled an apology for the wait all without ever making eye contact everstock is always low many shelves are bare and staff is scarce on the sales floorthe staff that is there looks like you are bothering them if you have a question  the ulta store in springfield is night and day different  plenty of helpful staffdone with this location ', 1, 2019, datetime.time(3, 41, 11), 'Y'), {'user_id': 0, 'business_id': 1, 'stars': 2, 'text': 3, 'month': 4, 'year': 5, 'hour': 6, 'source': 7})\n",
      "Row(('QdnaGhhCrFuPi-L2fppFaQ', 'idP674ti6a8yg8z2xFcCgA', 1, 'the difference between the ns ulta and the springfield ulta is night and day there is much more product available at springfield and the customer service is 100 better at springfield its really a shame ultas reputation is being damaged because of this', 1, 2019, datetime.time(21, 43, 18), 'Y'), {'user_id': 0, 'business_id': 1, 'stars': 2, 'text': 3, 'month': 4, 'year': 5, 'hour': 6, 'source': 7})\n",
      "Row(('R4RXqne_ME9DU37p3C9YOw', 'G4gzTUGV2xAoz6CG9STqfg', 1, 'worst ulta ever nothing is ever in stock nothing is ever organized or where it should be all the testers are always disgusting or missing or still sealed and opening them yourself just brings negative attention because people around you assume youre opening  product and leaving it the employees are always standing around talking to each other and seem very bothered when you ask for help i asked for something comparable to what i usually get bc they havent had it for over a month and i was brought one row over and basically had to help myself while she stood there and just said sorry when those didnt work out i just lost out on 5x point per nyx product when i bought 7 even though she was in my account and saw my offers the place is a joke i spend thousands annually on makeup as do probably most women and for that amount of money the employees could at least pretend to care whoever is in charge there has zero control of that retail space ill be going back to sephora from now on', 1, 2020, datetime.time(21, 37, 32), 'Y'), {'user_id': 0, 'business_id': 1, 'stars': 2, 'text': 3, 'month': 4, 'year': 5, 'hour': 6, 'source': 7})\n",
      "Row(('EShPG-viemXhoVT6oSRQsw', 'G4gzTUGV2xAoz6CG9STqfg', 1, 'completely clueless and incompetent my daughter had an appointment w caitlyn at 1pm  we were there on time  checked in w someone at the desk who did not let caitlyn know we were there  she was still working on another client  finished up with that one at 120  then spent 10 more minutes primping herself in the mirror  completely clueless of her surroundings  i was literally standing at the desk watching her  not once did she ask if i needed anything or try to figure out if her next appt was there  finally the other clueless employee who checked my daughter in again on time tells caitlyn we are there  then caitlyn walks to the back says nothing to us and calls her next appt to come in early  she then finally addresses me tells me because we were late we needed to reschedule whoever is managing this placeyou are to blame  take care of your business and stop letting 12 yr olds run things  clearly that does not work  i wasted an hour of my time and i will not be back', 1, 2021, datetime.time(20, 42, 39), 'Y'), {'user_id': 0, 'business_id': 1, 'stars': 2, 'text': 3, 'month': 4, 'year': 5, 'hour': 6, 'source': 7})\n",
      "Row(('MAMcVyRLCqbF0qtvWBR-Ug', 'CUi489qZNqfm2DsqL67BJw', 1, 'this is one of the worst stores that i delt with as a disabled person they were rude  crude not a place i would bring an impressionable teenager horible manners i just wanted a gift certificate i could give my sister   walked out of their in tears', 1, 2019, datetime.time(19, 2, 30), 'Y'), {'user_id': 0, 'business_id': 1, 'stars': 2, 'text': 3, 'month': 4, 'year': 5, 'hour': 6, 'source': 7})\n",
      "Row(('111689045674478338048', '0x874d9afa7e46e697:0xaf5ba3db378a2e4c', 1, 'the general manager of this ulta is not friendly not helpful and down right rude all the employees seem super timid around her and i dont think thats how its supposed to be just being in that store once i could feel the tension between everyone all the other employees were super helpful', 1, 2019, 0, 'G'), {'user_id': 0, 'business_id': 1, 'stars': 2, 'text': 3, 'month': 4, 'year': 5, 'hour': 6, 'source': 7})\n",
      "Row(('112735895535041413120', '0x89d0825a0a93a329:0x76b52d4eed64ccca', 4, 'i love ulta  weve only had a few times we couldnt find what were looking for but i continue to go there i love the rewards too', 1, 2019, 0, 'G'), {'user_id': 0, 'business_id': 1, 'stars': 2, 'text': 3, 'month': 4, 'year': 5, 'hour': 6, 'source': 7})\n",
      "Row(('102215948492249022464', '0x883884f2d74bacb5:0x6e75affcc84a72ac', 4, 'love ulta beauty i can find everything here for gave body and hair', 1, 2019, 0, 'G'), {'user_id': 0, 'business_id': 1, 'stars': 2, 'text': 3, 'month': 4, 'year': 5, 'hour': 6, 'source': 7})\n",
      "Row(('110923128404131577856', '0x87547de81cc5a38d:0x146f73d65868b467', 4, 'a clean and orderly environment has everything you might need for your makeup and hygiene staff was helpful and knowledgeable on the subjects at hand also learned about tutorials and training that they have available in store that you can sign up for a life saver', 1, 2019, 0, 'G'), {'user_id': 0, 'business_id': 1, 'stars': 2, 'text': 3, 'month': 4, 'year': 5, 'hour': 6, 'source': 7})\n",
      "Row(('102884729201115545600', '0x8745627826b205a7:0xa51ac3ac6c281b6a', 4, 'waiting on my appointment', 1, 2019, 0, 'G'), {'user_id': 0, 'business_id': 1, 'stars': 2, 'text': 3, 'month': 4, 'year': 5, 'hour': 6, 'source': 7})\n"
     ]
    }
   ],
   "source": [
    "# Imprime los primeros few rows de Y_ulta_beauty\n",
    "for row in Y_ulta_beauty:\n",
    "    print(row)\n",
    "\n",
    "# Imprime los primeros few rows de G_ulta_beauty\n",
    "for row in G_ulta_beauty:\n",
    "    print(row)\n"
   ]
  },
  {
   "cell_type": "code",
   "execution_count": 22,
   "metadata": {},
   "outputs": [
    {
     "ename": "ValueError",
     "evalue": "Please install the 'db-dtypes' package to use this function.",
     "output_type": "error",
     "traceback": [
      "\u001b[1;31m---------------------------------------------------------------------------\u001b[0m",
      "\u001b[1;31mModuleNotFoundError\u001b[0m                       Traceback (most recent call last)",
      "File \u001b[1;32m~\\AppData\\Local\\Packages\\PythonSoftwareFoundation.Python.3.11_qbz5n2kfra8p0\\LocalCache\\local-packages\\Python311\\site-packages\\google\\cloud\\bigquery\\_pandas_helpers.py:42\u001b[0m\n\u001b[0;32m     41\u001b[0m \u001b[38;5;28;01mtry\u001b[39;00m:\n\u001b[1;32m---> 42\u001b[0m     \u001b[38;5;28;01mimport\u001b[39;00m \u001b[38;5;21;01mdb_dtypes\u001b[39;00m  \u001b[38;5;66;03m# type: ignore\u001b[39;00m\n\u001b[0;32m     44\u001b[0m     date_dtype_name \u001b[38;5;241m=\u001b[39m db_dtypes\u001b[38;5;241m.\u001b[39mDateDtype\u001b[38;5;241m.\u001b[39mname\n",
      "\u001b[1;31mModuleNotFoundError\u001b[0m: No module named 'db_dtypes'",
      "\nThe above exception was the direct cause of the following exception:\n",
      "\u001b[1;31mValueError\u001b[0m                                Traceback (most recent call last)",
      "Cell \u001b[1;32mIn[22], line 1\u001b[0m\n\u001b[1;32m----> 1\u001b[0m \u001b[43mY_ulta_beauty\u001b[49m\u001b[38;5;241;43m.\u001b[39;49m\u001b[43mto_dataframe\u001b[49m\u001b[43m(\u001b[49m\u001b[43m)\u001b[49m\n\u001b[0;32m      2\u001b[0m Y_ulta_beauty\n",
      "File \u001b[1;32m~\\AppData\\Local\\Packages\\PythonSoftwareFoundation.Python.3.11_qbz5n2kfra8p0\\LocalCache\\local-packages\\Python311\\site-packages\\google\\cloud\\bigquery\\table.py:2204\u001b[0m, in \u001b[0;36mRowIterator.to_dataframe\u001b[1;34m(self, bqstorage_client, dtypes, progress_bar_type, create_bqstorage_client, geography_as_object, bool_dtype, int_dtype, float_dtype, string_dtype, date_dtype, datetime_dtype, time_dtype, timestamp_dtype)\u001b[0m\n\u001b[0;32m   2033\u001b[0m \u001b[38;5;28;01mdef\u001b[39;00m \u001b[38;5;21mto_dataframe\u001b[39m(\n\u001b[0;32m   2034\u001b[0m     \u001b[38;5;28mself\u001b[39m,\n\u001b[0;32m   2035\u001b[0m     bqstorage_client: Optional[\u001b[38;5;124m\"\u001b[39m\u001b[38;5;124mbigquery_storage.BigQueryReadClient\u001b[39m\u001b[38;5;124m\"\u001b[39m] \u001b[38;5;241m=\u001b[39m \u001b[38;5;28;01mNone\u001b[39;00m,\n\u001b[1;32m   (...)\u001b[0m\n\u001b[0;32m   2047\u001b[0m     timestamp_dtype: Union[Any, \u001b[38;5;28;01mNone\u001b[39;00m] \u001b[38;5;241m=\u001b[39m \u001b[38;5;28;01mNone\u001b[39;00m,\n\u001b[0;32m   2048\u001b[0m ) \u001b[38;5;241m-\u001b[39m\u001b[38;5;241m>\u001b[39m \u001b[38;5;124m\"\u001b[39m\u001b[38;5;124mpandas.DataFrame\u001b[39m\u001b[38;5;124m\"\u001b[39m:\n\u001b[0;32m   2049\u001b[0m \u001b[38;5;250m    \u001b[39m\u001b[38;5;124;03m\"\"\"Create a pandas DataFrame by loading all pages of a query.\u001b[39;00m\n\u001b[0;32m   2050\u001b[0m \n\u001b[0;32m   2051\u001b[0m \u001b[38;5;124;03m    Args:\u001b[39;00m\n\u001b[1;32m   (...)\u001b[0m\n\u001b[0;32m   2202\u001b[0m \n\u001b[0;32m   2203\u001b[0m \u001b[38;5;124;03m    \"\"\"\u001b[39;00m\n\u001b[1;32m-> 2204\u001b[0m     \u001b[43m_pandas_helpers\u001b[49m\u001b[38;5;241;43m.\u001b[39;49m\u001b[43mverify_pandas_imports\u001b[49m\u001b[43m(\u001b[49m\u001b[43m)\u001b[49m\n\u001b[0;32m   2206\u001b[0m     \u001b[38;5;28;01mif\u001b[39;00m geography_as_object \u001b[38;5;129;01mand\u001b[39;00m shapely \u001b[38;5;129;01mis\u001b[39;00m \u001b[38;5;28;01mNone\u001b[39;00m:\n\u001b[0;32m   2207\u001b[0m         \u001b[38;5;28;01mraise\u001b[39;00m \u001b[38;5;167;01mValueError\u001b[39;00m(_NO_SHAPELY_ERROR)\n",
      "File \u001b[1;32m~\\AppData\\Local\\Packages\\PythonSoftwareFoundation.Python.3.11_qbz5n2kfra8p0\\LocalCache\\local-packages\\Python311\\site-packages\\google\\cloud\\bigquery\\_pandas_helpers.py:970\u001b[0m, in \u001b[0;36mverify_pandas_imports\u001b[1;34m()\u001b[0m\n\u001b[0;32m    968\u001b[0m     \u001b[38;5;28;01mraise\u001b[39;00m \u001b[38;5;167;01mValueError\u001b[39;00m(_NO_PANDAS_ERROR) \u001b[38;5;28;01mfrom\u001b[39;00m \u001b[38;5;21;01mpandas_import_exception\u001b[39;00m\n\u001b[0;32m    969\u001b[0m \u001b[38;5;28;01mif\u001b[39;00m db_dtypes \u001b[38;5;129;01mis\u001b[39;00m \u001b[38;5;28;01mNone\u001b[39;00m:\n\u001b[1;32m--> 970\u001b[0m     \u001b[38;5;28;01mraise\u001b[39;00m \u001b[38;5;167;01mValueError\u001b[39;00m(_NO_DB_TYPES_ERROR) \u001b[38;5;28;01mfrom\u001b[39;00m \u001b[38;5;21;01mdb_dtypes_import_exception\u001b[39;00m\n",
      "\u001b[1;31mValueError\u001b[0m: Please install the 'db-dtypes' package to use this function."
     ]
    }
   ],
   "source": [
    "Y_ulta_beauty.to_dataframe()\n",
    "Y_ulta_beauty"
   ]
  }
 ],
 "metadata": {
  "kernelspec": {
   "display_name": "Python 3",
   "language": "python",
   "name": "python3"
  },
  "language_info": {
   "codemirror_mode": {
    "name": "ipython",
    "version": 3
   },
   "file_extension": ".py",
   "mimetype": "text/x-python",
   "name": "python",
   "nbconvert_exporter": "python",
   "pygments_lexer": "ipython3",
   "version": "3.11.7"
  }
 },
 "nbformat": 4,
 "nbformat_minor": 2
}
