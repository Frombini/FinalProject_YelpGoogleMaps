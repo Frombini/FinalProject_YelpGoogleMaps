{
 "cells": [
  {
   "cell_type": "code",
   "execution_count": 1,
   "metadata": {},
   "outputs": [
    {
     "name": "stderr",
     "output_type": "stream",
     "text": [
      "C:\\Users\\Grethel\\AppData\\Local\\Packages\\PythonSoftwareFoundation.Python.3.11_qbz5n2kfra8p0\\LocalCache\\local-packages\\Python311\\site-packages\\tqdm\\auto.py:21: TqdmWarning: IProgress not found. Please update jupyter and ipywidgets. See https://ipywidgets.readthedocs.io/en/stable/user_install.html\n",
      "  from .autonotebook import tqdm as notebook_tqdm\n"
     ]
    }
   ],
   "source": [
    "import pandas as pd\n",
    "from transformers import AutoModelForSequenceClassification, AutoTokenizer\n",
    "import torch\n",
    "from google.cloud import bigquery"
   ]
  },
  {
   "cell_type": "code",
   "execution_count": 2,
   "metadata": {},
   "outputs": [
    {
     "name": "stdout",
     "output_type": "stream",
     "text": [
      "Datos cargados correctamente\n"
     ]
    }
   ],
   "source": [
    "CREDS = r\"D:\\Datasets_proyecto\\service_account.json\"\n",
    "client = bigquery.Client.from_service_account_json(json_credentials_path=CREDS)\n",
    "\n",
    "# Configura tu proyecto y credenciales\n",
    "project_id = 'windy-tiger-410421'\n",
    "\n",
    "# Crea el cliente de BigQuery utilizando las credenciales proporcionadas\n",
    "client = bigquery.Client(project=project_id, credentials=client._credentials)\n",
    "\n",
    "# Especifica tu conjunto de datos y tabla para Yelp Reviews y Google Reviews\n",
    "dataset_id = 'UltaBeautyReviews'\n",
    "table_idY = 'yelp_reviews_ulta_beauty'\n",
    "table_idG = 'google_reviews_ulta_beauty'\n",
    "\n",
    "# Obtiene el esquema de la tabla de Yelp Reviews y Google Reviews\n",
    "tableY = client.get_table(f'{project_id}.{dataset_id}.{table_idY}')\n",
    "tableG = client.get_table(f'{project_id}.{dataset_id}.{table_idG}')\n",
    "\n",
    "# Construye y ejecuta la consulta para Yelp Reviews\n",
    "queryY = f\"SELECT * FROM `{project_id}.{dataset_id}.{table_idY}` LIMIT 5\"\n",
    "query_jobY = client.query(queryY)\n",
    "df_Y_ulta_beauty=query_jobY.to_dataframe()\n",
    "\n",
    "# Construye y ejecuta la consulta para Google Reviews\n",
    "queryG = f\"SELECT * FROM `{project_id}.{dataset_id}.{table_idG}` LIMIT 5\"\n",
    "query_jobG = client.query(queryG)\n",
    "df_G_ulta_beauty=query_jobG.to_dataframe()\n",
    "\n",
    "print ('Datos cargados correctamente')\n",
    "\n"
   ]
  },
  {
   "cell_type": "code",
   "execution_count": 3,
   "metadata": {},
   "outputs": [],
   "source": [
    "ulta_beauty = pd.concat([df_G_ulta_beauty, df_Y_ulta_beauty], ignore_index=True)"
   ]
  },
  {
   "cell_type": "code",
   "execution_count": 4,
   "metadata": {},
   "outputs": [],
   "source": [
    "ulta_beauty = ulta_beauty.dropna(subset=['text'])\n",
    "ulta_beauty = ulta_beauty[ulta_beauty['text'].apply(lambda x: isinstance(x, str))]"
   ]
  },
  {
   "cell_type": "code",
   "execution_count": 5,
   "metadata": {},
   "outputs": [
    {
     "name": "stderr",
     "output_type": "stream",
     "text": [
      "C:\\Users\\Grethel\\AppData\\Local\\Packages\\PythonSoftwareFoundation.Python.3.11_qbz5n2kfra8p0\\LocalCache\\local-packages\\Python311\\site-packages\\transformers\\models\\auto\\auto_factory.py:472: FutureWarning: The `use_auth_token` argument is deprecated and will be removed in v5 of Transformers. Please use `token` instead.\n",
      "  warnings.warn(\n",
      "C:\\Users\\Grethel\\AppData\\Local\\Packages\\PythonSoftwareFoundation.Python.3.11_qbz5n2kfra8p0\\LocalCache\\local-packages\\Python311\\site-packages\\transformers\\models\\auto\\tokenization_auto.py:690: FutureWarning: The `use_auth_token` argument is deprecated and will be removed in v5 of Transformers. Please use `token` instead.\n",
      "  warnings.warn(\n"
     ]
    }
   ],
   "source": [
    "model = AutoModelForSequenceClassification.from_pretrained(\"Kaludi/Reviews-Sentiment-Analysis\", use_auth_token=False)\n",
    "tokenizer = AutoTokenizer.from_pretrained(\"Kaludi/Reviews-Sentiment-Analysis\", use_auth_token=False)"
   ]
  },
  {
   "cell_type": "code",
   "execution_count": 6,
   "metadata": {},
   "outputs": [
    {
     "name": "stdout",
     "output_type": "stream",
     "text": [
      "0    0\n",
      "1    1\n",
      "2    1\n",
      "3    1\n",
      "4    1\n",
      "5    0\n",
      "6    1\n",
      "7    0\n",
      "8    0\n",
      "9    0\n",
      "Name: sentiment, dtype: int64\n",
      "El modelo se entreno correctamente\n"
     ]
    }
   ],
   "source": [
    "def analyze_sentiment(review):\n",
    "    inputs = tokenizer(review, return_tensors=\"pt\")\n",
    "    outputs = model(**inputs)\n",
    "    predicted_label = torch.argmax(outputs.logits, dim=1).item()\n",
    "    return predicted_label\n",
    "\n",
    "# Apply the function to the 'text' column of ulta_beauty\n",
    "ulta_beauty['sentiment'] = ulta_beauty['text'].apply(lambda x: analyze_sentiment(x))\n",
    "ulta_beauty['sentiment_label'] = ulta_beauty['sentiment'].apply(lambda x: 'positive' if x == 1 else 'negative')\n",
    "print(ulta_beauty['sentiment'])\n",
    "print('El modelo se entreno correctamente')"
   ]
  }
 ],
 "metadata": {
  "kernelspec": {
   "display_name": "Python 3",
   "language": "python",
   "name": "python3"
  },
  "language_info": {
   "codemirror_mode": {
    "name": "ipython",
    "version": 3
   },
   "file_extension": ".py",
   "mimetype": "text/x-python",
   "name": "python",
   "nbconvert_exporter": "python",
   "pygments_lexer": "ipython3",
   "version": "3.11.7"
  }
 },
 "nbformat": 4,
 "nbformat_minor": 2
}
